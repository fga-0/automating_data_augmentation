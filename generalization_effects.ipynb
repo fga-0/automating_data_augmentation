{
 "cells": [
  {
   "cell_type": "markdown",
   "metadata": {},
   "source": [
    "# Generalization effects of linear transformations"
   ]
  },
  {
   "cell_type": "markdown",
   "metadata": {},
   "source": [
    "Let us take a step back and have a look at a theoretical framework in order to understand data augmentation better."
   ]
  },
  {
   "cell_type": "markdown",
   "metadata": {},
   "source": [
    "This theoretical chapter will eventually give birth to another algorithm that stands as a well-balanced trade-off between heavy Reinforcement Learning and Random methods."
   ]
  },
  {
   "cell_type": "markdown",
   "metadata": {},
   "source": [
    "The algrithm uses biased-sampling in order to select useful transformations more efficiently."
   ]
  },
  {
   "cell_type": "markdown",
   "metadata": {},
   "source": [
    "## Problem formulation"
   ]
  },
  {
   "cell_type": "markdown",
   "metadata": {},
   "source": [
    "### Setting"
   ]
  },
  {
   "cell_type": "markdown",
   "metadata": {},
   "source": [
    "### Question"
   ]
  },
  {
   "cell_type": "markdown",
   "metadata": {},
   "source": [
    "How does adding transformed samples impact the ridge estimator's generalization error ?"
   ]
  },
  {
   "cell_type": "markdown",
   "metadata": {},
   "source": [
    "We will consider 3 categories of transformations which are : \n",
    "\n",
    "    1. label-invariant transformations\n",
    "    2. label-mixing transformations\n",
    "    3. composition of transformations"
   ]
  },
  {
   "cell_type": "markdown",
   "metadata": {},
   "source": [
    "### Label-invariant transformations"
   ]
  },
  {
   "cell_type": "markdown",
   "metadata": {},
   "source": [
    "#### Examples"
   ]
  },
  {
   "cell_type": "markdown",
   "metadata": {},
   "source": [
    "#### Formulation"
   ]
  },
  {
   "cell_type": "markdown",
   "metadata": {},
   "source": [
    "#### Generalization effects"
   ]
  },
  {
   "cell_type": "markdown",
   "metadata": {},
   "source": [
    "### Label-mixing transformations"
   ]
  },
  {
   "cell_type": "markdown",
   "metadata": {},
   "source": [
    "#### Examples"
   ]
  },
  {
   "cell_type": "markdown",
   "metadata": {},
   "source": [
    "#### Formulation"
   ]
  },
  {
   "cell_type": "markdown",
   "metadata": {},
   "source": [
    "#### Generalization effects"
   ]
  },
  {
   "cell_type": "markdown",
   "metadata": {},
   "source": [
    "### Composition of transformations"
   ]
  },
  {
   "cell_type": "markdown",
   "metadata": {},
   "source": [
    "#### Examples"
   ]
  },
  {
   "cell_type": "markdown",
   "metadata": {},
   "source": [
    "#### Formulation"
   ]
  },
  {
   "cell_type": "markdown",
   "metadata": {},
   "source": [
    "#### Generalization effects"
   ]
  },
  {
   "cell_type": "markdown",
   "metadata": {},
   "source": []
  },
  {
   "cell_type": "markdown",
   "metadata": {},
   "source": [
    "# Uncertainty-based sampling of transformations"
   ]
  },
  {
   "cell_type": "markdown",
   "metadata": {},
   "source": [
    "Let us try to implement this algorithm referred as UBS in the following."
   ]
  },
  {
   "cell_type": "code",
   "execution_count": null,
   "metadata": {},
   "outputs": [],
   "source": []
  },
  {
   "cell_type": "markdown",
   "metadata": {},
   "source": [
    "Default transformations are a fixed set of transformations applied on top of the sampled transformations.They act as a **baseline augmentation strategy** that is always used. Their role is likely to **maintain consistency across transformations**, ensuring that each sample undergoes a minimum level of augmentation."
   ]
  },
  {
   "cell_type": "code",
   "execution_count": 6,
   "metadata": {},
   "outputs": [],
   "source": [
    "import torch\n",
    "import torchvision.transforms as transforms\n",
    "import random\n",
    "import numpy as np\n",
    "import utils\n",
    "from torch.utils.data import Subset, DataLoader\n",
    "import torchvision\n",
    "import torch.optim as optim"
   ]
  },
  {
   "cell_type": "code",
   "execution_count": null,
   "metadata": {},
   "outputs": [],
   "source": [
    "def uncertainty_based_sampling(\n",
    "    batch, # B data points (x1,y1), ..., (xB, yB)\n",
    "    F_transformations, # K transformations F1, ..., FK\n",
    "    G_default_transformations, # G default transformations \n",
    "    model, \n",
    "    loss_function,\n",
    "    L, # the number of composition steps\n",
    "    C, # number of augmented data per input data\n",
    "    S, # number of selected data points used for training\n",
    "    device\n",
    "    ) : \n",
    "\n",
    "    model.eval()\n",
    "    images, labels = batch\n",
    "    images, labels = images.to(device), labels.to(device)\n",
    "    \n",
    "    selected_samples = []  # Store selected high-uncertainty samples\n",
    "    \n",
    "    with torch.no_grad():\n",
    "        for i in range(len(images)):  # Loop over each image in batch\n",
    "            augmented_samples = []\n",
    "            loss_values = []\n",
    "            \n",
    "            for _ in range(C):  # Create C augmented versions\n",
    "                transformed_img = images[i].cpu()\n",
    "\n",
    "                # Apply L random transformations\n",
    "                transforms_list = random.sample(F_transformations, L)\n",
    "                transform_pipeline = transforms.Compose(transforms_list + [G_default_transformations])\n",
    "                \n",
    "                transformed_img = transform_pipeline(transformed_img)\n",
    "                transformed_img = transformed_img.to(device).unsqueeze(0)  # Add batch dim\n",
    "                \n",
    "                # Compute loss\n",
    "                output = model(transformed_img)\n",
    "                loss = loss_function(output, labels[i].unsqueeze(0))\n",
    "                \n",
    "                augmented_samples.append(transformed_img)\n",
    "                loss_values.append(loss.item())\n",
    "\n",
    "            # Select the top S samples with highest loss\n",
    "            top_s_indices = np.argsort(-np.array(loss_values))[:S]\n",
    "            selected_samples.extend([augmented_samples[idx] for idx in top_s_indices])\n",
    "\n",
    "    return selected_samples  # Return S most uncertain augmented samples"
   ]
  },
  {
   "cell_type": "code",
   "execution_count": null,
   "metadata": {},
   "outputs": [],
   "source": [
    "path_to_data = \"./cifar10\""
   ]
  },
  {
   "cell_type": "code",
   "execution_count": null,
   "metadata": {},
   "outputs": [],
   "source": [
    "# from google.colab import drive\n",
    "# drive.mount('/content/drive')\n",
    "# path_to_data = \"drive/MyDrive/SDD/data_augmentation/cifar10\""
   ]
  },
  {
   "cell_type": "code",
   "execution_count": null,
   "metadata": {},
   "outputs": [],
   "source": [
    "transform = transforms.Compose([\n",
    "    transforms.Resize(224),\n",
    "    transforms.ToTensor(),\n",
    "    transforms.Normalize(mean=[0.485, 0.456, 0.406], std=[0.229, 0.224, 0.225]),  # ImageNet normalization\n",
    "    # transforms.Normalize((0.5,), (0.5,))\n",
    "])\n",
    "\n",
    "trainset = torchvision.datasets.CIFAR10(root=path_to_data, train=True, download=True, transform=transform)\n",
    "\n",
    "batch_length = int(0.5*len(trainset))  # the training set will be enriched by 50%\n",
    "\n",
    "# Randomly select indices\n",
    "indices = np.random.choice(len(trainset), batch_length, replace=False)\n",
    "\n",
    "# Create the bach\n",
    "batch = Subset(trainset, indices)"
   ]
  },
  {
   "cell_type": "code",
   "execution_count": null,
   "metadata": {},
   "outputs": [],
   "source": [
    "F_transformations = [\n",
    "    transforms.CenterCrop(size=16),\n",
    "    transforms.RandomCrop(size=16),\n",
    "    transforms.ColorJitter(brightness=0.3, contrast=0.3),\n",
    "    transforms.RandomHorizontalFlip(p=0.5),\n",
    "    transforms.RandomVerticalFlip(p=0.5),\n",
    "    transforms.RandomRotation(45),\n",
    "    transforms.RandomAffine(degrees=45, translate=(0.2, 0.2), shear=15),\n",
    "    transforms.GaussianBlur(kernel_size=3),\n",
    "    transforms.RandomInvert(p=0.5),\n",
    "    transforms.RandomSolarize(-0.1, p=0.5),\n",
    "    transforms.RandomAutocontrast(p=0.5),\n",
    "    transforms.RandomAdjustSharpness(sharpness_factor=2, p=0.5)\n",
    "]"
   ]
  },
  {
   "cell_type": "code",
   "execution_count": null,
   "metadata": {},
   "outputs": [],
   "source": [
    "G_default_transformations = [] # these transformations are applied when loading the data calling torchvision.datasets.CIFAR10(..., transform=transform)"
   ]
  },
  {
   "cell_type": "code",
   "execution_count": 4,
   "metadata": {},
   "outputs": [
    {
     "name": "stderr",
     "output_type": "stream",
     "text": [
      "/home/flo/miniconda3/envs/data_augmentation_env/lib/python3.9/site-packages/torchvision/models/_utils.py:208: UserWarning: The parameter 'pretrained' is deprecated since 0.13 and may be removed in the future, please use 'weights' instead.\n",
      "  warnings.warn(\n",
      "/home/flo/miniconda3/envs/data_augmentation_env/lib/python3.9/site-packages/torchvision/models/_utils.py:223: UserWarning: Arguments other than a weight enum or `None` for 'weights' are deprecated since 0.13 and may be removed in the future. The current behavior is equivalent to passing `weights=Wide_ResNet50_2_Weights.IMAGENET1K_V1`. You can also use `weights=Wide_ResNet50_2_Weights.DEFAULT` to get the most up-to-date weights.\n",
      "  warnings.warn(msg)\n"
     ]
    },
    {
     "name": "stdout",
     "output_type": "stream",
     "text": [
      "Linear(in_features=2048, out_features=10, bias=True)\n",
      "Using device: cpu\n"
     ]
    }
   ],
   "source": [
    "from torchvision.models import wide_resnet50_2\n",
    "import torch.nn as nn\n",
    "\n",
    "# Load Wide ResNet model\n",
    "device = torch.device(\"cuda\" if torch.cuda.is_available() else \"cpu\")\n",
    "# Load a pre-trained Wide ResNet-50-2 model:\n",
    "wrn = wide_resnet50_2(pretrained=True)\n",
    "# Freeze all model parameters except for the final layer:\n",
    "for param in wrn.parameters():\n",
    "    param.requires_grad = False\n",
    "# Get the number of input features for the original last layer:\n",
    "num_feature = wrn.fc.in_features\n",
    "# Replace the final classification layer to match your dataset:\n",
    "wrn.fc = nn.Linear(num_feature, 10)\n",
    "# View the structure of the new final layer (optional):\n",
    "print(wrn.fc)\n",
    "# Move the model to the GPU for accelerated training:\n",
    "wrn = wrn.to(device)\n",
    "print(f\"Using device: {device}\")"
   ]
  },
  {
   "cell_type": "code",
   "execution_count": null,
   "metadata": {},
   "outputs": [],
   "source": [
    "loss_function = nn.CrossEntropyLoss()"
   ]
  },
  {
   "cell_type": "code",
   "execution_count": null,
   "metadata": {},
   "outputs": [],
   "source": [
    "augmented_samples = uncertainty_based_sampling(\n",
    "    batch=batch,\n",
    "    F_transformations=F_transformations,\n",
    "    G_default_transformations=G_default_transformations,\n",
    "    model=wrn_trained_on_raw_data, \n",
    "    loss_function=loss_function,\n",
    "    L=2, # the number of composition steps\n",
    "    C=int(round(len(batch)/2)), # number of augmented data per input data\n",
    "    S=int(round(len(batch)/4)), # number of selected data points used for training\n",
    "    device=device\n",
    "    ) "
   ]
  },
  {
   "cell_type": "code",
   "execution_count": null,
   "metadata": {},
   "outputs": [],
   "source": [
    "UBS_train_loader_aug = DataLoader(augmented_samples, batch_size=32, shuffle=True)"
   ]
  },
  {
   "cell_type": "markdown",
   "metadata": {},
   "source": [
    "Now let's train the model on the augmented data."
   ]
  },
  {
   "cell_type": "code",
   "execution_count": null,
   "metadata": {},
   "outputs": [],
   "source": [
    "optimizer = optim.Adam(wrn.fc.parameters(), lr=0.001)\n",
    "# Learning rate scheduler for better convergence\n",
    "scheduler = optim.lr_scheduler.CosineAnnealingLR(optimizer, T_max=200)\n",
    "criterion = nn.CrossEntropyLoss()"
   ]
  },
  {
   "cell_type": "code",
   "execution_count": 5,
   "metadata": {},
   "outputs": [
    {
     "data": {
      "text/plain": [
       "8"
      ]
     },
     "execution_count": 5,
     "metadata": {},
     "output_type": "execute_result"
    }
   ],
   "source": [
    "wrn_trained_on_UBS_transformed_data = utils.train_WideResNet(model=wrn_trained_on_raw_data, trainloader=UBS_train_loader_aug, num_epochs=5, batch_size=32, optimizer=optimizer, criterion=criterion, device=device, scheduler=scheduler)"
   ]
  },
  {
   "cell_type": "code",
   "execution_count": null,
   "metadata": {},
   "outputs": [],
   "source": []
  }
 ],
 "metadata": {
  "kernelspec": {
   "display_name": "data_augmentation_env",
   "language": "python",
   "name": "python3"
  },
  "language_info": {
   "codemirror_mode": {
    "name": "ipython",
    "version": 3
   },
   "file_extension": ".py",
   "mimetype": "text/x-python",
   "name": "python",
   "nbconvert_exporter": "python",
   "pygments_lexer": "ipython3",
   "version": "3.9.21"
  }
 },
 "nbformat": 4,
 "nbformat_minor": 2
}
