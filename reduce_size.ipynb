{
 "cells": [
  {
   "cell_type": "code",
   "execution_count": null,
   "metadata": {},
   "outputs": [],
   "source": [
    "import torch\n",
    "import torch.nn.utils.prune as prune\n",
    "from utils import load_Wide_Residual_Network\n",
    "\n",
    "device = torch.device(\"cuda\" if torch.cuda.is_available() else \"cpu\")\n",
    "test_model = load_Wide_Residual_Network(device=device, path=\"./models/wrn_trained_on_raw_data/wrn_trained_on_raw_data\")\n",
    "\n",
    "for name, module in test_model.named_modules():\n",
    "    if hasattr(module, \"weight\"):\n",
    "        prune.l1_unstructured(module, name=\"weight\", amount=0.4)  # Adjust pruning percentage\n",
    "        prune.remove(module, \"weight\")  # Remove mask to reduce size\n",
    "torch.save(test_model.state_dict(), \"pruned_model.pth\")"
   ]
  }
 ],
 "metadata": {
  "kernelspec": {
   "display_name": "data_augmentation_env",
   "language": "python",
   "name": "python3"
  },
  "language_info": {
   "name": "python",
   "version": "3.9.21"
  }
 },
 "nbformat": 4,
 "nbformat_minor": 2
}
