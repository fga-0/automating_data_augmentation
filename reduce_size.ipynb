{
 "cells": [
  {
   "cell_type": "code",
   "execution_count": 2,
   "metadata": {},
   "outputs": [
    {
     "name": "stdout",
     "output_type": "stream",
     "text": [
      "Linear(in_features=2048, out_features=10, bias=True)\n"
     ]
    }
   ],
   "source": [
    "import torch\n",
    "import torch.nn.utils.prune as prune\n",
    "from utils import load_Wide_Residual_Network\n",
    "\n",
    "device = torch.device(\"cuda\" if torch.cuda.is_available() else \"cpu\")\n",
    "test_model = load_Wide_Residual_Network(device=device, path=\"./models/wrn_trained_on_raw_data/wrn_trained_on_raw_data\")\n",
    "\n",
    "# for name, module in test_model.named_modules():\n",
    "#     if hasattr(module, \"weight\"):\n",
    "#         prune.l1_unstructured(module, name=\"weight\", amount=0.4)  # Adjust pruning percentage\n",
    "#         prune.remove(module, \"weight\")  # Remove mask to reduce size\n",
    "# torch.save(test_model.state_dict(), \"pruned_model.pth\")"
   ]
  },
  {
   "cell_type": "code",
   "execution_count": 3,
   "metadata": {},
   "outputs": [],
   "source": [
    "test_model.eval()\n",
    "quantized_model = torch.quantization.quantize_dynamic(test_model, {torch.nn.Linear}, dtype=torch.qint8)\n",
    "torch.save(quantized_model.state_dict(), \"quantized_model.pth\")"
   ]
  },
  {
   "cell_type": "code",
   "execution_count": null,
   "metadata": {},
   "outputs": [],
   "source": []
  }
 ],
 "metadata": {
  "kernelspec": {
   "display_name": "data_augmentation_env",
   "language": "python",
   "name": "python3"
  },
  "language_info": {
   "codemirror_mode": {
    "name": "ipython",
    "version": 3
   },
   "file_extension": ".py",
   "mimetype": "text/x-python",
   "name": "python",
   "nbconvert_exporter": "python",
   "pygments_lexer": "ipython3",
   "version": "3.9.21"
  }
 },
 "nbformat": 4,
 "nbformat_minor": 2
}
