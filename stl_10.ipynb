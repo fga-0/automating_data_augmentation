{
  "cells": [
    {
      "cell_type": "markdown",
      "metadata": {},
      "source": [
        "[![Open In Colab](https://colab.research.google.com/assets/colab-badge.svg)](https://colab.research.google.com/github/fga-0/automating_data_augmentation/blob/main/stl_10.ipynb)"
      ]
    },
    {
      "cell_type": "markdown",
      "metadata": {
        "id": "x2GzoN7S8KPt"
      },
      "source": [
        "# Chargement des données STL10"
      ]
    },
    {
      "cell_type": "markdown",
      "metadata": {
        "id": "LD6OVXs-8KP3"
      },
      "source": [
        " STL10 contient 5000 images d'entraînement et 8000 images de test."
      ]
    },
    {
      "cell_type": "code",
      "execution_count": 1,
      "metadata": {
        "id": "KsFDu7Uj8KP5"
      },
      "outputs": [],
      "source": [
        "# path_to_data = \"./STL10_9696\"\n",
        "path_to_data = \"./STL10\""
      ]
    },
    {
      "cell_type": "code",
      "execution_count": 3,
      "metadata": {
        "id": "Ep6uMdVn8KP9"
      },
      "outputs": [
        {
          "name": "stdout",
          "output_type": "stream",
          "text": [
            "Files already downloaded and verified\n",
            "Files already downloaded and verified\n"
          ]
        }
      ],
      "source": [
        "import torch\n",
        "import torchvision.transforms as transforms\n",
        "import torchvision.datasets as datasets\n",
        "from torch.utils.data import DataLoader\n",
        "import torchvision.models as models\n",
        "\n",
        "\n",
        "# Transformations basiques sans augmentation\n",
        "transform_base = transforms.Compose([\n",
        "    transforms.Resize((32, 32)),  # Redimensionnement pour le modèle\n",
        "    transforms.ToTensor(),\n",
        "    transforms.Normalize((0.5,), (0.5,))  # Normalisation\n",
        "])\n",
        "\n",
        "# Chargement du dataset STL10\n",
        "# Les images STL10 sont de dimension 96x96.\n",
        "trainset = datasets.STL10(root=path_to_data, split='train', download=True, transform=transform_base)\n",
        "testset = datasets.STL10(root=path_to_data, split='test', download=True, transform=transform_base)\n",
        "\n",
        "# print(f\"Dataset STL10 chargé: {len(trainset)} images d'entraînement, {len(testset)} images de test\")\n"
      ]
    },
    {
      "cell_type": "code",
      "execution_count": 3,
      "metadata": {
        "colab": {
          "base_uri": "https://localhost:8080/"
        },
        "id": "N0G5snIUB9eX",
        "outputId": "bd8a5a78-7904-41f2-bc51-f48538149424"
      },
      "outputs": [
        {
          "name": "stdout",
          "output_type": "stream",
          "text": [
            "Mounted at /content/drive\n"
          ]
        }
      ],
      "source": [
        "# from google.colab import drive\n",
        "# drive.mount('/content/drive')\n",
        "# path_to_drive_data = \"drive/MyDrive/SDD/data_augmentation/STL10\""
      ]
    },
    {
      "cell_type": "code",
      "execution_count": 94,
      "metadata": {
        "id": "8EHam250B-kG"
      },
      "outputs": [],
      "source": [
        "# trainset = datasets.STL10(root=path_to_drive_data, split='train', download=False, transform=transform_base)\n",
        "# testset = datasets.STL10(root=path_to_drive_data, split='test', download=False, transform=transform_base)"
      ]
    },
    {
      "cell_type": "code",
      "execution_count": 4,
      "metadata": {
        "colab": {
          "base_uri": "https://localhost:8080/"
        },
        "id": "Wr4u6J40NtE2",
        "outputId": "3cd64c1a-0d13-40c3-d169-7f3dfe712c22"
      },
      "outputs": [],
      "source": [
        "test_loader = DataLoader(testset, batch_size=128, shuffle=True, num_workers=4)"
      ]
    },
    {
      "cell_type": "code",
      "execution_count": 33,
      "metadata": {
        "id": "VR-uVvW0GlPV"
      },
      "outputs": [],
      "source": [
        "# trainset = trainset_\n",
        "# testset = testset_"
      ]
    },
    {
      "cell_type": "code",
      "execution_count": 5,
      "metadata": {
        "id": "9M1O1wUT8KQB"
      },
      "outputs": [],
      "source": [
        "import matplotlib.pyplot as plt\n",
        "import numpy as np"
      ]
    },
    {
      "cell_type": "code",
      "execution_count": 6,
      "metadata": {
        "colab": {
          "base_uri": "https://localhost:8080/",
          "height": 485
        },
        "id": "ZWu6fCux8KQD",
        "outputId": "cdd2cc8c-e787-4c28-a946-e28510430f91"
      },
      "outputs": [
        {
          "name": "stderr",
          "output_type": "stream",
          "text": [
            "Clipping input data to the valid range for imshow with RGB data ([0..1] for floats or [0..255] for integers). Got range [-0.75686276..0.92156863].\n"
          ]
        },
        {
          "data": {
            "text/plain": [
              "<matplotlib.image.AxesImage at 0x7f927c4ff2b0>"
            ]
          },
          "execution_count": 6,
          "metadata": {},
          "output_type": "execute_result"
        },
        {
          "data": {
            "image/png": "[encoded data removed]",
            "text/plain": [
              "<Figure size 640x480 with 1 Axes>"
            ]
          },
          "metadata": {},
          "output_type": "display_data"
        }
      ],
      "source": [
        "# plt.imshow(trainset[0][0])\n",
        "plt.imshow(np.transpose(trainset[4][0],(1,2,0)))"
      ]
    },
    {
      "cell_type": "markdown",
      "metadata": {},
      "source": [
        "# Entraînement sur les données brutes"
      ]
    },
    {
      "cell_type": "markdown",
      "metadata": {},
      "source": [
        "On va utiliser un modèle resnet18 afin de comparer les résultats d'une tâche de classification réalisée sur des données brutes puis augmentées."
      ]
    },
    {
      "cell_type": "code",
      "execution_count": null,
      "metadata": {},
      "outputs": [],
      "source": [
        "device = torch.device(\"cuda\" if torch.cuda.is_available() else \"cpu\")"
      ]
    },
    {
      "cell_type": "code",
      "execution_count": null,
      "metadata": {},
      "outputs": [],
      "source": [
        "main_model = models.resnet18(pretrained=True)\n",
        "num_features = main_model.fc.in_features\n",
        "main_model.fc = torch.nn.Linear(num_features, 10) # adapting the last layer to the dataset (STL10) [10 classes].\n",
        "main_model = main_model.to(device)"
      ]
    },
    {
      "cell_type": "code",
      "execution_count": null,
      "metadata": {},
      "outputs": [],
      "source": [
        "import torch.optim as optim\n",
        "\n",
        "# Définir la fonction de perte et l'optimiseur\n",
        "criterion = torch.nn.CrossEntropyLoss()\n",
        "optimizer = optim.Adam(main_model.parameters(), lr=0.001)\n",
        "\n",
        "# Boucle d'entraînement\n",
        "def train_main_model(model, train_loader, criterion, optimizer, device):\n",
        "    model.train()\n",
        "    for images, labels in train_loader:\n",
        "        images, labels = images.to(device), labels.to(device)\n",
        "\n",
        "        optimizer.zero_grad()\n",
        "        outputs = model(images)\n",
        "        loss = criterion(outputs, labels)\n",
        "        loss.backward()\n",
        "        optimizer.step()\n"
      ]
    },
    {
      "cell_type": "markdown",
      "metadata": {
        "id": "8EmYYDdl8KQL"
      },
      "source": [
        "# Génération des Politiques d’Augmentation"
      ]
    },
    {
      "cell_type": "markdown",
      "metadata": {
        "id": "GcaORXBJ8KQM"
      },
      "source": [
        "On convertit la sortie du LSTM en transformations dynamiques."
      ]
    },
    {
      "cell_type": "markdown",
      "metadata": {
        "id": "B7XgKPAQ8KQM"
      },
      "source": [
        "Seules certaines transformations sont appliquées selon la politique générée."
      ]
    },
    {
      "cell_type": "code",
      "execution_count": 7,
      "metadata": {
        "id": "A5U0njFm5fp9"
      },
      "outputs": [],
      "source": [
        "images_size = trainset[0][0].shape[1] # if 32 : images are squares of 32x32\n",
        "\n",
        "augmentations = [\n",
        "    transforms.CenterCrop(size=16),\n",
        "    transforms.RandomCrop(size=16),\n",
        "    transforms.ColorJitter(brightness=0.3, contrast=0.3),\n",
        "    transforms.RandomHorizontalFlip(p=0.5),\n",
        "    transforms.RandomVerticalFlip(p=0.5),\n",
        "    transforms.RandomRotation(45),\n",
        "    transforms.RandomAffine(degrees=45, translate=(0.2, 0.2), shear=15),\n",
        "    transforms.GaussianBlur(kernel_size=3),\n",
        "    transforms.RandomInvert(p=0.5),\n",
        "    transforms.RandomSolarize(-0.1, p=0.5),\n",
        "    transforms.RandomAutocontrast(p=0.5),\n",
        "    transforms.RandomAdjustSharpness(sharpness_factor=2, p=0.5)\n",
        "]"
      ]
    },
    {
      "cell_type": "code",
      "execution_count": 8,
      "metadata": {
        "colab": {
          "base_uri": "https://localhost:8080/"
        },
        "id": "mNdkM3EVKb9x",
        "outputId": "2693ff8a-4315-43c1-e537-9193f319a5ee"
      },
      "outputs": [
        {
          "data": {
            "text/plain": [
              "12"
            ]
          },
          "execution_count": 8,
          "metadata": {},
          "output_type": "execute_result"
        }
      ],
      "source": [
        "len(augmentations)"
      ]
    },
    {
      "cell_type": "code",
      "execution_count": 9,
      "metadata": {
        "id": "-vFYOyW05hIw"
      },
      "outputs": [],
      "source": [
        "def plot_transformed_image(image, transformation) :\n",
        "  transformed_image = transformation(image)\n",
        "  plt.imshow(np.transpose(transformed_image, (1,2,0)))"
      ]
    },
    {
      "cell_type": "code",
      "execution_count": 10,
      "metadata": {
        "colab": {
          "base_uri": "https://localhost:8080/",
          "height": 430
        },
        "id": "ufZm41MG6L_E",
        "outputId": "4672dc27-ca0f-4bbf-c090-6f90fa329116"
      },
      "outputs": [
        {
          "name": "stderr",
          "output_type": "stream",
          "text": [
            "Clipping input data to the valid range for imshow with RGB data ([0..1] for floats or [0..255] for integers). Got range [-0.75686276..0.92156863].\n"
          ]
        },
        {
          "data": {
            "image/png": "[encoded data removed]",
            "text/plain": [
              "<Figure size 640x480 with 1 Axes>"
            ]
          },
          "metadata": {},
          "output_type": "display_data"
        }
      ],
      "source": [
        "plot_transformed_image(trainset[4][0], augmentations[11])"
      ]
    },
    {
      "cell_type": "code",
      "execution_count": 11,
      "metadata": {
        "colab": {
          "base_uri": "https://localhost:8080/",
          "height": 485
        },
        "id": "wLR7l55G4uGs",
        "outputId": "232c5db3-ce56-4960-f562-d35c020e63b9"
      },
      "outputs": [
        {
          "name": "stderr",
          "output_type": "stream",
          "text": [
            "Clipping input data to the valid range for imshow with RGB data ([0..1] for floats or [0..255] for integers). Got range [-0.75686276..0.92156863].\n"
          ]
        },
        {
          "data": {
            "text/plain": [
              "<matplotlib.image.AxesImage at 0x7f927c2f5610>"
            ]
          },
          "execution_count": 11,
          "metadata": {},
          "output_type": "execute_result"
        },
        {
          "data": {
            "image/png": "[encoded data removed]",
            "text/plain": [
              "<Figure size 640x480 with 1 Axes>"
            ]
          },
          "metadata": {},
          "output_type": "display_data"
        }
      ],
      "source": [
        "plt.imshow(np.transpose(transforms.CenterCrop(size=32)(trainset[4][0]), (1,2,0)))"
      ]
    },
    {
      "cell_type": "code",
      "execution_count": 12,
      "metadata": {
        "id": "ObRZf1lR8KQN"
      },
      "outputs": [],
      "source": [
        "import random\n",
        "\n",
        "def apply_augmentations(image,\n",
        "                        policy,\n",
        "                        replace : bool, # this argument is used to specify if the data should be replaced by the augmented data or enriched.\n",
        "                        augmentations\n",
        "                        ):\n",
        "    image_aug = image\n",
        "\n",
        "    for i, aug in enumerate(augmentations):\n",
        "        if policy[i] > 0.5:  # Seuil pour activer une transformation\n",
        "            image_aug = aug(image)\n",
        "    if replace :\n",
        "        return image_aug\n",
        "    else :\n",
        "        return image, image_aug\n"
      ]
    },
    {
      "cell_type": "markdown",
      "metadata": {
        "id": "GjwDvzLr8KQF"
      },
      "source": [
        "# Définition de l'agent LSTM"
      ]
    },
    {
      "cell_type": "markdown",
      "metadata": {
        "id": "WwmKLP9P8KQH"
      },
      "source": [
        "Ce LSTM prend en entrée un vecteur aléatoire et génère une politique d'augmentation."
      ]
    },
    {
      "cell_type": "markdown",
      "metadata": {
        "id": "py5rt7ui8KQI"
      },
      "source": [
        "Ce LSTM génère une politique d'augmentation sous forme de 5 nombres entre 0 et 1."
      ]
    },
    {
      "cell_type": "code",
      "execution_count": 13,
      "metadata": {
        "colab": {
          "base_uri": "https://localhost:8080/"
        },
        "id": "tqLaN5T88KQJ",
        "outputId": "902e472b-9839-4436-d518-c5babd17f40c"
      },
      "outputs": [
        {
          "data": {
            "text/plain": [
              "False"
            ]
          },
          "execution_count": 13,
          "metadata": {},
          "output_type": "execute_result"
        }
      ],
      "source": [
        "torch.cuda.is_available()"
      ]
    },
    {
      "cell_type": "code",
      "execution_count": 14,
      "metadata": {
        "id": "0dJVkMPv8KQK"
      },
      "outputs": [],
      "source": [
        "import torch.nn as nn\n",
        "import torch\n",
        "\n",
        "class AutoAugmentLSTM(nn.Module):\n",
        "    def __init__(self, input_size=len(augmentations), hidden_size=128, num_layers=2, output_size=len(augmentations)):\n",
        "        super(AutoAugmentLSTM, self).__init__()\n",
        "        self.lstm = nn.LSTM(input_size, hidden_size, num_layers, batch_first=True)\n",
        "        self.fc = nn.Linear(hidden_size, output_size)\n",
        "\n",
        "    def forward(self, x):\n",
        "        out, _ = self.lstm(x)\n",
        "        out = self.fc(out[:, -1, :])  # Dernière sortie de la séquence\n",
        "        return torch.sigmoid(out)  # Convertir en probabilités entre 0 et 1\n",
        "\n",
        "lstm = AutoAugmentLSTM().to(device)\n",
        "# lstm = AutoAugmentLSTM().cuda()\n"
      ]
    },
    {
      "cell_type": "markdown",
      "metadata": {
        "id": "NmZuK9V_8KQO"
      },
      "source": [
        "# Modèle Proxy pour Tester les Augmentations"
      ]
    },
    {
      "cell_type": "markdown",
      "metadata": {
        "id": "LR2NNMXI8KQO"
      },
      "source": [
        "On entraîne un CNN léger (ResNet18) sur les données augmentées."
      ]
    },
    {
      "cell_type": "markdown",
      "metadata": {
        "id": "V-Ef3yQs8KQP"
      },
      "source": [
        "Ce modèle proxy nous permet de tester si une politique d’augmentation améliore l'entraînement."
      ]
    },
    {
      "cell_type": "code",
      "execution_count": 15,
      "metadata": {
        "id": "no08wKwo_onP"
      },
      "outputs": [],
      "source": [
        "from tqdm import tqdm\n",
        "import torchvision.models as models"
      ]
    },
    {
      "cell_type": "markdown",
      "metadata": {
        "id": "wQDS2azJ8KQP"
      },
      "source": [
        "### Un proxy simplissime"
      ]
    },
    {
      "cell_type": "markdown",
      "metadata": {
        "id": "2N687qR48KQQ"
      },
      "source": [
        "Performances :\n",
        "\n",
        "    RUN_0 :\n",
        "        images 32x32\n",
        "        batch_size=64\n",
        "        20%|██        | 1/5 [00:51<03:27, 51.93s/it] Epoch [1/5], Loss: 1.7010\n",
        "        num_worker=8"
      ]
    },
    {
      "cell_type": "code",
      "execution_count": 16,
      "metadata": {
        "id": "AWrwtPhM8KQQ"
      },
      "outputs": [],
      "source": [
        "output_size = 10  # there are 10 classes\n",
        "class SimpleCNN(nn.Module):\n",
        "    def __init__(self):\n",
        "        super(SimpleCNN, self).__init__()\n",
        "        self.conv1 = nn.Conv2d(3, 32, kernel_size=3, padding=1)\n",
        "        self.conv2 = nn.Conv2d(32, 64, kernel_size=3, padding=1)\n",
        "        self.fc1 = nn.Linear(32 * 8 * 8, 128)\n",
        "        self.fc2 = nn.Linear(128, 10)\n",
        "        self.pool = nn.MaxPool2d(2, 2)\n",
        "        self.relu = nn.ReLU()\n",
        "\n",
        "    def forward(self, x):\n",
        "        x = self.pool(self.relu(self.conv1(x)))\n",
        "        x = self.pool(self.relu(self.conv2(x)))\n",
        "        x = x.view(x.size(0), -1)\n",
        "        # print(x.shape)\n",
        "        x = self.relu(self.fc1(x))\n",
        "        x = self.fc2(x)\n",
        "        return x\n",
        "proxy_model=SimpleCNN().to(device)"
      ]
    },
    {
      "cell_type": "code",
      "execution_count": 17,
      "metadata": {
        "colab": {
          "base_uri": "https://localhost:8080/"
        },
        "id": "DvR6F_V8ZOzE",
        "outputId": "c61dc03c-e4c6-4dfc-aa09-77002f6a634d"
      },
      "outputs": [
        {
          "name": "stdout",
          "output_type": "stream",
          "text": [
            "SimpleCNN(\n",
            "  (conv1): Conv2d(3, 32, kernel_size=(3, 3), stride=(1, 1), padding=(1, 1))\n",
            "  (conv2): Conv2d(32, 64, kernel_size=(3, 3), stride=(1, 1), padding=(1, 1))\n",
            "  (pool): MaxPool2d(kernel_size=2, stride=2, padding=0, dilation=1, ceil_mode=False)\n",
            "  (fc1): Linear(in_features=4096, out_features=128, bias=True)\n",
            "  (fc2): Linear(in_features=128, out_features=10, bias=True)\n",
            ")\n"
          ]
        }
      ],
      "source": [
        "import torch\n",
        "import torch.nn as nn\n",
        "import torch.nn.functional as F\n",
        "\n",
        "# Définition du modèle\n",
        "class SimpleCNN(nn.Module):\n",
        "    def __init__(self):\n",
        "        super(SimpleCNN, self).__init__()\n",
        "\n",
        "        # Première couche de convolution : entrée 3 canaux (RGB), sortie 32 filtres 3x3\n",
        "        self.conv1 = nn.Conv2d(in_channels=3, out_channels=32, kernel_size=3, padding=1)\n",
        "        self.conv2 = nn.Conv2d(in_channels=32, out_channels=64, kernel_size=3, padding=1)\n",
        "\n",
        "        # MaxPooling 2x2 pour réduire la taille de l'image\n",
        "        self.pool = nn.MaxPool2d(kernel_size=2, stride=2)\n",
        "\n",
        "        # Couche entièrement connectée :\n",
        "        # L'entrée doit correspondre à la taille après convolutions + pooling\n",
        "        self.fc1 = nn.Linear(in_features=64 * 8 * 8, out_features=128)  # 64 cartes de 8x8\n",
        "        self.fc2 = nn.Linear(in_features=128, out_features=10)  # 10 classes\n",
        "        # Placeholder pour fc1 (on ajustera dynamiquement)\n",
        "        # self.fc1 = nn.Linear(1, 128)  # Placebo, on corrigera après\n",
        "        # self.fc2 = nn.Linear(128, 10)\n",
        "\n",
        "    def forward(self, x):\n",
        "        x = self.pool(F.relu(self.conv1(x)))  # Convolution + ReLU + MaxPooling\n",
        "        x = self.pool(F.relu(self.conv2(x)))  # Convolution + ReLU + MaxPooling\n",
        "        # print(f\"Taille après convolutions et pooling: {x.shape}\")\n",
        "\n",
        "        x = x.view(x.size(0), -1)  # Mise à plat (Flatten)\n",
        "        # print(f\"Taille après flatten: {x.shape}\")\n",
        "        x = F.relu(self.fc1(x))  # Couche entièrement connectée + ReLU\n",
        "        x = self.fc2(x)  # Dernière couche (sortie brute, non normalisée)\n",
        "\n",
        "        return x\n",
        "\n",
        "# Vérification du modèle\n",
        "# device = torch.device(\"cuda\" if torch.cuda.is_available() else \"cpu\")\n",
        "proxy_model=SimpleCNN().to(device)\n",
        "print(proxy_model)  # Affichage de la structure du modèle\n"
      ]
    },
    {
      "cell_type": "code",
      "execution_count": 59,
      "metadata": {
        "colab": {
          "base_uri": "https://localhost:8080/"
        },
        "id": "0JOhYYeGUfKI",
        "outputId": "117c3781-21c9-41b3-998a-e276746b73b5"
      },
      "outputs": [
        {
          "name": "stdout",
          "output_type": "stream",
          "text": [
            "SimpleCNN(\n",
            "  (conv1): Conv2d(3, 32, kernel_size=(3, 3), stride=(1, 1), padding=(1, 1))\n",
            "  (conv2): Conv2d(32, 64, kernel_size=(3, 3), stride=(1, 1), padding=(1, 1))\n",
            "  (fc1): Linear(in_features=3136, out_features=128, bias=True)\n",
            "  (fc2): Linear(in_features=128, out_features=10, bias=True)\n",
            "  (pool): MaxPool2d(kernel_size=2, stride=2, padding=0, dilation=1, ceil_mode=False)\n",
            "  (relu): ReLU()\n",
            ")\n"
          ]
        }
      ],
      "source": [
        "print(proxy_model)"
      ]
    },
    {
      "cell_type": "markdown",
      "metadata": {
        "id": "o6rLBcp18KQR"
      },
      "source": [
        "### Un proxy moins simple"
      ]
    },
    {
      "cell_type": "code",
      "execution_count": 18,
      "metadata": {
        "id": "2nSLmVD-8KQS"
      },
      "outputs": [],
      "source": [
        "import torchvision.models as models\n",
        "proxy_model = models.resnet18(num_classes=10).to(device)"
      ]
    },
    {
      "cell_type": "code",
      "execution_count": 19,
      "metadata": {
        "id": "kZgfzRjZ8KQT"
      },
      "outputs": [],
      "source": [
        "import torch.optim as optim\n",
        "from tqdm import tqdm\n",
        "\n",
        "criterion = nn.CrossEntropyLoss()\n",
        "optimizer = optim.Adam(proxy_model.parameters(), lr=0.001)\n",
        "\n",
        "def train_proxy_model(train_loader, model, criterion, optimizer, epochs=5):\n",
        "    model.train()\n",
        "    for epoch in tqdm(range(epochs)):\n",
        "        total_loss = 0\n",
        "        for images, labels in train_loader:\n",
        "            images, labels = images.to(device), labels.to(device)\n",
        "            optimizer.zero_grad()\n",
        "            outputs = model(images)\n",
        "            loss = criterion(outputs, labels)\n",
        "            loss.backward()\n",
        "            optimizer.step()\n",
        "            total_loss += loss.item()\n",
        "        print(f\"Epoch [{epoch+1}/{epochs}], Loss: {total_loss/len(train_loader):.4f}\")"
      ]
    },
    {
      "cell_type": "code",
      "execution_count": 20,
      "metadata": {
        "id": "r6zNgYKTNadZ"
      },
      "outputs": [],
      "source": [
        "def evaluate_proxy_model(model, test_loader):\n",
        "    model.eval()\n",
        "    with torch.no_grad() :\n",
        "      correct = 0\n",
        "      total = 0\n",
        "      total_loss = 0.0\n",
        "\n",
        "      for images, labels in test_loader :\n",
        "        images, labels = images.to(device), labels.to(device)\n",
        "        outputs = model(images)\n",
        "\n",
        "        loss = criterion(outputs, labels)\n",
        "        total_loss += loss.item()\n",
        "\n",
        "        _, predicted = torch.max(outputs.data, 1)\n",
        "        total += labels.size(0)\n",
        "        correct += (predicted == labels).sum().item()\n",
        "\n",
        "    accuracy = correct / total\n",
        "    avg_loss = total_loss /len(test_loader)\n",
        "    return accuracy, avg_loss"
      ]
    },
    {
      "cell_type": "markdown",
      "metadata": {
        "id": "K55et9C38KQU"
      },
      "source": [
        "# Boucle de Recherche pour Optimiser l’AutoAugment"
      ]
    },
    {
      "cell_type": "markdown",
      "metadata": {
        "id": "VJGV4_RY8KQU"
      },
      "source": [
        "On entraîne le LSTM en mettant à jour ses poids en fonction de l'amélioration des performances du modèle proxy."
      ]
    },
    {
      "cell_type": "markdown",
      "metadata": {
        "id": "9W7Ry1U38KQU"
      },
      "source": [
        "Perfromances :\n",
        "\n",
        "    RUN_0 :\n",
        "        images 96x96\n",
        "        batch_size=128\n",
        "        60%|██████    | 3/5 [02:47<01:52, 56.39s/it]Epoch [3/5], Loss: 1.1865\n",
        "        num_worker=4\n",
        "\n",
        "    RUN_1 :\n",
        "        images 32x32\n",
        "        batch_size=128\n",
        "        num_worker=4\n",
        "        40%|████      | 2/5 [01:55<02:53, 57.88s/it]\n",
        "\n",
        "    RUN_2 :\n",
        "        images 32x32\n",
        "        batch_size=64\n",
        "        num_worker=4\n",
        "        40%|████      | 2/5 [02:05<03:07, 62.54s/it]\n",
        "\n",
        "    RUN_3 :\n",
        "        images 32x32\n",
        "        batch_size=64\n",
        "        num_worker=8\n",
        "        20%|██        | 1/5 [01:00<04:00, 60.17s/it] Epoch [1/5], Loss: 1.1175\n",
        "\n",
        "    RUN_4 :\n",
        "        images 32x32\n",
        "        batch_size=64\n",
        "        num_worker=8\n",
        "        20%|██        | 1/5 [01:01<04:06, 61.54s/it] Epoch [1/5], Loss: 0.9135"
      ]
    },
    {
      "cell_type": "code",
      "execution_count": 23,
      "metadata": {},
      "outputs": [
        {
          "data": {
            "text/plain": [
              "torch.Size([1, 10, 10])"
            ]
          },
          "execution_count": 23,
          "metadata": {},
          "output_type": "execute_result"
        }
      ],
      "source": [
        "torch.randn(1, 10, 10).to(device).shape"
      ]
    },
    {
      "cell_type": "code",
      "execution_count": 25,
      "metadata": {
        "colab": {
          "base_uri": "https://localhost:8080/"
        },
        "id": "0298q0wO8KQV",
        "outputId": "b2a2d778-f798-408f-c172-a5764906e420"
      },
      "outputs": [
        {
          "name": "stderr",
          "output_type": "stream",
          "text": [
            " 20%|██        | 1/5 [00:12<00:49, 12.34s/it]"
          ]
        },
        {
          "name": "stdout",
          "output_type": "stream",
          "text": [
            "Epoch [1/5], Loss: 2.0018\n"
          ]
        },
        {
          "name": "stderr",
          "output_type": "stream",
          "text": [
            " 40%|████      | 2/5 [00:23<00:35, 11.77s/it]"
          ]
        },
        {
          "name": "stdout",
          "output_type": "stream",
          "text": [
            "Epoch [2/5], Loss: 1.7181\n"
          ]
        },
        {
          "name": "stderr",
          "output_type": "stream",
          "text": [
            " 60%|██████    | 3/5 [00:34<00:23, 11.52s/it]"
          ]
        },
        {
          "name": "stdout",
          "output_type": "stream",
          "text": [
            "Epoch [3/5], Loss: 1.5902\n"
          ]
        },
        {
          "name": "stderr",
          "output_type": "stream",
          "text": [
            " 80%|████████  | 4/5 [00:45<00:11, 11.32s/it]"
          ]
        },
        {
          "name": "stdout",
          "output_type": "stream",
          "text": [
            "Epoch [4/5], Loss: 1.5103\n"
          ]
        },
        {
          "name": "stderr",
          "output_type": "stream",
          "text": [
            "100%|██████████| 5/5 [00:56<00:00, 11.38s/it]"
          ]
        },
        {
          "name": "stdout",
          "output_type": "stream",
          "text": [
            "Epoch [5/5], Loss: 1.3872\n"
          ]
        },
        {
          "name": "stderr",
          "output_type": "stream",
          "text": [
            "\n",
            "/home/flo/miniconda3/envs/data_augmentation_env/lib/python3.9/site-packages/torch/nn/modules/loss.py:535: UserWarning: Using a target size (torch.Size([1, 12])) that is different to the input size (torch.Size([1])). This will likely lead to incorrect results due to broadcasting. Please ensure they have the same size.\n",
            "  return F.mse_loss(input, target, reduction=self.reduction)\n"
          ]
        },
        {
          "name": "stdout",
          "output_type": "stream",
          "text": [
            "Iteration 0, Reward: 0.4319\n"
          ]
        },
        {
          "name": "stderr",
          "output_type": "stream",
          "text": [
            " 20%|██        | 1/5 [00:10<00:43, 10.91s/it]"
          ]
        },
        {
          "name": "stdout",
          "output_type": "stream",
          "text": [
            "Epoch [1/5], Loss: 1.2695\n"
          ]
        },
        {
          "name": "stderr",
          "output_type": "stream",
          "text": [
            " 40%|████      | 2/5 [00:22<00:34, 11.42s/it]"
          ]
        },
        {
          "name": "stdout",
          "output_type": "stream",
          "text": [
            "Epoch [2/5], Loss: 1.2733\n"
          ]
        },
        {
          "name": "stderr",
          "output_type": "stream",
          "text": [
            " 60%|██████    | 3/5 [00:33<00:22, 11.08s/it]"
          ]
        },
        {
          "name": "stdout",
          "output_type": "stream",
          "text": [
            "Epoch [3/5], Loss: 1.1718\n"
          ]
        },
        {
          "name": "stderr",
          "output_type": "stream",
          "text": [
            " 80%|████████  | 4/5 [00:43<00:10, 10.85s/it]"
          ]
        },
        {
          "name": "stdout",
          "output_type": "stream",
          "text": [
            "Epoch [4/5], Loss: 0.9799\n"
          ]
        },
        {
          "name": "stderr",
          "output_type": "stream",
          "text": [
            "100%|██████████| 5/5 [00:54<00:00, 10.92s/it]"
          ]
        },
        {
          "name": "stdout",
          "output_type": "stream",
          "text": [
            "Epoch [5/5], Loss: 0.9383\n"
          ]
        },
        {
          "name": "stderr",
          "output_type": "stream",
          "text": [
            "\n"
          ]
        },
        {
          "name": "stdout",
          "output_type": "stream",
          "text": [
            "Iteration 1, Reward: 0.4736\n"
          ]
        }
      ],
      "source": [
        "optimizer_lstm = optim.Adam(lstm.parameters(), lr=0.001)\n",
        "loss_lstm = nn.MSELoss()  # Comparaison avec l'amélioration attendue\n",
        "\n",
        "baseline_accuracy = 0.0\n",
        "\n",
        "for iteration in range(2):  # Nombre d'itérations de recherche\n",
        "    lstm_input = torch.randn(1, # batch size\n",
        "                             len(augmentations), # sequence length\n",
        "                             len(augmentations) #input size \n",
        "                             ).to(device)  # Entrée aléatoire\n",
        "    policy = lstm(lstm_input).detach().cpu().numpy()[0]  # Convertir en numpy\n",
        "\n",
        "    # Appliquer la politique générée\n",
        "    trainset_augmented = datasets.STL10(root=path_to_data, split='train', download=False,\n",
        "                                        transform=transforms.Compose([\n",
        "                                            transforms.ToTensor(),\n",
        "                                            transforms.Resize((32, 32)),\n",
        "                                            transforms.Normalize((0.5,), (0.5,)),\n",
        "                                            lambda img: apply_augmentations(img, policy, replace=True, augmentations=augmentations)])\n",
        "                                        # transform = transforms.ToTensor()\n",
        "                                        )\n",
        "\n",
        "    train_loader_aug = DataLoader(trainset_augmented, batch_size=128, shuffle=True, num_workers=4)\n",
        "\n",
        "    # Entraîner le modèle proxy avec la politique d'augmentation actuelle\n",
        "    train_proxy_model(train_loader_aug, proxy_model, criterion, optimizer)\n",
        "\n",
        "    # Évaluer la précision après augmentation\n",
        "    accuracy_after, avg_loss = evaluate_proxy_model(proxy_model, test_loader)\n",
        "\n",
        "    # Calculer la récompense et mettre à jour le LSTM\n",
        "    reward = accuracy_after - baseline_accuracy\n",
        "    loss = loss_lstm(torch.tensor([reward], dtype=torch.float32).to(device), lstm(lstm_input))\n",
        "    optimizer_lstm.zero_grad()\n",
        "    loss.backward()\n",
        "    optimizer_lstm.step()\n",
        "\n",
        "    print(f\"Iteration {iteration}, Reward: {reward:.4f}\")\n"
      ]
    },
    {
      "cell_type": "markdown",
      "metadata": {
        "id": "8UI_k4C48KQW"
      },
      "source": [
        "# Application de la Meilleure Politique Trouvée"
      ]
    },
    {
      "cell_type": "markdown",
      "metadata": {
        "id": "UngHcG1K8KQX"
      },
      "source": [
        "Une fois la meilleure politique identifiée, on applique la meilleure politique trouvée et on entraîne un modèle final performant."
      ]
    },
    {
      "cell_type": "code",
      "execution_count": 28,
      "metadata": {
        "id": "43leeDzmDMfW"
      },
      "outputs": [],
      "source": [
        "def find_best_policy(lstm):\n",
        "    \"\"\"\n",
        "    Extrait la meilleure politique d'augmentation trouvée après l'entraînement du LSTM.\n",
        "\n",
        "    Args:\n",
        "        lstm (torch.nn.Module): Le réseau LSTM entraîné.\n",
        "\n",
        "    Returns:\n",
        "        best_policy (list): Liste des transformations correspondant à la meilleure politique.\n",
        "    \"\"\"\n",
        "    lstm.eval()\n",
        "\n",
        "    with torch.no_grad():\n",
        "        # Initialisation du LSTM (ex: état caché nul)\n",
        "        hidden = None\n",
        "        input_tensor = torch.zeros(1, 1, len(augmentations)).to(next(lstm.parameters()).device)  # Format d'entrée attendu\n",
        "\n",
        "        best_policy = []\n",
        "\n",
        "        # Générer la séquence d'augmentations\n",
        "        for _ in range(5):  # On suppose une séquence de 5 transformations max\n",
        "            output = lstm(input_tensor)\n",
        "\n",
        "            # Convertir la sortie en un index de transformation\n",
        "            transformation_idx = torch.argmax(output, dim=-1).item()\n",
        "\n",
        "            # Ajouter la transformation correspondante\n",
        "            best_policy.append(augmentations[transformation_idx])\n",
        "\n",
        "            # Mettre à jour l'entrée pour le LSTM\n",
        "            input_tensor = output.unsqueeze(0)\n",
        "\n",
        "    return best_policy\n"
      ]
    },
    {
      "cell_type": "code",
      "execution_count": 29,
      "metadata": {
        "colab": {
          "base_uri": "https://localhost:8080/",
          "height": 1000
        },
        "id": "T6od-zcGDQPf",
        "outputId": "b993c57e-3103-4747-bd7b-399b416252ba"
      },
      "outputs": [],
      "source": [
        "best_policy = find_best_policy(lstm)  # Fonction qui extrait la meilleure politique\n"
      ]
    },
    {
      "cell_type": "code",
      "execution_count": 31,
      "metadata": {},
      "outputs": [],
      "source": [
        "from torch.utils.data import ConcatDataset\n",
        "import torchvision.models as models"
      ]
    },
    {
      "cell_type": "code",
      "execution_count": 32,
      "metadata": {
        "colab": {
          "base_uri": "https://localhost:8080/",
          "height": 211
        },
        "id": "wh7X9fAT8KQX",
        "outputId": "7d56c7e7-ca4f-4f7a-d979-436911fc1e89"
      },
      "outputs": [
        {
          "name": "stdout",
          "output_type": "stream",
          "text": [
            "Meilleure politique trouvée : [RandomRotation(degrees=[-45.0, 45.0], interpolation=nearest, expand=False, fill=0), RandomRotation(degrees=[-45.0, 45.0], interpolation=nearest, expand=False, fill=0), RandomRotation(degrees=[-45.0, 45.0], interpolation=nearest, expand=False, fill=0), RandomRotation(degrees=[-45.0, 45.0], interpolation=nearest, expand=False, fill=0), RandomRotation(degrees=[-45.0, 45.0], interpolation=nearest, expand=False, fill=0)]\n",
            "Files already downloaded and verified\n"
          ]
        },
        {
          "ename": "NameError",
          "evalue": "name 'WideResNet' is not defined",
          "output_type": "error",
          "traceback": [
            "\u001b[0;31m---------------------------------------------------------------------------\u001b[0m",
            "\u001b[0;31mNameError\u001b[0m                                 Traceback (most recent call last)",
            "Cell \u001b[0;32mIn[32], line 11\u001b[0m\n\u001b[1;32m      8\u001b[0m train_loader_final \u001b[38;5;241m=\u001b[39m DataLoader(trainset_final, batch_size\u001b[38;5;241m=\u001b[39m\u001b[38;5;241m128\u001b[39m, shuffle\u001b[38;5;241m=\u001b[39m\u001b[38;5;28;01mTrue\u001b[39;00m, num_workers\u001b[38;5;241m=\u001b[39m\u001b[38;5;241m4\u001b[39m)\n\u001b[1;32m     10\u001b[0m \u001b[38;5;66;03m# Entraîner le modèle final (ex: WideResNet)\u001b[39;00m\n\u001b[0;32m---> 11\u001b[0m final_model \u001b[38;5;241m=\u001b[39m \u001b[43mWideResNet\u001b[49m(depth\u001b[38;5;241m=\u001b[39m\u001b[38;5;241m28\u001b[39m, width\u001b[38;5;241m=\u001b[39m\u001b[38;5;241m10\u001b[39m, num_classes\u001b[38;5;241m=\u001b[39m\u001b[38;5;241m10\u001b[39m)\u001b[38;5;241m.\u001b[39mto(device)\n\u001b[1;32m     12\u001b[0m optimizer_final \u001b[38;5;241m=\u001b[39m optim\u001b[38;5;241m.\u001b[39mSGD(final_model\u001b[38;5;241m.\u001b[39mparameters(), lr\u001b[38;5;241m=\u001b[39m\u001b[38;5;241m0.1\u001b[39m, momentum\u001b[38;5;241m=\u001b[39m\u001b[38;5;241m0.9\u001b[39m, weight_decay\u001b[38;5;241m=\u001b[39m\u001b[38;5;241m5e-4\u001b[39m)\n\u001b[1;32m     13\u001b[0m train_final_model(train_loader_final, final_model, criterion, optimizer_final)\n",
            "\u001b[0;31mNameError\u001b[0m: name 'WideResNet' is not defined"
          ]
        }
      ],
      "source": [
        "best_policy = find_best_policy(lstm)  # Fonction qui extrait la meilleure politique\n",
        "print(f\"Meilleure politique trouvée : {best_policy}\")\n",
        "\n",
        "# Appliquer aux données finales\n",
        "transform_final = lambda img: apply_augmentations(img, best_policy, replace=True, augmentations=augmentations)\n",
        "trainset_aug = datasets.STL10(root=\"./STL10\", split='train', download=True, transform=transform_final)\n",
        "trainset_final = concat_dataset = ConcatDataset([trainset, trainset_aug])\n",
        "train_loader_final = DataLoader(trainset_final, batch_size=128, shuffle=True, num_workers=4)\n",
        "\n",
        "# Entraîner le modèle final (ex: WideResNet)\n",
        "# final_model = WideResNet(depth=28, width=10, num_classes=10).to(device)\n",
        "final_model = models.resnet18(pretrained=True)\n",
        "num_features = final_model.fc.in_features\n",
        "final_model.fc = torch.nn.Linear(num_features, 10) # adapting the last layer to the dataset (STL10) [10 classes].\n",
        "final_model = final_model.to(device)\n",
        "\n",
        "optimizer_final = optim.SGD(final_model.parameters(), lr=0.1, momentum=0.9, weight_decay=5e-4)\n",
        "train_main_model(train_loader_final, final_model, criterion, optimizer_final)"
      ]
    },
    {
      "cell_type": "markdown",
      "metadata": {
        "id": "0XrIlg8_8KQX"
      },
      "source": [
        "# CNN"
      ]
    },
    {
      "cell_type": "code",
      "execution_count": null,
      "metadata": {
        "id": "g5ZcNRcv8KQX"
      },
      "outputs": [],
      "source": [
        "# from simple_cnn import SimpleCNN\n",
        "# import torch.nn as nn\n",
        "# import torch.optim as optim\n",
        "\n",
        "# # Initialisation du modèle\n",
        "# device = torch.device(\"cuda\" if torch.cuda.is_available() else \"cpu\")\n",
        "# model = SimpleCNN().to(device)\n",
        "\n",
        "# # Fonction de perte et optimiseur\n",
        "# criterion = nn.CrossEntropyLoss()\n",
        "# optimizer = optim.Adam(model.parameters(), lr=1e-3)\n",
        "\n",
        "# # Entraînement du modèle sur les données brutes\n",
        "# for epoch in range(10):  # Petit entraînement pour test\n",
        "#     for images, labels in train_loader:\n",
        "#         images, labels = images.to(device), labels.to(device)\n",
        "\n",
        "#         optimizer.zero_grad()\n",
        "#         outputs = model(images)\n",
        "#         loss = criterion(outputs, labels)\n",
        "#         loss.backward()\n",
        "#         optimizer.step()\n",
        "\n",
        "# print(\"✅ Modèle entraîné sur données brutes !\")\n"
      ]
    },
    {
      "cell_type": "code",
      "execution_count": null,
      "metadata": {
        "id": "8AhdJpKy8KQY"
      },
      "outputs": [],
      "source": []
    }
  ],
  "metadata": {
    "accelerator": "GPU",
    "colab": {
      "gpuType": "T4",
      "provenance": []
    },
    "kernelspec": {
      "display_name": "data_augmentation_env",
      "language": "python",
      "name": "python3"
    },
    "language_info": {
      "codemirror_mode": {
        "name": "ipython",
        "version": 3
      },
      "file_extension": ".py",
      "mimetype": "text/x-python",
      "name": "python",
      "nbconvert_exporter": "python",
      "pygments_lexer": "ipython3",
      "version": "3.9.21"
    }
  },
  "nbformat": 4,
  "nbformat_minor": 0
}
