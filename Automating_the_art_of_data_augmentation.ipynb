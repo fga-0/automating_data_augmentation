{
  "cells": [
    {
      "cell_type": "markdown",
      "metadata": {
        "id": "LgB3gH_RGaAo"
      },
      "source": [
        "<div style=\"font-size:22pt; line-height:25pt; font-weight:bold; text-align:center;\">Automating the art of data augmentation</div>"
      ]
    },
    {
      "cell_type": "code",
      "execution_count": 1,
      "metadata": {
        "id": "t4fqnWVWGaAr"
      },
      "outputs": [],
      "source": [
        "# TODO : commenter tout le code et retirer les commentaires ChatGPT\n",
        "# TODO : coder display_one_image_per_class()\n",
        "# TODO : citer les articles à chaque introduction d'une nouvelle méthode\n",
        "# TODO : enlever le warning de la fonction plot_before_after_augmentation"
      ]
    },
    {
      "cell_type": "markdown",
      "metadata": {
        "id": "sUiFYkkXGaAt"
      },
      "source": [
        "This notebook aims at providing an overview of existing methods for automating the process of data augmentation."
      ]
    },
    {
      "cell_type": "markdown",
      "metadata": {
        "id": "Az6DFxXNGaAt"
      },
      "source": [
        "[![Open In Colab](https://colab.research.google.com/assets/colab-badge.svg)](https://colab.research.google.com/github/fga-0/automating_data_augmentation/blob/main/Automating_the_art_of_data_augmentation.ipynb)"
      ]
    },
    {
      "cell_type": "markdown",
      "metadata": {
        "id": "APti8H7wGaAu"
      },
      "source": [
        "Expliquer comment utiliser les GPU Google disponibles pour exécuter le notebook :\n",
        "\n",
        "    - \"options de connexion supplémentaires\"\n",
        "    - \"Modifier le type d'exécution\"\n",
        "    - GPU"
      ]
    },
    {
      "cell_type": "markdown",
      "metadata": {
        "id": "AYu-8ep2GaAu"
      },
      "source": [
        "Ajouter une image en début de notebook pour donner envie de l'exécuter -> GIF hamster/quokka"
      ]
    },
    {
      "cell_type": "markdown",
      "metadata": {
        "id": "6X_reIpTGaAv"
      },
      "source": [
        "# What is data augmentation"
      ]
    },
    {
      "cell_type": "markdown",
      "metadata": {
        "id": "et0iY7x5GaAv"
      },
      "source": [
        "!! Lire des blog post pour une intro plus attrayante !!"
      ]
    },
    {
      "cell_type": "markdown",
      "metadata": {
        "id": "MwMjt_2VGaAw"
      },
      "source": [
        "Modern machine learning models, such as deep neural networks, may have billions of parameters and **require massive labeled training datasets** which might be unavailable. The technique of artificially expanding labeled training datasets, known as *data augmentation*, has quickly become critical for combating this data scarcity problem."
      ]
    },
    {
      "cell_type": "markdown",
      "metadata": {
        "id": "2pOiaKrtGaAw"
      },
      "source": [
        "Data augmentation has several advantages :\n",
        "1. It enhances the generalization capacity of the model by reducing the risk of overfitting. As the training set gets larger, the model learns on a more diversified data.\n",
        "2. It grows the training set for a very low cost. No additional sampling campaign is required.\n",
        "\n",
        "Methods have emerged to automate the augmentation process. This notebook will go through a variety of methods, highlighting the pros and cons of using each of them."
      ]
    },
    {
      "cell_type": "markdown",
      "metadata": {},
      "source": [
        "In this notebook, we will focus on image classification tasks as they represent the main application of data augmentation. In image classification, data augmentation has become a standard practice."
      ]
    },
    {
      "cell_type": "code",
      "execution_count": null,
      "metadata": {},
      "outputs": [],
      "source": [
        "import matplotlib.pyplot as plt\n",
        "import numpy as np\n",
        "\n",
        "import tensorflow as tf\n",
        "import torchvision\n",
        "import torchvision.transforms as transforms\n",
        "import torchvision.datasets as datasets\n",
        "import torch\n",
        "from torch.utils.data import DataLoader, Subset, random_split\n",
        "import torch.nn as nn\n",
        "import torch.optim as optim"
      ]
    },
    {
      "cell_type": "markdown",
      "metadata": {},
      "source": [
        "## 🧪Transformation lab "
      ]
    },
    {
      "cell_type": "markdown",
      "metadata": {},
      "source": [
        "Welcome to the transformation lab, here you are able to manipulate transformation as you wish and observe their impact on the data."
      ]
    },
    {
      "cell_type": "markdown",
      "metadata": {
        "id": "UOhqZW7vGaAx"
      },
      "source": [
        "### Load CIFAR10 data"
      ]
    },
    {
      "cell_type": "markdown",
      "metadata": {
        "id": "BRj0m5FVGaAx"
      },
      "source": [
        "The CIFAR-10 dataset consists of 60000 32x32 colour images in 10 classes, with 6000 images per class. There are 50000 training images and 10000 test images."
      ]
    },
    {
      "cell_type": "markdown",
      "metadata": {
        "id": "GzerNp9qGaAx"
      },
      "source": [
        "The 10 classes are :\n",
        "- airplane\n",
        "- automobile\n",
        "- bird\n",
        "- cat\n",
        "- deer\n",
        "- dog\n",
        "- frog\n",
        "- horse\n",
        "- ship\n",
        "- truck"
      ]
    },
    {
      "cell_type": "code",
      "execution_count": 34,
      "metadata": {
        "id": "NzvY8wkpGaAy"
      },
      "outputs": [],
      "source": [
        "path_to_data = \"./cifar10\""
      ]
    },
    {
      "cell_type": "code",
      "execution_count": 2,
      "metadata": {
        "colab": {
          "base_uri": "https://localhost:8080/"
        },
        "id": "kxskq6cTGxmw",
        "outputId": "5f72ad56-c996-4841-cbd4-888192454587"
      },
      "outputs": [
        {
          "name": "stdout",
          "output_type": "stream",
          "text": [
            "Mounted at /content/drive\n"
          ]
        }
      ],
      "source": [
        "# from google.colab import drive\n",
        "# drive.mount('/content/drive')\n",
        "# path_to_data = \"drive/MyDrive/SDD/data_augmentation/cifar10\""
      ]
    },
    {
      "cell_type": "code",
      "execution_count": 35,
      "metadata": {},
      "outputs": [
        {
          "name": "stdout",
          "output_type": "stream",
          "text": [
            "Files already downloaded and verified\n"
          ]
        }
      ],
      "source": [
        "# Define transformations (normalization, conversion to tensor)\n",
        "default_transform = transforms.Compose([\n",
        "    transforms.Resize(224),\n",
        "    transforms.ToTensor(),\n",
        "])\n",
        "\n",
        "# Load full CIFAR-10 dataset\n",
        "lab_dataset = torchvision.datasets.CIFAR10(root=path_to_data, train=True, download=True, transform=default_transform)"
      ]
    },
    {
      "cell_type": "code",
      "execution_count": 36,
      "metadata": {},
      "outputs": [
        {
          "name": "stdout",
          "output_type": "stream",
          "text": [
            "The dataset is made of 224x224 pixels images.\n"
          ]
        }
      ],
      "source": [
        "image_width = lab_dataset[0][0].shape[1]\n",
        "print(f\"The dataset is made of {image_width}x{image_width} pixels images.\")"
      ]
    },
    {
      "cell_type": "markdown",
      "metadata": {},
      "source": [
        "A few transformations :"
      ]
    },
    {
      "cell_type": "code",
      "execution_count": 37,
      "metadata": {},
      "outputs": [],
      "source": [
        "transformations = [\n",
        "    transforms.CenterCrop(size=image_width/2),\n",
        "    transforms.RandomCrop(size=16),\n",
        "    transforms.ColorJitter(brightness=0.3, contrast=0.3),\n",
        "    transforms.RandomHorizontalFlip(p=0.5),\n",
        "    transforms.RandomVerticalFlip(p=0.5),\n",
        "    transforms.RandomRotation(45),\n",
        "    transforms.RandomAffine(degrees=45, translate=(0.2, 0.2), shear=15),\n",
        "    transforms.GaussianBlur(kernel_size=3),\n",
        "    transforms.RandomInvert(p=0.5),\n",
        "    transforms.RandomSolarize(-0.1, p=0.5),\n",
        "    transforms.RandomAutocontrast(p=0.5),\n",
        "    transforms.RandomAdjustSharpness(sharpness_factor=2, p=0.5)\n",
        "]"
      ]
    },
    {
      "cell_type": "markdown",
      "metadata": {},
      "source": [
        "Choose a transformation and visualize its effect on 5 images sampled from the dataset."
      ]
    },
    {
      "cell_type": "code",
      "execution_count": 38,
      "metadata": {},
      "outputs": [
        {
          "data": {
            "text/plain": [
              "<module 'utils' from '/home/flo/SDD/automating_data_augmentation/utils.py'>"
            ]
          },
          "execution_count": 38,
          "metadata": {},
          "output_type": "execute_result"
        }
      ],
      "source": [
        "import utils\n",
        "import importlib\n",
        "importlib.reload(utils)"
      ]
    },
    {
      "cell_type": "code",
      "execution_count": 41,
      "metadata": {},
      "outputs": [
        {
          "data": {
            "image/png": "[encoded data removed]",
            "text/plain": [
              "<Figure size 1000x300 with 10 Axes>"
            ]
          },
          "metadata": {},
          "output_type": "display_data"
        }
      ],
      "source": [
        "utils.plot_before_after_augmentation(dataset=lab_dataset, transformation=transformations[0])"
      ]
    },
    {
      "cell_type": "markdown",
      "metadata": {},
      "source": [
        "## Image classification"
      ]
    },
    {
      "cell_type": "markdown",
      "metadata": {},
      "source": [
        "Now, let us reload the data to perform an image classification task. "
      ]
    },
    {
      "cell_type": "code",
      "execution_count": 42,
      "metadata": {
        "colab": {
          "base_uri": "https://localhost:8080/"
        },
        "id": "rOmW5t4PGaAy",
        "outputId": "08e9dbd8-eec1-41a7-e4d5-63524455181e"
      },
      "outputs": [
        {
          "name": "stdout",
          "output_type": "stream",
          "text": [
            "Files already downloaded and verified\n",
            "Files already downloaded and verified\n"
          ]
        }
      ],
      "source": [
        "# Define transformations (normalization, conversion to tensor)\n",
        "transform = transforms.Compose([\n",
        "    transforms.Resize(224),\n",
        "    transforms.ToTensor(),\n",
        "    transforms.Normalize(mean=[0.485, 0.456, 0.406], std=[0.229, 0.224, 0.225]),  # ImageNet normalization\n",
        "    # transforms.Normalize((0.5,), (0.5,))\n",
        "])\n",
        "\n",
        "# Load full CIFAR-10 dataset\n",
        "# # Les images CIFAR10 sont de dimension 32x32.\n",
        "trainset = torchvision.datasets.CIFAR10(root=path_to_data, train=True, download=True, transform=transform)\n",
        "testset = torchvision.datasets.CIFAR10(root=path_to_data, train=False, download=True, transform=transform)"
      ]
    },
    {
      "cell_type": "code",
      "execution_count": 43,
      "metadata": {
        "colab": {
          "base_uri": "https://localhost:8080/"
        },
        "id": "HueboWLXGaAz",
        "outputId": "5bc258ea-ebbd-4f72-98df-51dee9d58600"
      },
      "outputs": [
        {
          "name": "stdout",
          "output_type": "stream",
          "text": [
            "Training samples: 1000\n",
            "Test samples: 200\n"
          ]
        }
      ],
      "source": [
        "train_subset, test_subset = utils.get_subset(trainset=trainset, testset=testset, percentage=0.02)\n"
      ]
    },
    {
      "cell_type": "markdown",
      "metadata": {
        "id": "eCJbDhHUGaA1"
      },
      "source": [
        "## Let's train a CNN : WideResNet"
      ]
    },
    {
      "cell_type": "markdown",
      "metadata": {
        "id": "FP7HJ_7MGaA1"
      },
      "source": [
        "Now that the data is loaded, we can train a Convolutional Neural Network on this data to assess its performance before applying any augmentation. WideResNet will be used as it is a commonly used network for bench-marking classification task on image data."
      ]
    },
    {
      "cell_type": "code",
      "execution_count": null,
      "metadata": {},
      "outputs": [],
      "source": [
        "from utils import get_trainloader_valloader"
      ]
    },
    {
      "cell_type": "code",
      "execution_count": null,
      "metadata": {
        "id": "fuVqqQ9FGaA2"
      },
      "outputs": [],
      "source": [
        "train_loader, val_loader = get_trainloader_valloader(dataset=train_subset,\n",
        "                                                     split=0.8,\n",
        "                                                     batch_size=32\n",
        "                                                     )\n",
        "test_loader = DataLoader(test_subset, batch_size=32, shuffle=False)"
      ]
    },
    {
      "cell_type": "code",
      "execution_count": null,
      "metadata": {
        "colab": {
          "base_uri": "https://localhost:8080/"
        },
        "id": "vGxp_CggGaA2",
        "outputId": "3ea470c6-fca9-4d74-d011-82813dbfd9d5"
      },
      "outputs": [
        {
          "name": "stderr",
          "output_type": "stream",
          "text": [
            "/home/flo/miniconda3/envs/data_augmentation_env/lib/python3.9/site-packages/torchvision/models/_utils.py:208: UserWarning: The parameter 'pretrained' is deprecated since 0.13 and may be removed in the future, please use 'weights' instead.\n",
            "  warnings.warn(\n",
            "/home/flo/miniconda3/envs/data_augmentation_env/lib/python3.9/site-packages/torchvision/models/_utils.py:223: UserWarning: Arguments other than a weight enum or `None` for 'weights' are deprecated since 0.13 and may be removed in the future. The current behavior is equivalent to passing `weights=Wide_ResNet50_2_Weights.IMAGENET1K_V1`. You can also use `weights=Wide_ResNet50_2_Weights.DEFAULT` to get the most up-to-date weights.\n",
            "  warnings.warn(msg)\n"
          ]
        },
        {
          "name": "stdout",
          "output_type": "stream",
          "text": [
            "Linear(in_features=2048, out_features=10, bias=True)\n",
            "Using device: cpu\n"
          ]
        }
      ],
      "source": [
        "from torchvision.models import wide_resnet50_2\n",
        "\n",
        "# Load Wide ResNet model\n",
        "device = torch.device(\"cuda\" if torch.cuda.is_available() else \"cpu\")\n",
        "\n",
        "# wrn = wide_resnet50_2(num_classes=10)  # CIFAR-10 has 10 classes\n",
        "\n",
        "# Load a pre-trained Wide ResNet-50-2 model:\n",
        "wrn = wide_resnet50_2(pretrained=True)\n",
        "# Freeze all model parameters except for the final layer:\n",
        "for param in wrn.parameters():\n",
        "    param.requires_grad = False\n",
        "# Get the number of input features for the original last layer:\n",
        "num_feature = wrn.fc.in_features\n",
        "# Replace the final classification layer to match your dataset:\n",
        "wrn.fc = nn.Linear(num_feature, 10)\n",
        "# View the structure of the new final layer (optional):\n",
        "print(wrn.fc)\n",
        "# Move the model to the GPU for accelerated training:\n",
        "wrn = wrn.to(device)\n",
        "\n",
        "print(f\"Using device: {device}\")"
      ]
    },
    {
      "cell_type": "markdown",
      "metadata": {
        "id": "lo_kE0HctS3f"
      },
      "source": [
        "Let's evaluate the pretrained model on the testset."
      ]
    },
    {
      "cell_type": "code",
      "execution_count": 53,
      "metadata": {},
      "outputs": [
        {
          "name": "stdout",
          "output_type": "stream",
          "text": [
            "Linear(in_features=2048, out_features=10, bias=True)\n"
          ]
        },
        {
          "data": {
            "text/plain": [
              "<All keys matched successfully>"
            ]
          },
          "execution_count": 53,
          "metadata": {},
          "output_type": "execute_result"
        }
      ],
      "source": [
        "loaded_model = wide_resnet50_2()\n",
        "# Freeze all model parameters except for the final layer:\n",
        "for param in loaded_model.parameters():\n",
        "    param.requires_grad = False\n",
        "# Get the number of input features for the original last layer:\n",
        "num_feature = loaded_model.fc.in_features\n",
        "# Replace the final classification layer to match your dataset:\n",
        "loaded_model.fc = nn.Linear(num_feature, 10)\n",
        "# View the structure of the new final layer (optional):\n",
        "print(loaded_model.fc)\n",
        "# Move the model to the GPU for accelerated training:\n",
        "loaded_model = loaded_model.to(device)\n",
        "loaded_model.load_state_dict(torch.load(\"./wrn_trained_on_subset_of_raw_data\", weights_only=False, map_location=torch.device('cpu')))"
      ]
    },
    {
      "cell_type": "code",
      "execution_count": 54,
      "metadata": {
        "colab": {
          "base_uri": "https://localhost:8080/"
        },
        "id": "eoBxJHXZtSlu",
        "outputId": "13e33b2a-fa8e-4c7b-bc75-067a7424a705"
      },
      "outputs": [
        {
          "name": "stdout",
          "output_type": "stream",
          "text": [
            "Accuracy: 65.00%\n",
            "Taux d'erreur: 35.00%\n"
          ]
        },
        {
          "data": {
            "text/plain": [
              "(0.65, 0.35)"
            ]
          },
          "execution_count": 54,
          "metadata": {},
          "output_type": "execute_result"
        }
      ],
      "source": [
        "utils.evaluate(wrn, test_loader, device)"
      ]
    },
    {
      "cell_type": "markdown",
      "metadata": {
        "id": "SMthkfYwtaYy"
      },
      "source": [
        "The pretrained model gets a poor accuracy on the testset. It needs to be trained on the CIFAR10 data !"
      ]
    },
    {
      "cell_type": "code",
      "execution_count": null,
      "metadata": {
        "id": "ReaD4RUqGaA2"
      },
      "outputs": [],
      "source": [
        "criterion = nn.CrossEntropyLoss()\n",
        "patience = 5\n",
        "min_delta_loss = 0.001\n",
        "min_delta_accuracy = 0.1"
      ]
    },
    {
      "cell_type": "code",
      "execution_count": 48,
      "metadata": {
        "id": "8ndqqK5UZIAw"
      },
      "outputs": [],
      "source": [
        "optimizer = optim.Adam(wrn.fc.parameters(), lr=0.001)\n",
        "# Learning rate scheduler for better convergence\n",
        "scheduler = optim.lr_scheduler.CosineAnnealingLR(optimizer, T_max=200)"
      ]
    },
    {
      "cell_type": "code",
      "execution_count": null,
      "metadata": {
        "colab": {
          "base_uri": "https://localhost:8080/"
        },
        "id": "kdmfKtftGaA2",
        "outputId": "25db1585-4402-440a-fd48-6eb479c12126"
      },
      "outputs": [
        {
          "name": "stderr",
          "output_type": "stream",
          "text": [
            "Epoch 1/3:   0%|          | 0/32 [00:00<?, ?it/s]"
          ]
        },
        {
          "name": "stderr",
          "output_type": "stream",
          "text": [
            "                                                                                   \r"
          ]
        },
        {
          "name": "stdout",
          "output_type": "stream",
          "text": [
            "Epoch 1: Loss=2.0071, Accuracy=29.30%\n"
          ]
        },
        {
          "name": "stderr",
          "output_type": "stream",
          "text": [
            "                                                                                   \r"
          ]
        },
        {
          "ename": "KeyboardInterrupt",
          "evalue": "",
          "output_type": "error",
          "traceback": [
            "\u001b[0;31m---------------------------------------------------------------------------\u001b[0m",
            "\u001b[0;31mKeyboardInterrupt\u001b[0m                         Traceback (most recent call last)",
            "Cell \u001b[0;32mIn[49], line 1\u001b[0m\n\u001b[0;32m----> 1\u001b[0m wrn_trained \u001b[38;5;241m=\u001b[39m \u001b[43mutils\u001b[49m\u001b[38;5;241;43m.\u001b[39;49m\u001b[43mtrain_WideResNet\u001b[49m\u001b[43m(\u001b[49m\u001b[43mmodel\u001b[49m\u001b[38;5;241;43m=\u001b[39;49m\u001b[43mwrn\u001b[49m\u001b[43m,\u001b[49m\u001b[43m \u001b[49m\u001b[43mtrainloader\u001b[49m\u001b[38;5;241;43m=\u001b[39;49m\u001b[43mtrain_loader\u001b[49m\u001b[43m,\u001b[49m\u001b[43m \u001b[49m\u001b[43mnum_epochs\u001b[49m\u001b[38;5;241;43m=\u001b[39;49m\u001b[38;5;241;43m3\u001b[39;49m\u001b[43m,\u001b[49m\u001b[43m \u001b[49m\u001b[43mbatch_size\u001b[49m\u001b[38;5;241;43m=\u001b[39;49m\u001b[38;5;241;43m32\u001b[39;49m\u001b[43m,\u001b[49m\u001b[43m \u001b[49m\u001b[43moptimizer\u001b[49m\u001b[38;5;241;43m=\u001b[39;49m\u001b[43moptimizer\u001b[49m\u001b[43m,\u001b[49m\u001b[43m \u001b[49m\u001b[43mcriterion\u001b[49m\u001b[38;5;241;43m=\u001b[39;49m\u001b[43mcriterion\u001b[49m\u001b[43m,\u001b[49m\u001b[43m \u001b[49m\u001b[43mdevice\u001b[49m\u001b[38;5;241;43m=\u001b[39;49m\u001b[43mdevice\u001b[49m\u001b[43m,\u001b[49m\u001b[43m \u001b[49m\u001b[43mscheduler\u001b[49m\u001b[38;5;241;43m=\u001b[39;49m\u001b[43mscheduler\u001b[49m\u001b[43m)\u001b[49m\n",
            "File \u001b[0;32m~/SDD/automating_data_augmentation/utils.py:91\u001b[0m, in \u001b[0;36mtrain_WideResNet\u001b[0;34m(num_epochs, batch_size, model, trainloader, optimizer, criterion, device, scheduler)\u001b[0m\n\u001b[1;32m     88\u001b[0m inputs, labels \u001b[38;5;241m=\u001b[39m inputs\u001b[38;5;241m.\u001b[39mto(device), labels\u001b[38;5;241m.\u001b[39mto(device)\n\u001b[1;32m     90\u001b[0m optimizer\u001b[38;5;241m.\u001b[39mzero_grad()\n\u001b[0;32m---> 91\u001b[0m outputs \u001b[38;5;241m=\u001b[39m \u001b[43mmodel\u001b[49m\u001b[43m(\u001b[49m\u001b[43minputs\u001b[49m\u001b[43m)\u001b[49m\n\u001b[1;32m     92\u001b[0m loss \u001b[38;5;241m=\u001b[39m criterion(outputs, labels)\n\u001b[1;32m     93\u001b[0m loss\u001b[38;5;241m.\u001b[39mbackward()\n",
            "File \u001b[0;32m~/miniconda3/envs/data_augmentation_env/lib/python3.9/site-packages/torch/nn/modules/module.py:1532\u001b[0m, in \u001b[0;36mModule._wrapped_call_impl\u001b[0;34m(self, *args, **kwargs)\u001b[0m\n\u001b[1;32m   1530\u001b[0m     \u001b[38;5;28;01mreturn\u001b[39;00m \u001b[38;5;28mself\u001b[39m\u001b[38;5;241m.\u001b[39m_compiled_call_impl(\u001b[38;5;241m*\u001b[39margs, \u001b[38;5;241m*\u001b[39m\u001b[38;5;241m*\u001b[39mkwargs)  \u001b[38;5;66;03m# type: ignore[misc]\u001b[39;00m\n\u001b[1;32m   1531\u001b[0m \u001b[38;5;28;01melse\u001b[39;00m:\n\u001b[0;32m-> 1532\u001b[0m     \u001b[38;5;28;01mreturn\u001b[39;00m \u001b[38;5;28;43mself\u001b[39;49m\u001b[38;5;241;43m.\u001b[39;49m\u001b[43m_call_impl\u001b[49m\u001b[43m(\u001b[49m\u001b[38;5;241;43m*\u001b[39;49m\u001b[43margs\u001b[49m\u001b[43m,\u001b[49m\u001b[43m \u001b[49m\u001b[38;5;241;43m*\u001b[39;49m\u001b[38;5;241;43m*\u001b[39;49m\u001b[43mkwargs\u001b[49m\u001b[43m)\u001b[49m\n",
            "File \u001b[0;32m~/miniconda3/envs/data_augmentation_env/lib/python3.9/site-packages/torch/nn/modules/module.py:1541\u001b[0m, in \u001b[0;36mModule._call_impl\u001b[0;34m(self, *args, **kwargs)\u001b[0m\n\u001b[1;32m   1536\u001b[0m \u001b[38;5;66;03m# If we don't have any hooks, we want to skip the rest of the logic in\u001b[39;00m\n\u001b[1;32m   1537\u001b[0m \u001b[38;5;66;03m# this function, and just call forward.\u001b[39;00m\n\u001b[1;32m   1538\u001b[0m \u001b[38;5;28;01mif\u001b[39;00m \u001b[38;5;129;01mnot\u001b[39;00m (\u001b[38;5;28mself\u001b[39m\u001b[38;5;241m.\u001b[39m_backward_hooks \u001b[38;5;129;01mor\u001b[39;00m \u001b[38;5;28mself\u001b[39m\u001b[38;5;241m.\u001b[39m_backward_pre_hooks \u001b[38;5;129;01mor\u001b[39;00m \u001b[38;5;28mself\u001b[39m\u001b[38;5;241m.\u001b[39m_forward_hooks \u001b[38;5;129;01mor\u001b[39;00m \u001b[38;5;28mself\u001b[39m\u001b[38;5;241m.\u001b[39m_forward_pre_hooks\n\u001b[1;32m   1539\u001b[0m         \u001b[38;5;129;01mor\u001b[39;00m _global_backward_pre_hooks \u001b[38;5;129;01mor\u001b[39;00m _global_backward_hooks\n\u001b[1;32m   1540\u001b[0m         \u001b[38;5;129;01mor\u001b[39;00m _global_forward_hooks \u001b[38;5;129;01mor\u001b[39;00m _global_forward_pre_hooks):\n\u001b[0;32m-> 1541\u001b[0m     \u001b[38;5;28;01mreturn\u001b[39;00m \u001b[43mforward_call\u001b[49m\u001b[43m(\u001b[49m\u001b[38;5;241;43m*\u001b[39;49m\u001b[43margs\u001b[49m\u001b[43m,\u001b[49m\u001b[43m \u001b[49m\u001b[38;5;241;43m*\u001b[39;49m\u001b[38;5;241;43m*\u001b[39;49m\u001b[43mkwargs\u001b[49m\u001b[43m)\u001b[49m\n\u001b[1;32m   1543\u001b[0m \u001b[38;5;28;01mtry\u001b[39;00m:\n\u001b[1;32m   1544\u001b[0m     result \u001b[38;5;241m=\u001b[39m \u001b[38;5;28;01mNone\u001b[39;00m\n",
            "File \u001b[0;32m~/miniconda3/envs/data_augmentation_env/lib/python3.9/site-packages/torchvision/models/resnet.py:285\u001b[0m, in \u001b[0;36mResNet.forward\u001b[0;34m(self, x)\u001b[0m\n\u001b[1;32m    284\u001b[0m \u001b[38;5;28;01mdef\u001b[39;00m\u001b[38;5;250m \u001b[39m\u001b[38;5;21mforward\u001b[39m(\u001b[38;5;28mself\u001b[39m, x: Tensor) \u001b[38;5;241m-\u001b[39m\u001b[38;5;241m>\u001b[39m Tensor:\n\u001b[0;32m--> 285\u001b[0m     \u001b[38;5;28;01mreturn\u001b[39;00m \u001b[38;5;28;43mself\u001b[39;49m\u001b[38;5;241;43m.\u001b[39;49m\u001b[43m_forward_impl\u001b[49m\u001b[43m(\u001b[49m\u001b[43mx\u001b[49m\u001b[43m)\u001b[49m\n",
            "File \u001b[0;32m~/miniconda3/envs/data_augmentation_env/lib/python3.9/site-packages/torchvision/models/resnet.py:276\u001b[0m, in \u001b[0;36mResNet._forward_impl\u001b[0;34m(self, x)\u001b[0m\n\u001b[1;32m    274\u001b[0m x \u001b[38;5;241m=\u001b[39m \u001b[38;5;28mself\u001b[39m\u001b[38;5;241m.\u001b[39mlayer2(x)\n\u001b[1;32m    275\u001b[0m x \u001b[38;5;241m=\u001b[39m \u001b[38;5;28mself\u001b[39m\u001b[38;5;241m.\u001b[39mlayer3(x)\n\u001b[0;32m--> 276\u001b[0m x \u001b[38;5;241m=\u001b[39m \u001b[38;5;28;43mself\u001b[39;49m\u001b[38;5;241;43m.\u001b[39;49m\u001b[43mlayer4\u001b[49m\u001b[43m(\u001b[49m\u001b[43mx\u001b[49m\u001b[43m)\u001b[49m\n\u001b[1;32m    278\u001b[0m x \u001b[38;5;241m=\u001b[39m \u001b[38;5;28mself\u001b[39m\u001b[38;5;241m.\u001b[39mavgpool(x)\n\u001b[1;32m    279\u001b[0m x \u001b[38;5;241m=\u001b[39m torch\u001b[38;5;241m.\u001b[39mflatten(x, \u001b[38;5;241m1\u001b[39m)\n",
            "File \u001b[0;32m~/miniconda3/envs/data_augmentation_env/lib/python3.9/site-packages/torch/nn/modules/module.py:1532\u001b[0m, in \u001b[0;36mModule._wrapped_call_impl\u001b[0;34m(self, *args, **kwargs)\u001b[0m\n\u001b[1;32m   1530\u001b[0m     \u001b[38;5;28;01mreturn\u001b[39;00m \u001b[38;5;28mself\u001b[39m\u001b[38;5;241m.\u001b[39m_compiled_call_impl(\u001b[38;5;241m*\u001b[39margs, \u001b[38;5;241m*\u001b[39m\u001b[38;5;241m*\u001b[39mkwargs)  \u001b[38;5;66;03m# type: ignore[misc]\u001b[39;00m\n\u001b[1;32m   1531\u001b[0m \u001b[38;5;28;01melse\u001b[39;00m:\n\u001b[0;32m-> 1532\u001b[0m     \u001b[38;5;28;01mreturn\u001b[39;00m \u001b[38;5;28;43mself\u001b[39;49m\u001b[38;5;241;43m.\u001b[39;49m\u001b[43m_call_impl\u001b[49m\u001b[43m(\u001b[49m\u001b[38;5;241;43m*\u001b[39;49m\u001b[43margs\u001b[49m\u001b[43m,\u001b[49m\u001b[43m \u001b[49m\u001b[38;5;241;43m*\u001b[39;49m\u001b[38;5;241;43m*\u001b[39;49m\u001b[43mkwargs\u001b[49m\u001b[43m)\u001b[49m\n",
            "File \u001b[0;32m~/miniconda3/envs/data_augmentation_env/lib/python3.9/site-packages/torch/nn/modules/module.py:1541\u001b[0m, in \u001b[0;36mModule._call_impl\u001b[0;34m(self, *args, **kwargs)\u001b[0m\n\u001b[1;32m   1536\u001b[0m \u001b[38;5;66;03m# If we don't have any hooks, we want to skip the rest of the logic in\u001b[39;00m\n\u001b[1;32m   1537\u001b[0m \u001b[38;5;66;03m# this function, and just call forward.\u001b[39;00m\n\u001b[1;32m   1538\u001b[0m \u001b[38;5;28;01mif\u001b[39;00m \u001b[38;5;129;01mnot\u001b[39;00m (\u001b[38;5;28mself\u001b[39m\u001b[38;5;241m.\u001b[39m_backward_hooks \u001b[38;5;129;01mor\u001b[39;00m \u001b[38;5;28mself\u001b[39m\u001b[38;5;241m.\u001b[39m_backward_pre_hooks \u001b[38;5;129;01mor\u001b[39;00m \u001b[38;5;28mself\u001b[39m\u001b[38;5;241m.\u001b[39m_forward_hooks \u001b[38;5;129;01mor\u001b[39;00m \u001b[38;5;28mself\u001b[39m\u001b[38;5;241m.\u001b[39m_forward_pre_hooks\n\u001b[1;32m   1539\u001b[0m         \u001b[38;5;129;01mor\u001b[39;00m _global_backward_pre_hooks \u001b[38;5;129;01mor\u001b[39;00m _global_backward_hooks\n\u001b[1;32m   1540\u001b[0m         \u001b[38;5;129;01mor\u001b[39;00m _global_forward_hooks \u001b[38;5;129;01mor\u001b[39;00m _global_forward_pre_hooks):\n\u001b[0;32m-> 1541\u001b[0m     \u001b[38;5;28;01mreturn\u001b[39;00m \u001b[43mforward_call\u001b[49m\u001b[43m(\u001b[49m\u001b[38;5;241;43m*\u001b[39;49m\u001b[43margs\u001b[49m\u001b[43m,\u001b[49m\u001b[43m \u001b[49m\u001b[38;5;241;43m*\u001b[39;49m\u001b[38;5;241;43m*\u001b[39;49m\u001b[43mkwargs\u001b[49m\u001b[43m)\u001b[49m\n\u001b[1;32m   1543\u001b[0m \u001b[38;5;28;01mtry\u001b[39;00m:\n\u001b[1;32m   1544\u001b[0m     result \u001b[38;5;241m=\u001b[39m \u001b[38;5;28;01mNone\u001b[39;00m\n",
            "File \u001b[0;32m~/miniconda3/envs/data_augmentation_env/lib/python3.9/site-packages/torch/nn/modules/container.py:217\u001b[0m, in \u001b[0;36mSequential.forward\u001b[0;34m(self, input)\u001b[0m\n\u001b[1;32m    215\u001b[0m \u001b[38;5;28;01mdef\u001b[39;00m\u001b[38;5;250m \u001b[39m\u001b[38;5;21mforward\u001b[39m(\u001b[38;5;28mself\u001b[39m, \u001b[38;5;28minput\u001b[39m):\n\u001b[1;32m    216\u001b[0m     \u001b[38;5;28;01mfor\u001b[39;00m module \u001b[38;5;129;01min\u001b[39;00m \u001b[38;5;28mself\u001b[39m:\n\u001b[0;32m--> 217\u001b[0m         \u001b[38;5;28minput\u001b[39m \u001b[38;5;241m=\u001b[39m \u001b[43mmodule\u001b[49m\u001b[43m(\u001b[49m\u001b[38;5;28;43minput\u001b[39;49m\u001b[43m)\u001b[49m\n\u001b[1;32m    218\u001b[0m     \u001b[38;5;28;01mreturn\u001b[39;00m \u001b[38;5;28minput\u001b[39m\n",
            "File \u001b[0;32m~/miniconda3/envs/data_augmentation_env/lib/python3.9/site-packages/torch/nn/modules/module.py:1532\u001b[0m, in \u001b[0;36mModule._wrapped_call_impl\u001b[0;34m(self, *args, **kwargs)\u001b[0m\n\u001b[1;32m   1530\u001b[0m     \u001b[38;5;28;01mreturn\u001b[39;00m \u001b[38;5;28mself\u001b[39m\u001b[38;5;241m.\u001b[39m_compiled_call_impl(\u001b[38;5;241m*\u001b[39margs, \u001b[38;5;241m*\u001b[39m\u001b[38;5;241m*\u001b[39mkwargs)  \u001b[38;5;66;03m# type: ignore[misc]\u001b[39;00m\n\u001b[1;32m   1531\u001b[0m \u001b[38;5;28;01melse\u001b[39;00m:\n\u001b[0;32m-> 1532\u001b[0m     \u001b[38;5;28;01mreturn\u001b[39;00m \u001b[38;5;28;43mself\u001b[39;49m\u001b[38;5;241;43m.\u001b[39;49m\u001b[43m_call_impl\u001b[49m\u001b[43m(\u001b[49m\u001b[38;5;241;43m*\u001b[39;49m\u001b[43margs\u001b[49m\u001b[43m,\u001b[49m\u001b[43m \u001b[49m\u001b[38;5;241;43m*\u001b[39;49m\u001b[38;5;241;43m*\u001b[39;49m\u001b[43mkwargs\u001b[49m\u001b[43m)\u001b[49m\n",
            "File \u001b[0;32m~/miniconda3/envs/data_augmentation_env/lib/python3.9/site-packages/torch/nn/modules/module.py:1541\u001b[0m, in \u001b[0;36mModule._call_impl\u001b[0;34m(self, *args, **kwargs)\u001b[0m\n\u001b[1;32m   1536\u001b[0m \u001b[38;5;66;03m# If we don't have any hooks, we want to skip the rest of the logic in\u001b[39;00m\n\u001b[1;32m   1537\u001b[0m \u001b[38;5;66;03m# this function, and just call forward.\u001b[39;00m\n\u001b[1;32m   1538\u001b[0m \u001b[38;5;28;01mif\u001b[39;00m \u001b[38;5;129;01mnot\u001b[39;00m (\u001b[38;5;28mself\u001b[39m\u001b[38;5;241m.\u001b[39m_backward_hooks \u001b[38;5;129;01mor\u001b[39;00m \u001b[38;5;28mself\u001b[39m\u001b[38;5;241m.\u001b[39m_backward_pre_hooks \u001b[38;5;129;01mor\u001b[39;00m \u001b[38;5;28mself\u001b[39m\u001b[38;5;241m.\u001b[39m_forward_hooks \u001b[38;5;129;01mor\u001b[39;00m \u001b[38;5;28mself\u001b[39m\u001b[38;5;241m.\u001b[39m_forward_pre_hooks\n\u001b[1;32m   1539\u001b[0m         \u001b[38;5;129;01mor\u001b[39;00m _global_backward_pre_hooks \u001b[38;5;129;01mor\u001b[39;00m _global_backward_hooks\n\u001b[1;32m   1540\u001b[0m         \u001b[38;5;129;01mor\u001b[39;00m _global_forward_hooks \u001b[38;5;129;01mor\u001b[39;00m _global_forward_pre_hooks):\n\u001b[0;32m-> 1541\u001b[0m     \u001b[38;5;28;01mreturn\u001b[39;00m \u001b[43mforward_call\u001b[49m\u001b[43m(\u001b[49m\u001b[38;5;241;43m*\u001b[39;49m\u001b[43margs\u001b[49m\u001b[43m,\u001b[49m\u001b[43m \u001b[49m\u001b[38;5;241;43m*\u001b[39;49m\u001b[38;5;241;43m*\u001b[39;49m\u001b[43mkwargs\u001b[49m\u001b[43m)\u001b[49m\n\u001b[1;32m   1543\u001b[0m \u001b[38;5;28;01mtry\u001b[39;00m:\n\u001b[1;32m   1544\u001b[0m     result \u001b[38;5;241m=\u001b[39m \u001b[38;5;28;01mNone\u001b[39;00m\n",
            "File \u001b[0;32m~/miniconda3/envs/data_augmentation_env/lib/python3.9/site-packages/torchvision/models/resnet.py:154\u001b[0m, in \u001b[0;36mBottleneck.forward\u001b[0;34m(self, x)\u001b[0m\n\u001b[1;32m    151\u001b[0m out \u001b[38;5;241m=\u001b[39m \u001b[38;5;28mself\u001b[39m\u001b[38;5;241m.\u001b[39mbn2(out)\n\u001b[1;32m    152\u001b[0m out \u001b[38;5;241m=\u001b[39m \u001b[38;5;28mself\u001b[39m\u001b[38;5;241m.\u001b[39mrelu(out)\n\u001b[0;32m--> 154\u001b[0m out \u001b[38;5;241m=\u001b[39m \u001b[38;5;28;43mself\u001b[39;49m\u001b[38;5;241;43m.\u001b[39;49m\u001b[43mconv3\u001b[49m\u001b[43m(\u001b[49m\u001b[43mout\u001b[49m\u001b[43m)\u001b[49m\n\u001b[1;32m    155\u001b[0m out \u001b[38;5;241m=\u001b[39m \u001b[38;5;28mself\u001b[39m\u001b[38;5;241m.\u001b[39mbn3(out)\n\u001b[1;32m    157\u001b[0m \u001b[38;5;28;01mif\u001b[39;00m \u001b[38;5;28mself\u001b[39m\u001b[38;5;241m.\u001b[39mdownsample \u001b[38;5;129;01mis\u001b[39;00m \u001b[38;5;129;01mnot\u001b[39;00m \u001b[38;5;28;01mNone\u001b[39;00m:\n",
            "File \u001b[0;32m~/miniconda3/envs/data_augmentation_env/lib/python3.9/site-packages/torch/nn/modules/module.py:1532\u001b[0m, in \u001b[0;36mModule._wrapped_call_impl\u001b[0;34m(self, *args, **kwargs)\u001b[0m\n\u001b[1;32m   1530\u001b[0m     \u001b[38;5;28;01mreturn\u001b[39;00m \u001b[38;5;28mself\u001b[39m\u001b[38;5;241m.\u001b[39m_compiled_call_impl(\u001b[38;5;241m*\u001b[39margs, \u001b[38;5;241m*\u001b[39m\u001b[38;5;241m*\u001b[39mkwargs)  \u001b[38;5;66;03m# type: ignore[misc]\u001b[39;00m\n\u001b[1;32m   1531\u001b[0m \u001b[38;5;28;01melse\u001b[39;00m:\n\u001b[0;32m-> 1532\u001b[0m     \u001b[38;5;28;01mreturn\u001b[39;00m \u001b[38;5;28;43mself\u001b[39;49m\u001b[38;5;241;43m.\u001b[39;49m\u001b[43m_call_impl\u001b[49m\u001b[43m(\u001b[49m\u001b[38;5;241;43m*\u001b[39;49m\u001b[43margs\u001b[49m\u001b[43m,\u001b[49m\u001b[43m \u001b[49m\u001b[38;5;241;43m*\u001b[39;49m\u001b[38;5;241;43m*\u001b[39;49m\u001b[43mkwargs\u001b[49m\u001b[43m)\u001b[49m\n",
            "File \u001b[0;32m~/miniconda3/envs/data_augmentation_env/lib/python3.9/site-packages/torch/nn/modules/module.py:1541\u001b[0m, in \u001b[0;36mModule._call_impl\u001b[0;34m(self, *args, **kwargs)\u001b[0m\n\u001b[1;32m   1536\u001b[0m \u001b[38;5;66;03m# If we don't have any hooks, we want to skip the rest of the logic in\u001b[39;00m\n\u001b[1;32m   1537\u001b[0m \u001b[38;5;66;03m# this function, and just call forward.\u001b[39;00m\n\u001b[1;32m   1538\u001b[0m \u001b[38;5;28;01mif\u001b[39;00m \u001b[38;5;129;01mnot\u001b[39;00m (\u001b[38;5;28mself\u001b[39m\u001b[38;5;241m.\u001b[39m_backward_hooks \u001b[38;5;129;01mor\u001b[39;00m \u001b[38;5;28mself\u001b[39m\u001b[38;5;241m.\u001b[39m_backward_pre_hooks \u001b[38;5;129;01mor\u001b[39;00m \u001b[38;5;28mself\u001b[39m\u001b[38;5;241m.\u001b[39m_forward_hooks \u001b[38;5;129;01mor\u001b[39;00m \u001b[38;5;28mself\u001b[39m\u001b[38;5;241m.\u001b[39m_forward_pre_hooks\n\u001b[1;32m   1539\u001b[0m         \u001b[38;5;129;01mor\u001b[39;00m _global_backward_pre_hooks \u001b[38;5;129;01mor\u001b[39;00m _global_backward_hooks\n\u001b[1;32m   1540\u001b[0m         \u001b[38;5;129;01mor\u001b[39;00m _global_forward_hooks \u001b[38;5;129;01mor\u001b[39;00m _global_forward_pre_hooks):\n\u001b[0;32m-> 1541\u001b[0m     \u001b[38;5;28;01mreturn\u001b[39;00m \u001b[43mforward_call\u001b[49m\u001b[43m(\u001b[49m\u001b[38;5;241;43m*\u001b[39;49m\u001b[43margs\u001b[49m\u001b[43m,\u001b[49m\u001b[43m \u001b[49m\u001b[38;5;241;43m*\u001b[39;49m\u001b[38;5;241;43m*\u001b[39;49m\u001b[43mkwargs\u001b[49m\u001b[43m)\u001b[49m\n\u001b[1;32m   1543\u001b[0m \u001b[38;5;28;01mtry\u001b[39;00m:\n\u001b[1;32m   1544\u001b[0m     result \u001b[38;5;241m=\u001b[39m \u001b[38;5;28;01mNone\u001b[39;00m\n",
            "File \u001b[0;32m~/miniconda3/envs/data_augmentation_env/lib/python3.9/site-packages/torch/nn/modules/conv.py:460\u001b[0m, in \u001b[0;36mConv2d.forward\u001b[0;34m(self, input)\u001b[0m\n\u001b[1;32m    459\u001b[0m \u001b[38;5;28;01mdef\u001b[39;00m\u001b[38;5;250m \u001b[39m\u001b[38;5;21mforward\u001b[39m(\u001b[38;5;28mself\u001b[39m, \u001b[38;5;28minput\u001b[39m: Tensor) \u001b[38;5;241m-\u001b[39m\u001b[38;5;241m>\u001b[39m Tensor:\n\u001b[0;32m--> 460\u001b[0m     \u001b[38;5;28;01mreturn\u001b[39;00m \u001b[38;5;28;43mself\u001b[39;49m\u001b[38;5;241;43m.\u001b[39;49m\u001b[43m_conv_forward\u001b[49m\u001b[43m(\u001b[49m\u001b[38;5;28;43minput\u001b[39;49m\u001b[43m,\u001b[49m\u001b[43m \u001b[49m\u001b[38;5;28;43mself\u001b[39;49m\u001b[38;5;241;43m.\u001b[39;49m\u001b[43mweight\u001b[49m\u001b[43m,\u001b[49m\u001b[43m \u001b[49m\u001b[38;5;28;43mself\u001b[39;49m\u001b[38;5;241;43m.\u001b[39;49m\u001b[43mbias\u001b[49m\u001b[43m)\u001b[49m\n",
            "File \u001b[0;32m~/miniconda3/envs/data_augmentation_env/lib/python3.9/site-packages/torch/nn/modules/conv.py:456\u001b[0m, in \u001b[0;36mConv2d._conv_forward\u001b[0;34m(self, input, weight, bias)\u001b[0m\n\u001b[1;32m    452\u001b[0m \u001b[38;5;28;01mif\u001b[39;00m \u001b[38;5;28mself\u001b[39m\u001b[38;5;241m.\u001b[39mpadding_mode \u001b[38;5;241m!=\u001b[39m \u001b[38;5;124m'\u001b[39m\u001b[38;5;124mzeros\u001b[39m\u001b[38;5;124m'\u001b[39m:\n\u001b[1;32m    453\u001b[0m     \u001b[38;5;28;01mreturn\u001b[39;00m F\u001b[38;5;241m.\u001b[39mconv2d(F\u001b[38;5;241m.\u001b[39mpad(\u001b[38;5;28minput\u001b[39m, \u001b[38;5;28mself\u001b[39m\u001b[38;5;241m.\u001b[39m_reversed_padding_repeated_twice, mode\u001b[38;5;241m=\u001b[39m\u001b[38;5;28mself\u001b[39m\u001b[38;5;241m.\u001b[39mpadding_mode),\n\u001b[1;32m    454\u001b[0m                     weight, bias, \u001b[38;5;28mself\u001b[39m\u001b[38;5;241m.\u001b[39mstride,\n\u001b[1;32m    455\u001b[0m                     _pair(\u001b[38;5;241m0\u001b[39m), \u001b[38;5;28mself\u001b[39m\u001b[38;5;241m.\u001b[39mdilation, \u001b[38;5;28mself\u001b[39m\u001b[38;5;241m.\u001b[39mgroups)\n\u001b[0;32m--> 456\u001b[0m \u001b[38;5;28;01mreturn\u001b[39;00m \u001b[43mF\u001b[49m\u001b[38;5;241;43m.\u001b[39;49m\u001b[43mconv2d\u001b[49m\u001b[43m(\u001b[49m\u001b[38;5;28;43minput\u001b[39;49m\u001b[43m,\u001b[49m\u001b[43m \u001b[49m\u001b[43mweight\u001b[49m\u001b[43m,\u001b[49m\u001b[43m \u001b[49m\u001b[43mbias\u001b[49m\u001b[43m,\u001b[49m\u001b[43m \u001b[49m\u001b[38;5;28;43mself\u001b[39;49m\u001b[38;5;241;43m.\u001b[39;49m\u001b[43mstride\u001b[49m\u001b[43m,\u001b[49m\n\u001b[1;32m    457\u001b[0m \u001b[43m                \u001b[49m\u001b[38;5;28;43mself\u001b[39;49m\u001b[38;5;241;43m.\u001b[39;49m\u001b[43mpadding\u001b[49m\u001b[43m,\u001b[49m\u001b[43m \u001b[49m\u001b[38;5;28;43mself\u001b[39;49m\u001b[38;5;241;43m.\u001b[39;49m\u001b[43mdilation\u001b[49m\u001b[43m,\u001b[49m\u001b[43m \u001b[49m\u001b[38;5;28;43mself\u001b[39;49m\u001b[38;5;241;43m.\u001b[39;49m\u001b[43mgroups\u001b[49m\u001b[43m)\u001b[49m\n",
            "\u001b[0;31mKeyboardInterrupt\u001b[0m: "
          ]
        }
      ],
      "source": [
        "wrn_trained = utils.train_WideResNet(model=wrn, trainloader=train_loader, valloader=val_loader, num_epochs=3, \n",
        "                                     batch_size=32, optimizer=optimizer, criterion=criterion, device=device, scheduler=scheduler,\n",
        "                                     patience=patience, min_delta_loss=min_delta_loss, min_delta_accuracy=min_delta_accuracy)"
      ]
    },
    {
      "cell_type": "code",
      "execution_count": 14,
      "metadata": {
        "colab": {
          "base_uri": "https://localhost:8080/"
        },
        "id": "2bi4e25vNkLe",
        "outputId": "93fea460-b736-4d1b-d4aa-f3bd76917544"
      },
      "outputs": [
        {
          "name": "stdout",
          "output_type": "stream",
          "text": [
            "Accuracy: 69.00%\n",
            "Taux d'erreur: 31.00%\n"
          ]
        },
        {
          "data": {
            "text/plain": [
              "(0.69, 0.31000000000000005)"
            ]
          },
          "execution_count": 14,
          "metadata": {},
          "output_type": "execute_result"
        }
      ],
      "source": [
        "utils.evaluate(wrn_trained, test_loader, device)"
      ]
    },
    {
      "cell_type": "markdown",
      "metadata": {
        "id": "U7ViSt95ZVSk"
      },
      "source": [
        "On note que la généralisation se passe mal, on pert 10% d'accuracy en évaluant le modèle sur le testset."
      ]
    },
    {
      "cell_type": "markdown",
      "metadata": {},
      "source": [
        "## About the importance of learning good data augmentation policies"
      ]
    },
    {
      "cell_type": "markdown",
      "metadata": {},
      "source": [
        "### Label-invariant and label-mixing transformations"
      ]
    },
    {
      "cell_type": "markdown",
      "metadata": {},
      "source": [
        "Ajouter définitions et exemples."
      ]
    },
    {
      "cell_type": "markdown",
      "metadata": {},
      "source": [
        "### Bad augmentation policies"
      ]
    },
    {
      "cell_type": "markdown",
      "metadata": {},
      "source": [
        "Before diving into the art of data augmentation, let us raise awareness on the potential issues triggered by bad augmentation policies."
      ]
    },
    {
      "cell_type": "markdown",
      "metadata": {},
      "source": [
        "- \"Label-variant\" transformations\n",
        "\n",
        "    Unfortunately, when applying augmentations on a dataset, one might introduce bad-labelled data. In fact, the goal of label-invariant augmentations is to enrich the dataset by appllying transformation without altering the labels. The example below illustrates how unconvenient such unwanted augmentation can be."
      ]
    },
    {
      "cell_type": "markdown",
      "metadata": {},
      "source": [
        "Some datasets benefited from good data augmentation policies found empirically. However, such policies are rarely transferable to other datasets. For example, horizontal flipping of images during training is an effective data augmentation method on CIFAR-10, but not on MNIST, due to the different symmetries present in these datasets."
      ]
    },
    {
      "cell_type": "markdown",
      "metadata": {},
      "source": [
        "<center><img src=\"https://github.com/fga-0/automating_data_augmentation/blob/main/img/bad_augmentation_mnist.jpg?raw=1\" height=\"55%\" width=\"55%\"></img></center>"
      ]
    },
    {
      "cell_type": "markdown",
      "metadata": {},
      "source": [
        "# Methods to automate data augnentation"
      ]
    },
    {
      "cell_type": "markdown",
      "metadata": {},
      "source": [
        "Augmentation as a search problem : some transformations might not help or worse deteriorate the dataset as we have seen. \n",
        "\n",
        "Besides, with composition, the search space grows quadratically so a brute-force search is not feasible. "
      ]
    },
    {
      "cell_type": "markdown",
      "metadata": {
        "id": "wpOnKI3QVzsJ"
      },
      "source": [
        "# AutoAugment"
      ]
    },
    {
      "cell_type": "code",
      "execution_count": 15,
      "metadata": {
        "id": "xH1U-viEWgdq"
      },
      "outputs": [],
      "source": [
        "from torchvision.transforms import AutoAugment, AutoAugmentPolicy"
      ]
    },
    {
      "cell_type": "code",
      "execution_count": 16,
      "metadata": {
        "colab": {
          "base_uri": "https://localhost:8080/"
        },
        "id": "ISX1ckJcV18t",
        "outputId": "916f5e5f-82ff-4eaf-dfab-49caba8f81a9"
      },
      "outputs": [
        {
          "name": "stdout",
          "output_type": "stream",
          "text": [
            "Files already downloaded and verified\n"
          ]
        }
      ],
      "source": [
        "transform_augment = transforms.Compose([\n",
        "    transforms.Resize(224),\n",
        "    AutoAugment(AutoAugmentPolicy.CIFAR10),\n",
        "    transforms.ToTensor(),\n",
        "    transforms.Normalize(mean=[0.485, 0.456, 0.406], std=[0.229, 0.224, 0.225]),\n",
        "])\n",
        "\n",
        "trainset_aug = torchvision.datasets.CIFAR10(root=path_to_data, train=True, download=True, transform=transform_augment)"
      ]
    },
    {
      "cell_type": "code",
      "execution_count": 17,
      "metadata": {
        "colab": {
          "base_uri": "https://localhost:8080/"
        },
        "id": "-37blMMMW-ZM",
        "outputId": "123c9c8a-5028-4d39-af1f-b6f295e39be4"
      },
      "outputs": [
        {
          "data": {
            "text/plain": [
              "50000"
            ]
          },
          "execution_count": 17,
          "metadata": {},
          "output_type": "execute_result"
        }
      ],
      "source": [
        "len(trainset_aug)"
      ]
    },
    {
      "cell_type": "code",
      "execution_count": 18,
      "metadata": {
        "id": "ngqjtmdGXZu-"
      },
      "outputs": [],
      "source": [
        "def plot_images(dataset,\n",
        "                n_images\n",
        "                ) :\n",
        "    size = n_images\n",
        "    image_idx = np.random.randint(low=0, high=len(dataset), size=size)\n",
        "    fig, ax = plt.subplots(nrows=1, ncols=size, figsize=(10, 3))\n",
        "    for i in range(size) :\n",
        "        idx = image_idx[i]\n",
        "        raw_image = dataset[idx][0]\n",
        "        ax[i].imshow(np.transpose(raw_image, (1,2,0)))\n",
        "        ax[i].axis(\"off\")\n",
        "    plt.show()"
      ]
    },
    {
      "cell_type": "code",
      "execution_count": 19,
      "metadata": {
        "colab": {
          "base_uri": "https://localhost:8080/",
          "height": 277
        },
        "id": "KBSto1K6Xa-7",
        "outputId": "17d40470-03f2-40ec-92ee-a5aa5b4abd83"
      },
      "outputs": [
        {
          "name": "stderr",
          "output_type": "stream",
          "text": [
            "WARNING:matplotlib.image:Clipping input data to the valid range for imshow with RGB data ([0..1] for floats or [0..255] for integers). Got range [-1.457983..1.6988237].\n",
            "WARNING:matplotlib.image:Clipping input data to the valid range for imshow with RGB data ([0..1] for floats or [0..255] for integers). Got range [-2.117904..2.64].\n",
            "WARNING:matplotlib.image:Clipping input data to the valid range for imshow with RGB data ([0..1] for floats or [0..255] for integers). Got range [-1.8081232..-0.49725482].\n",
            "WARNING:matplotlib.image:Clipping input data to the valid range for imshow with RGB data ([0..1] for floats or [0..255] for integers). Got range [-2.117904..2.64].\n",
            "WARNING:matplotlib.image:Clipping input data to the valid range for imshow with RGB data ([0..1] for floats or [0..255] for integers). Got range [-2.117904..2.64].\n"
          ]
        },
        {
          "data": {
            "image/png": "[encoded data removed]",
            "text/plain": [
              "<Figure size 1000x300 with 5 Axes>"
            ]
          },
          "metadata": {},
          "output_type": "display_data"
        }
      ],
      "source": [
        "plot_images(trainset_aug, 5)"
      ]
    },
    {
      "cell_type": "code",
      "execution_count": 20,
      "metadata": {
        "colab": {
          "base_uri": "https://localhost:8080/"
        },
        "id": "OGhUhiFsZjLz",
        "outputId": "a73762dd-392a-4e32-baa7-a6cebd7c3a8e"
      },
      "outputs": [
        {
          "name": "stdout",
          "output_type": "stream",
          "text": [
            "Training samples: 1000\n",
            "Test samples: 200\n"
          ]
        }
      ],
      "source": [
        "train_subset_aug, test_subset_aug = utils.get_subset(trainset=trainset_aug, testset=testset, percentage=0.02)"
      ]
    },
    {
      "cell_type": "code",
      "execution_count": null,
      "metadata": {
        "id": "4tylxItOZt3B"
      },
      "outputs": [],
      "source": [
        "# Split the training dataset into training and validation sets\n",
        "train_loader_aug, val_loader_aug = get_trainloader_valloader(dataset=train_subset_aug,\n",
        "                                                             split=0.8,\n",
        "                                                             batch_size=32)\n",
        "test_loader_aug = DataLoader(test_subset_aug, batch_size=32, shuffle=False)"
      ]
    },
    {
      "cell_type": "markdown",
      "metadata": {
        "id": "fKEODqQgiVoX"
      },
      "source": [
        "Let us reload the WideResNet pretrained network."
      ]
    },
    {
      "cell_type": "code",
      "execution_count": 22,
      "metadata": {
        "colab": {
          "base_uri": "https://localhost:8080/"
        },
        "id": "zZc6odBmiVLC",
        "outputId": "dc468de1-6624-4249-fb9e-2bb4774320bb"
      },
      "outputs": [
        {
          "name": "stdout",
          "output_type": "stream",
          "text": [
            "Linear(in_features=2048, out_features=10, bias=True)\n",
            "Using device: cuda\n"
          ]
        }
      ],
      "source": [
        "from torchvision.models import wide_resnet50_2\n",
        "\n",
        "# Load Wide ResNet model\n",
        "device = torch.device(\"cuda\" if torch.cuda.is_available() else \"cpu\")\n",
        "\n",
        "# wrn = wide_resnet50_2(num_classes=10)  # CIFAR-10 has 10 classes\n",
        "\n",
        "# Load a pre-trained Wide ResNet-50-2 model:\n",
        "wrn = wide_resnet50_2(pretrained=True)\n",
        "# Freeze all model parameters except for the final layer:\n",
        "for param in wrn.parameters():\n",
        "    param.requires_grad = False\n",
        "# Get the number of input features for the original last layer:\n",
        "num_feature = wrn.fc.in_features\n",
        "# Replace the final classification layer to match your dataset:\n",
        "wrn.fc = nn.Linear(num_feature, 10)\n",
        "# View the structure of the new final layer (optional):\n",
        "print(wrn.fc)\n",
        "# Move the model to the GPU for accelerated training:\n",
        "wrn = wrn.to(device)\n",
        "\n",
        "print(f\"Using device: {device}\")"
      ]
    },
    {
      "cell_type": "code",
      "execution_count": 23,
      "metadata": {
        "id": "qN9X11icZkk8"
      },
      "outputs": [],
      "source": [
        "optimizer = optim.Adam(wrn.fc.parameters(), lr=0.001)\n",
        "# Learning rate scheduler for better convergence\n",
        "scheduler = optim.lr_scheduler.CosineAnnealingLR(optimizer, T_max=200)"
      ]
    },
    {
      "cell_type": "code",
      "execution_count": null,
      "metadata": {
        "colab": {
          "base_uri": "https://localhost:8080/"
        },
        "id": "rd_5-TCZWas5",
        "outputId": "0968de41-735c-47ac-fd31-6e7ee1793349"
      },
      "outputs": [
        {
          "name": "stderr",
          "output_type": "stream",
          "text": []
        },
        {
          "name": "stdout",
          "output_type": "stream",
          "text": [
            "Epoch 1: Loss=1.9124, Accuracy=35.80%\n"
          ]
        },
        {
          "name": "stderr",
          "output_type": "stream",
          "text": []
        },
        {
          "name": "stdout",
          "output_type": "stream",
          "text": [
            "Epoch 2: Loss=1.2958, Accuracy=62.70%\n"
          ]
        },
        {
          "name": "stderr",
          "output_type": "stream",
          "text": []
        },
        {
          "name": "stdout",
          "output_type": "stream",
          "text": [
            "Epoch 3: Loss=1.0557, Accuracy=68.40%\n"
          ]
        },
        {
          "name": "stderr",
          "output_type": "stream",
          "text": []
        },
        {
          "name": "stdout",
          "output_type": "stream",
          "text": [
            "Epoch 4: Loss=0.8857, Accuracy=73.50%\n"
          ]
        },
        {
          "name": "stderr",
          "output_type": "stream",
          "text": [
            "                                                                                   "
          ]
        },
        {
          "name": "stdout",
          "output_type": "stream",
          "text": [
            "Epoch 5: Loss=0.7740, Accuracy=80.10%\n",
            "Training complete!\n"
          ]
        },
        {
          "name": "stderr",
          "output_type": "stream",
          "text": [
            "\r"
          ]
        }
      ],
      "source": [
        "wrn_trained_on_augmented_data = utils.train_WideResNet(model=wrn, trainloader=train_loader, num_epochs=5, \n",
        "                                                       batch_size=32, optimizer=optimizer, criterion=criterion, \n",
        "                                                       device=device, scheduler=scheduler, patience=patience, \n",
        "                                                       min_delta_loss=min_delta_loss, min_delta_accuracy=min_delta_accuracy)"
      ]
    },
    {
      "cell_type": "code",
      "execution_count": 25,
      "metadata": {
        "colab": {
          "base_uri": "https://localhost:8080/"
        },
        "id": "ZI-bi0VuaYio",
        "outputId": "2deb7905-bd8a-4173-a5a2-a9f61eb2d17d"
      },
      "outputs": [
        {
          "name": "stdout",
          "output_type": "stream",
          "text": [
            "Accuracy: 73.00%\n",
            "Taux d'erreur: 27.00%\n"
          ]
        },
        {
          "data": {
            "text/plain": [
              "(0.73, 0.27)"
            ]
          },
          "execution_count": 25,
          "metadata": {},
          "output_type": "execute_result"
        }
      ],
      "source": [
        "utils.evaluate(wrn_trained_on_augmented_data, test_loader, device)"
      ]
    },
    {
      "cell_type": "markdown",
      "metadata": {
        "id": "gnJg7UJhcP4B"
      },
      "source": [
        "Now let's concatenate the raw subset and the augmented subset in order to train the WideResNet with augmented data."
      ]
    },
    {
      "cell_type": "code",
      "execution_count": 26,
      "metadata": {
        "id": "1RW8bZwUcOZo"
      },
      "outputs": [],
      "source": [
        "from torch.utils.data import ConcatDataset"
      ]
    },
    {
      "cell_type": "code",
      "execution_count": null,
      "metadata": {
        "id": "ManMNVRrcPYg"
      },
      "outputs": [],
      "source": [
        "train_subset_raw_and_AA = ConcatDataset([train_subset, train_subset_aug])\n",
        "\n",
        "train_loader_raw_and_AA, val_loader_raw_and_AA = get_trainloader_valloader(dataset=train_subset_raw_and_AA, \n",
        "                                                                           split=0.8,\n",
        "                                                                           batch_size=32) \n",
        "test_loader_raw_and_AA = DataLoader(test_subset, batch_size=32, shuffle=False, num_workers=2)"
      ]
    },
    {
      "cell_type": "code",
      "execution_count": null,
      "metadata": {
        "colab": {
          "base_uri": "https://localhost:8080/"
        },
        "id": "OfMojkPndceA",
        "outputId": "24cd077a-ad71-4f51-deb9-9497a5d4bf17"
      },
      "outputs": [
        {
          "data": {
            "text/plain": [
              "2000"
            ]
          },
          "execution_count": 28,
          "metadata": {},
          "output_type": "execute_result"
        }
      ],
      "source": [
        "len(train_subset_raw_and_AA)"
      ]
    },
    {
      "cell_type": "markdown",
      "metadata": {
        "id": "Fj-FrsoxigcB"
      },
      "source": [
        "Let us reload the WideResNet pretrained network."
      ]
    },
    {
      "cell_type": "code",
      "execution_count": null,
      "metadata": {
        "id": "MLHPFtx4kCK7"
      },
      "outputs": [],
      "source": [
        "# !pip install torchviz"
      ]
    },
    {
      "cell_type": "code",
      "execution_count": null,
      "metadata": {
        "colab": {
          "base_uri": "https://localhost:8080/",
          "height": 35
        },
        "id": "F8Ka_pDokF_K",
        "outputId": "c121a420-818d-4a89-d401-28196db5e820"
      },
      "outputs": [
        {
          "data": {
            "application/vnd.google.colaboratory.intrinsic+json": {
              "type": "string"
            },
            "text/plain": [
              "'wrn_architecture.png'"
            ]
          },
          "execution_count": 72,
          "metadata": {},
          "output_type": "execute_result"
        }
      ],
      "source": [
        "# from torchviz import make_dot\n",
        "\n",
        "# # Generate dummy input\n",
        "# x = torch.randn(1, 3, 224, 224).to(device)\n",
        "\n",
        "# # Forward pass\n",
        "# y = wrn(x)\n",
        "\n",
        "# # Create a visualization\n",
        "# make_dot(y, params=dict(wrn.named_parameters())).render(\"wrn_architecture\", format=\"png\")"
      ]
    },
    {
      "cell_type": "code",
      "execution_count": null,
      "metadata": {
        "colab": {
          "base_uri": "https://localhost:8080/"
        },
        "id": "2SAMvl3LjYw_",
        "outputId": "25b68176-a786-4d33-e474-08f262240e6d"
      },
      "outputs": [
        {
          "name": "stdout",
          "output_type": "stream",
          "text": [
            "Collecting torchinfo\n",
            "  Downloading torchinfo-1.8.0-py3-none-any.whl.metadata (21 kB)\n",
            "Downloading torchinfo-1.8.0-py3-none-any.whl (23 kB)\n",
            "Installing collected packages: torchinfo\n",
            "Successfully installed torchinfo-1.8.0\n"
          ]
        }
      ],
      "source": [
        "# !pip install torchinfo"
      ]
    },
    {
      "cell_type": "code",
      "execution_count": null,
      "metadata": {
        "id": "yCSdi9kVjNBE"
      },
      "outputs": [],
      "source": [
        "# from torchinfo import summary"
      ]
    },
    {
      "cell_type": "code",
      "execution_count": null,
      "metadata": {
        "id": "9wmjJGKtjenN"
      },
      "outputs": [],
      "source": [
        "# Display the architecture summary\n",
        "# summary(wrn, input_size=(1, 3, 224, 224))  # (batch_size, channels, height, width)"
      ]
    },
    {
      "cell_type": "code",
      "execution_count": null,
      "metadata": {
        "id": "cikaMFxviy1Z"
      },
      "outputs": [],
      "source": [
        "# print(wrn)"
      ]
    },
    {
      "cell_type": "code",
      "execution_count": 29,
      "metadata": {
        "colab": {
          "base_uri": "https://localhost:8080/"
        },
        "id": "XmCh89gNijLs",
        "outputId": "d032842f-27a2-448b-92a0-90c2343f8087"
      },
      "outputs": [
        {
          "name": "stdout",
          "output_type": "stream",
          "text": [
            "Linear(in_features=2048, out_features=10, bias=True)\n"
          ]
        }
      ],
      "source": [
        "# # Load a pre-trained Wide ResNet-50-2 model:\n",
        "wrn = wide_resnet50_2(pretrained=True)\n",
        "# Freeze all model parameters except for the final layer:\n",
        "for param in wrn.parameters():\n",
        "    param.requires_grad = False\n",
        "# Get the number of input features for the original last layer:\n",
        "num_feature = wrn.fc.in_features\n",
        "# Replace the final classification layer to match your dataset:\n",
        "wrn.fc = nn.Linear(num_feature, 10)\n",
        "# View the structure of the new final layer (optional):\n",
        "print(wrn.fc)\n",
        "# Move the model to the GPU for accelerated training:\n",
        "wrn = wrn.to(device)"
      ]
    },
    {
      "cell_type": "code",
      "execution_count": 30,
      "metadata": {
        "id": "JD_664jHZ3gY"
      },
      "outputs": [],
      "source": [
        "optimizer = optim.Adam(wrn.fc.parameters(), lr=0.001)\n",
        "# Learning rate scheduler for better convergence\n",
        "scheduler = optim.lr_scheduler.CosineAnnealingLR(optimizer, T_max=200)"
      ]
    },
    {
      "cell_type": "code",
      "execution_count": null,
      "metadata": {
        "colab": {
          "base_uri": "https://localhost:8080/"
        },
        "id": "MTE9MITUdJ_5",
        "outputId": "d83dd987-28c2-4043-9906-22834dbfa3a5"
      },
      "outputs": [
        {
          "name": "stderr",
          "output_type": "stream",
          "text": []
        },
        {
          "name": "stdout",
          "output_type": "stream",
          "text": [
            "Epoch 1: Loss=1.7880, Accuracy=40.40%\n"
          ]
        },
        {
          "name": "stderr",
          "output_type": "stream",
          "text": []
        },
        {
          "name": "stdout",
          "output_type": "stream",
          "text": [
            "Epoch 2: Loss=1.2292, Accuracy=61.40%\n"
          ]
        },
        {
          "name": "stderr",
          "output_type": "stream",
          "text": []
        },
        {
          "name": "stdout",
          "output_type": "stream",
          "text": [
            "Epoch 3: Loss=1.1016, Accuracy=63.40%\n"
          ]
        },
        {
          "name": "stderr",
          "output_type": "stream",
          "text": []
        },
        {
          "name": "stdout",
          "output_type": "stream",
          "text": [
            "Epoch 4: Loss=0.9978, Accuracy=69.30%\n"
          ]
        },
        {
          "name": "stderr",
          "output_type": "stream",
          "text": [
            "                                                                                   "
          ]
        },
        {
          "name": "stdout",
          "output_type": "stream",
          "text": [
            "Epoch 5: Loss=0.9154, Accuracy=71.45%\n",
            "Training complete!\n"
          ]
        },
        {
          "name": "stderr",
          "output_type": "stream",
          "text": [
            "\r"
          ]
        }
      ],
      "source": [
        "wrn_trained_on_raw_AND_augmented_data = utils.train_WideResNet(model=wrn, trainloader=train_loader_raw_and_AA, num_epochs=5, batch_size=32, \n",
        "                                                               optimizer=optimizer, criterion=criterion, device=device, scheduler=scheduler,\n",
        "                                                               valloader=val_loader_raw_and_AA, patience=patience, \n",
        "                                                               min_delta_loss=min_delta_loss, min_delta_accuracy=min_delta_accuracy)"
      ]
    },
    {
      "cell_type": "code",
      "execution_count": 32,
      "metadata": {
        "colab": {
          "base_uri": "https://localhost:8080/"
        },
        "id": "5K25FLbpdsQf",
        "outputId": "6585a340-fa31-444b-c5a3-1a68366af3e4"
      },
      "outputs": [
        {
          "name": "stdout",
          "output_type": "stream",
          "text": [
            "Accuracy: 75.50%\n",
            "Taux d'erreur: 24.50%\n"
          ]
        },
        {
          "data": {
            "text/plain": [
              "(0.755, 0.245)"
            ]
          },
          "execution_count": 32,
          "metadata": {},
          "output_type": "execute_result"
        }
      ],
      "source": [
        "utils.evaluate(wrn_trained_on_raw_AND_augmented_data, test_loader, device)"
      ]
    },
    {
      "cell_type": "markdown",
      "metadata": {},
      "source": [
        "# RandAugment"
      ]
    },
    {
      "cell_type": "code",
      "execution_count": null,
      "metadata": {},
      "outputs": [],
      "source": [
        "from torchvision.transforms import RandAugment\n",
        "\n",
        "# Définition des transformations avec RandAugment\n",
        "transform_randaugment = transforms.Compose([\n",
        "    transforms.Resize(224),\n",
        "    RandAugment(num_ops=2, magnitude=9),  # num_ops définit le nombre d'opérations aléatoires, magnitude leur intensité\n",
        "    transforms.ToTensor(),\n",
        "    transforms.Normalize(mean=[0.485, 0.456, 0.406], std=[0.229, 0.224, 0.225]),\n",
        "])\n",
        "\n",
        "# Chargement du dataset avec augmentation\n",
        "trainset_randaugment = torchvision.datasets.CIFAR10(root=path_to_data, train=True, download=True, transform=transform_randaugment)"
      ]
    },
    {
      "cell_type": "code",
      "execution_count": null,
      "metadata": {},
      "outputs": [],
      "source": [
        "train_subset_randaugment, test_subset_randaugment = utils.get_subset(trainset=trainset_randaugment, testset=testset, percentage=0.02)\n"
      ]
    },
    {
      "cell_type": "code",
      "execution_count": null,
      "metadata": {},
      "outputs": [],
      "source": [
        "train_subset_raw_and_randaugment = ConcatDataset([train_subset, train_subset_randaugment])"
      ]
    },
    {
      "cell_type": "code",
      "execution_count": null,
      "metadata": {},
      "outputs": [],
      "source": [
        "train_loader_raw_and_randaugment, val_loader_raw_and_randaugment = get_trainloader_valloader(dataset=train_subset_raw_and_randaugment,\n",
        "                                                                                             split=0.8,\n",
        "                                                                                             batch_size=32)\n",
        "test_loader_raw_and_randaugment = DataLoader(test_subset, batch_size=32, shuffle=False, num_workers=2)"
      ]
    },
    {
      "cell_type": "code",
      "execution_count": null,
      "metadata": {},
      "outputs": [],
      "source": [
        "# Load Wide ResNet model\n",
        "# Load a pre-trained Wide ResNet-50-2 model:\n",
        "wrn = wide_resnet50_2(pretrained=True)\n",
        "# Freeze all model parameters except for the final layer:\n",
        "for param in wrn.parameters():\n",
        "    param.requires_grad = False\n",
        "# Get the number of input features for the original last layer:\n",
        "num_feature = wrn.fc.in_features\n",
        "# Replace the final classification layer to match your dataset:\n",
        "wrn.fc = nn.Linear(num_feature, 10)\n",
        "# View the structure of the new final layer (optional):\n",
        "print(wrn.fc)\n",
        "# Move the model to the GPU for accelerated training:\n",
        "wrn = wrn.to(device)\n",
        "\n",
        "print(f\"Using device: {device}\")"
      ]
    },
    {
      "cell_type": "code",
      "execution_count": null,
      "metadata": {},
      "outputs": [],
      "source": [
        "optimizer = optim.Adam(wrn.fc.parameters(), lr=0.001)\n",
        "# Learning rate scheduler for better convergence\n",
        "scheduler = optim.lr_scheduler.CosineAnnealingLR(optimizer, T_max=200)"
      ]
    },
    {
      "cell_type": "code",
      "execution_count": null,
      "metadata": {},
      "outputs": [],
      "source": [
        "wrn_trained_on_randaugment_data = utils.train_WideResNet(model=wrn, trainloader=train_loader_raw_and_randaugment, valloader=val_loader_raw_and_randaugment, num_epochs=5, \n",
        "                                                         batch_size=32, optimizer=optimizer, criterion=criterion, device=device, scheduler=scheduler,\n",
        "                                                         patience=patience, min_delta_loss=min_delta_loss, min_delta_accuracy=min_delta_accuracy)"
      ]
    },
    {
      "cell_type": "code",
      "execution_count": null,
      "metadata": {},
      "outputs": [],
      "source": [
        "utils.evaluate(wrn_trained_on_randaugment_data, test_loader, device)"
      ]
    },
    {
      "cell_type": "markdown",
      "metadata": {},
      "source": [
        "## Fast-AutoAugment : Bayesian optimization"
      ]
    },
    {
      "cell_type": "markdown",
      "metadata": {},
      "source": [
        "## Adversarial AutoAugment"
      ]
    },
    {
      "cell_type": "markdown",
      "metadata": {},
      "source": [
        "Achieves state-of-the-art performance."
      ]
    },
    {
      "cell_type": "markdown",
      "metadata": {
        "id": "BdvmuGcAGaA_"
      },
      "source": [
        "## Examples of data augmentation"
      ]
    },
    {
      "cell_type": "markdown",
      "metadata": {
        "id": "YCml4T2AGaA_"
      },
      "source": [
        "Heuristic data augmentation schemes often rely on the composition of a set of simple transformation functions (TFs) such as rotations and flips (see Figure 1). When chosen carefully, data augmentation schemes tuned by human experts can improve model performance. However, such heuristic strategies in practice can cause large variances in end model performance, and may not produce augmentations needed for state-of-the-art models."
      ]
    },
    {
      "cell_type": "markdown",
      "metadata": {
        "id": "NX3ZQh__GaA_"
      },
      "source": [
        "### Augmented data VS synthetic data"
      ]
    },
    {
      "cell_type": "markdown",
      "metadata": {
        "id": "00XY6DvjGaA_"
      },
      "source": [
        "Décrire la différence entre les deux et donner les enjeux de confidentialités liés aux données synthétiques."
      ]
    },
    {
      "cell_type": "markdown",
      "metadata": {
        "id": "y33N-YfzGaA_"
      },
      "source": [
        "### Available transformations"
      ]
    },
    {
      "cell_type": "code",
      "execution_count": null,
      "metadata": {
        "id": "wjbtmkZMGaA_"
      },
      "outputs": [],
      "source": []
    },
    {
      "cell_type": "markdown",
      "metadata": {
        "id": "Cu27iGMnGaA_"
      },
      "source": [
        "### Linear transformations"
      ]
    },
    {
      "cell_type": "markdown",
      "metadata": {
        "id": "6fEDXbU1GaA_"
      },
      "source": []
    },
    {
      "cell_type": "code",
      "execution_count": null,
      "metadata": {
        "id": "PKJnQfqwGaBA"
      },
      "outputs": [],
      "source": [
        "from autoaugment import augmentation_transforms as at"
      ]
    },
    {
      "cell_type": "code",
      "execution_count": null,
      "metadata": {
        "id": "AnjrFCCAGaBA"
      },
      "outputs": [],
      "source": [
        "train_iter = iter(train_loader)\n",
        "images, labels = next(train_iter)\n",
        "image = images[0]\n",
        "label = labels[0]"
      ]
    },
    {
      "cell_type": "code",
      "execution_count": null,
      "metadata": {
        "id": "76TSlCmoGaBA",
        "outputId": "52ee884f-8cc7-485b-c52d-4341fad4a943"
      },
      "outputs": [
        {
          "data": {
            "text/plain": [
              "<matplotlib.image.AxesImage at 0x7fa82d1925e0>"
            ]
          },
          "execution_count": 8,
          "metadata": {},
          "output_type": "execute_result"
        },
        {
          "data": {
            "image/png": "[encoded data removed]",
            "text/plain": [
              "<Figure size 640x480 with 1 Axes>"
            ]
          },
          "metadata": {},
          "output_type": "display_data"
        }
      ],
      "source": [
        "plt.imshow(image.squeeze(), cmap='gray')"
      ]
    },
    {
      "cell_type": "code",
      "execution_count": null,
      "metadata": {
        "id": "zgAbmYzhGaBA"
      },
      "outputs": [],
      "source": [
        "aug_img = at.zero_pad_and_crop(image)"
      ]
    },
    {
      "cell_type": "code",
      "execution_count": null,
      "metadata": {
        "id": "T4gQ4AXLGaBA",
        "outputId": "fcd1f2df-1064-4265-c5a3-ba9a86d09e12"
      },
      "outputs": [
        {
          "data": {
            "text/plain": [
              "<matplotlib.image.AxesImage at 0x7fa82cf70eb0>"
            ]
          },
          "execution_count": 10,
          "metadata": {},
          "output_type": "execute_result"
        },
        {
          "data": {
            "image/png": "[encoded data removed]",
            "text/plain": [
              "<Figure size 640x480 with 1 Axes>"
            ]
          },
          "metadata": {},
          "output_type": "display_data"
        }
      ],
      "source": [
        "plt.imshow(aug_img.squeeze(), cmap='gray')"
      ]
    },
    {
      "cell_type": "code",
      "execution_count": null,
      "metadata": {
        "id": "8J91ejBSGaBB",
        "outputId": "fade7b27-fe08-48ee-8eba-e0e9a566c4f5"
      },
      "outputs": [
        {
          "ename": "TypeError",
          "evalue": "'TransformT' object is not callable",
          "output_type": "error",
          "traceback": [
            "\u001b[0;31m---------------------------------------------------------------------------\u001b[0m",
            "\u001b[0;31mTypeError\u001b[0m                                 Traceback (most recent call last)",
            "Cell \u001b[0;32mIn[11], line 1\u001b[0m\n\u001b[0;32m----> 1\u001b[0m \u001b[43mat\u001b[49m\u001b[38;5;241;43m.\u001b[39;49m\u001b[43mflip_lr\u001b[49m\u001b[43m(\u001b[49m\u001b[43mimage\u001b[49m\u001b[43m)\u001b[49m\n",
            "\u001b[0;31mTypeError\u001b[0m: 'TransformT' object is not callable"
          ]
        }
      ],
      "source": [
        "at.flip_lr(image)"
      ]
    },
    {
      "cell_type": "code",
      "execution_count": null,
      "metadata": {
        "id": "hg9rPW69GaBB",
        "outputId": "7b485e0a-dff6-4a28-9d86-3bfe20a25a41"
      },
      "outputs": [
        {
          "data": {
            "text/plain": [
              "torch.Size([1, 28, 28])"
            ]
          },
          "execution_count": 12,
          "metadata": {},
          "output_type": "execute_result"
        }
      ],
      "source": [
        "image.shape"
      ]
    },
    {
      "cell_type": "code",
      "execution_count": null,
      "metadata": {
        "id": "22W53A_RGaBB",
        "outputId": "6a9a20ed-19f2-4c0a-8a00-d534257b828e"
      },
      "outputs": [
        {
          "data": {
            "text/plain": [
              "<matplotlib.image.AxesImage at 0x7fa82c408ac0>"
            ]
          },
          "execution_count": 15,
          "metadata": {},
          "output_type": "execute_result"
        },
        {
          "data": {
            "image/png": "[encoded data removed]",
            "text/plain": [
              "<Figure size 640x480 with 1 Axes>"
            ]
          },
          "metadata": {},
          "output_type": "display_data"
        }
      ],
      "source": [
        "plt.imshow(at.cutout_numpy(image, size=8).squeeze(), cmap='gray')"
      ]
    },
    {
      "cell_type": "markdown",
      "metadata": {
        "id": "vzE-KMVfGaBB"
      },
      "source": [
        "### Performance of models trained with augmented data"
      ]
    },
    {
      "cell_type": "markdown",
      "metadata": {
        "id": "IsSYagb6GaBB"
      },
      "source": []
    },
    {
      "cell_type": "code",
      "execution_count": null,
      "metadata": {
        "id": "0WVauPOzGaBC"
      },
      "outputs": [],
      "source": []
    },
    {
      "cell_type": "markdown",
      "metadata": {
        "id": "sg45kL8OGaBC"
      },
      "source": [
        "## Theory"
      ]
    },
    {
      "cell_type": "markdown",
      "metadata": {
        "id": "7HC00xrUGaBC"
      },
      "source": [
        "Before diving into the art of automating data augmentation, let's take a step back and try to understand the theoretical aspects of this process."
      ]
    },
    {
      "cell_type": "markdown",
      "metadata": {
        "id": "BjTqPRETGaBC"
      },
      "source": [
        "- How to get a theoretical understanding of data augmentation ?\n",
        "- How to automate data augmentation ?"
      ]
    },
    {
      "cell_type": "markdown",
      "metadata": {
        "id": "w92NZ9NIGaBC"
      },
      "source": [
        "### Data augmentation as a kernel"
      ]
    },
    {
      "cell_type": "markdown",
      "metadata": {
        "id": "HQqfsr1iGaBC"
      },
      "source": [
        "### Data Augmentation Under A Simplified Linear Setting"
      ]
    },
    {
      "cell_type": "markdown",
      "metadata": {
        "id": "I5p17M7EGaBC"
      },
      "source": [
        "## Practical Methods of Learnable Data Augmentations"
      ]
    },
    {
      "cell_type": "markdown",
      "metadata": {
        "id": "0hCbKKMXGaBD"
      },
      "source": [
        "### Tanda"
      ]
    },
    {
      "cell_type": "markdown",
      "metadata": {
        "id": "FAnFQcGtGaBD"
      },
      "source": [
        "<div class=\"alert alert-danger\">\n",
        "    <summary markdown=\"span\"><b>Le repo Tanda ne fonctionne qu'avec Tensorflow 1.2 !!</b></summary>\n",
        "</div>"
      ]
    },
    {
      "cell_type": "markdown",
      "metadata": {
        "id": "lHpCe6cbGaBD"
      },
      "source": [
        "<!-- ![image.png](attachment:image.png) -->\n",
        "<center><img src=\"https://github.com/fga-0/automating_data_augmentation/blob/main/img/tanda_archi.png?raw=1\" height=\"55%\" width=\"55%\"></img></center>\n"
      ]
    },
    {
      "cell_type": "markdown",
      "metadata": {
        "id": "aSbZaMjnGaBD"
      },
      "source": [
        "\"\"\"\n",
        "\n",
        "TANDA: Transformation Adversarial Networks for Data Augmentations\n",
        "To address this problem, TANDA (\n",
        "Ratner et al. 2017\n",
        ") proposes a framework to learn augmentations, whichmodels data augmentations as sequences of Transformation Functions (TFs) provided by users. For example,these might include\n",
        "“rotate 5 degrees”\n",
        "or\n",
        "“shift by 2 pixels”\n",
        ". At the core, this framework consists of twocomponents (1)\n",
        "learning a TF sequence generator\n",
        "that results in useful augmented data points, and (2)\n",
        "usingthe sequence generator\n",
        "to augment training sets for a downstream model. In particular, the TF sequencegenerator is trained to produce realistic images by having to fool a discriminator network, following the GANsframework (\n",
        "Goodfellow et al. 2014\n",
        "). The underlying assumption here is that the transformations would eitherlead to realistic images, or indistinguishable garbage images that are off the manifold. As shown in Figure 1,the objective for the generator is to produce sequences of TFs such that the augmented data point can fool thediscriminator; whereas the objective for the discriminator is to produce values close to 1 for data points in theoriginal training set and values close to 0 for augmented data points.\n",
        "\n",
        "\"\"\""
      ]
    },
    {
      "cell_type": "markdown",
      "metadata": {
        "id": "WT7u-tAZGaBD"
      },
      "source": [
        "### AutoAugment"
      ]
    },
    {
      "cell_type": "markdown",
      "metadata": {
        "id": "1UC58T8eGaBD"
      },
      "source": [
        "AutoAugment aims to automate the process of finding an effective data augmentation policy for a target dataset."
      ]
    },
    {
      "cell_type": "markdown",
      "metadata": {
        "id": "L6YaLXoLGaBE"
      },
      "source": [
        "AutoAugment has 2 use cases :\n",
        "1) AutoAugment can be applied directly on the dataset of interest to find the best augmentation policy (AutoAugment-direct)\n",
        "\n",
        "2) learned policies can be transferred to new datasets (AutoAugment-transfer)"
      ]
    },
    {
      "cell_type": "code",
      "execution_count": null,
      "metadata": {
        "id": "J1Y2qWv0GaBE"
      },
      "outputs": [],
      "source": [
        "from torchvision.transforms import AutoAugment, AutoAugmentPolicy"
      ]
    },
    {
      "cell_type": "code",
      "execution_count": null,
      "metadata": {
        "id": "41fD9lUXGaBE"
      },
      "outputs": [],
      "source": [
        "# Appliquer AutoAugment à Fashion-MNIST\n",
        "transform_augment = transforms.Compose([\n",
        "    AutoAugment(AutoAugmentPolicy.CIFAR10),  # Utilisation de la politique d'augmentation\n",
        "    transforms.ToTensor()\n",
        "])\n",
        "\n",
        "# Charger Fashion-MNIST avec augmentation\n",
        "train_set_aug = torchvision.datasets.FashionMNIST(root='./fashion_mnist', train=True, download=True, transform=transform_augment)\n",
        "train_loader_aug = torch.utils.data.DataLoader(train_set_aug, batch_size=64, shuffle=True)"
      ]
    },
    {
      "cell_type": "markdown",
      "metadata": {
        "id": "b3a1zCcHGaBE"
      },
      "source": [
        "The data went through the augmentation process."
      ]
    },
    {
      "cell_type": "code",
      "execution_count": null,
      "metadata": {
        "id": "J5PniPEeGaBE",
        "outputId": "c3025065-c239-4e44-cf74-2b4afad1197a"
      },
      "outputs": [
        {
          "data": {
            "text/plain": [
              "60000"
            ]
          },
          "execution_count": 50,
          "metadata": {},
          "output_type": "execute_result"
        }
      ],
      "source": [
        "len(train_set_aug)"
      ]
    },
    {
      "cell_type": "code",
      "execution_count": null,
      "metadata": {
        "id": "h4BhVQlAGaBE",
        "outputId": "40aed9ca-7895-483f-bbc2-6ebdb6c6da4c"
      },
      "outputs": [
        {
          "data": {
            "image/png": "[encoded data removed]",
            "text/plain": [
              "<Figure size 1000x300 with 5 Axes>"
            ]
          },
          "metadata": {},
          "output_type": "display_data"
        }
      ],
      "source": [
        "# Visualiser des images après augmentation\n",
        "utils.show_images(train_set_aug)"
      ]
    },
    {
      "cell_type": "code",
      "execution_count": null,
      "metadata": {
        "id": "AOs0lTrOGaBF",
        "outputId": "dcb35ea4-58ea-4ca9-e036-8c23aed9ee83"
      },
      "outputs": [
        {
          "name": "stderr",
          "output_type": "stream",
          "text": [
            " 10%|█         | 1/10 [00:38<05:48, 38.76s/it]"
          ]
        },
        {
          "name": "stdout",
          "output_type": "stream",
          "text": [
            "Epoch 1/10 - Loss: 2161.6639 - Acc: 0.1000\n"
          ]
        },
        {
          "name": "stderr",
          "output_type": "stream",
          "text": [
            " 20%|██        | 2/10 [01:21<05:27, 40.88s/it]"
          ]
        },
        {
          "name": "stdout",
          "output_type": "stream",
          "text": [
            "Epoch 2/10 - Loss: 2161.6932 - Acc: 0.0999\n"
          ]
        },
        {
          "name": "stderr",
          "output_type": "stream",
          "text": [
            " 30%|███       | 3/10 [01:59<04:38, 39.85s/it]"
          ]
        },
        {
          "name": "stdout",
          "output_type": "stream",
          "text": [
            "Epoch 3/10 - Loss: 2161.6196 - Acc: 0.1000\n"
          ]
        },
        {
          "name": "stderr",
          "output_type": "stream",
          "text": [
            " 40%|████      | 4/10 [02:37<03:55, 39.19s/it]"
          ]
        },
        {
          "name": "stdout",
          "output_type": "stream",
          "text": [
            "Epoch 4/10 - Loss: 2161.5680 - Acc: 0.0998\n"
          ]
        },
        {
          "name": "stderr",
          "output_type": "stream",
          "text": [
            " 50%|█████     | 5/10 [03:17<03:15, 39.18s/it]"
          ]
        },
        {
          "name": "stdout",
          "output_type": "stream",
          "text": [
            "Epoch 5/10 - Loss: 2161.5872 - Acc: 0.0999\n"
          ]
        },
        {
          "name": "stderr",
          "output_type": "stream",
          "text": [
            " 60%|██████    | 6/10 [03:55<02:35, 38.97s/it]"
          ]
        },
        {
          "name": "stdout",
          "output_type": "stream",
          "text": [
            "Epoch 6/10 - Loss: 2161.5827 - Acc: 0.1001\n"
          ]
        },
        {
          "name": "stderr",
          "output_type": "stream",
          "text": [
            " 70%|███████   | 7/10 [04:34<01:56, 38.86s/it]"
          ]
        },
        {
          "name": "stdout",
          "output_type": "stream",
          "text": [
            "Epoch 7/10 - Loss: 2161.6371 - Acc: 0.0999\n"
          ]
        },
        {
          "name": "stderr",
          "output_type": "stream",
          "text": [
            " 80%|████████  | 8/10 [05:12<01:17, 38.79s/it]"
          ]
        },
        {
          "name": "stdout",
          "output_type": "stream",
          "text": [
            "Epoch 8/10 - Loss: 2161.5954 - Acc: 0.0997\n"
          ]
        },
        {
          "name": "stderr",
          "output_type": "stream",
          "text": [
            " 90%|█████████ | 9/10 [05:51<00:38, 38.65s/it]"
          ]
        },
        {
          "name": "stdout",
          "output_type": "stream",
          "text": [
            "Epoch 9/10 - Loss: 2161.6579 - Acc: 0.0999\n"
          ]
        },
        {
          "name": "stderr",
          "output_type": "stream",
          "text": [
            "100%|██████████| 10/10 [06:30<00:00, 39.01s/it]"
          ]
        },
        {
          "name": "stdout",
          "output_type": "stream",
          "text": [
            "Epoch 10/10 - Loss: 2161.6742 - Acc: 0.1003\n"
          ]
        },
        {
          "name": "stderr",
          "output_type": "stream",
          "text": [
            "\n"
          ]
        }
      ],
      "source": [
        "# Initialiser un nouveau modèle (identique)\n",
        "model_aug = SimpleCNN().to(device)\n",
        "optimizer_aug = optim.Adam(model_aug.parameters(), lr=0.001)\n",
        "\n",
        "# Entraîner avec AutoAugment\n",
        "train_model(model_aug, train_loader_aug, test_loader, device=device, optimizer=optimizer, criterion=criterion, epochs=10)"
      ]
    },
    {
      "cell_type": "markdown",
      "metadata": {
        "id": "oPaqDHWiGaBF"
      },
      "source": [
        "Let's see how the model generalizes."
      ]
    },
    {
      "cell_type": "code",
      "execution_count": null,
      "metadata": {
        "id": "-XJKSAAGGaBF"
      },
      "outputs": [],
      "source": [
        "test_iter = iter(test_loader)\n",
        "images, labels = next(test_iter)\n",
        "image = images[0]\n",
        "label = labels[0]"
      ]
    },
    {
      "cell_type": "code",
      "execution_count": null,
      "metadata": {
        "id": "NqG_c_qXGaBF",
        "outputId": "bd1bcc14-9ecb-4fd0-b490-51d30de7176e"
      },
      "outputs": [
        {
          "data": {
            "text/plain": [
              "(-0.5, 27.5, 27.5, -0.5)"
            ]
          },
          "execution_count": 48,
          "metadata": {},
          "output_type": "execute_result"
        },
        {
          "data": {
            "image/png": "[encoded data removed]",
            "text/plain": [
              "<Figure size 640x480 with 1 Axes>"
            ]
          },
          "metadata": {},
          "output_type": "display_data"
        }
      ],
      "source": [
        "plt.imshow(image.squeeze(), cmap='gray')\n",
        "plt.title(f\"Ground truth : {label.item()}\")\n",
        "plt.axis(\"off\")"
      ]
    },
    {
      "cell_type": "code",
      "execution_count": null,
      "metadata": {
        "id": "HxGEUNq0GaBF",
        "outputId": "f9e0eb13-b69a-416a-f5a9-dcbbbcfbe3af"
      },
      "outputs": [
        {
          "name": "stdout",
          "output_type": "stream",
          "text": [
            "tensor([[ 0.0051, -0.0624,  0.0657, -0.0576, -0.0370,  0.0389, -0.0679, -0.0463,\n",
            "          0.0130, -0.0720]])\n",
            "Model prediction : 2\n"
          ]
        }
      ],
      "source": [
        "model_aug.eval()\n",
        "with torch.no_grad():\n",
        "    image = image.unsqueeze(0)\n",
        "    output = model_aug(image)\n",
        "    print(output)\n",
        "    _, predicted = torch.max(output, 1)\n",
        "print(f\"Model prediction : {predicted.item()}\")"
      ]
    },
    {
      "cell_type": "markdown",
      "metadata": {
        "id": "dPzMBJ3dGaBF"
      },
      "source": [
        "### Adversarial autoAugment"
      ]
    },
    {
      "cell_type": "markdown",
      "metadata": {
        "id": "gB47KHnpGaBF"
      },
      "source": [
        "### RandAugment"
      ]
    },
    {
      "cell_type": "markdown",
      "metadata": {
        "id": "8vcwfHTvGaBG"
      },
      "source": []
    }
  ],
  "metadata": {
    "accelerator": "GPU",
    "colab": {
      "gpuType": "T4",
      "provenance": []
    },
    "kernelspec": {
      "display_name": "data_augmentation_env",
      "language": "python",
      "name": "python3"
    },
    "language_info": {
      "codemirror_mode": {
        "name": "ipython",
        "version": 3
      },
      "file_extension": ".py",
      "mimetype": "text/x-python",
      "name": "python",
      "nbconvert_exporter": "python",
      "pygments_lexer": "ipython3",
      "version": "3.9.21"
    }
  },
  "nbformat": 4,
  "nbformat_minor": 0
}
