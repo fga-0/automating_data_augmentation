{
  "cells": [
    {
      "cell_type": "markdown",
      "metadata": {
        "id": "LgB3gH_RGaAo"
      },
      "source": [
        "<div style=\"font-size:22pt; line-height:25pt; font-weight:bold; text-align:center;\">Automating the art of data augmentation</div>"
      ]
    },
    {
      "cell_type": "code",
      "execution_count": null,
      "metadata": {
        "id": "t4fqnWVWGaAr"
      },
      "outputs": [],
      "source": [
        "# TODO : commenter tout le code et retirer les commentaires ChatGPT\n",
        "# TODO : coder display_one_image_per_class()"
      ]
    },
    {
      "cell_type": "markdown",
      "metadata": {
        "id": "sUiFYkkXGaAt"
      },
      "source": [
        "This notebook aims at providing an overview of existing methods for automating the process of data augmentation."
      ]
    },
    {
      "cell_type": "markdown",
      "metadata": {
        "id": "Az6DFxXNGaAt"
      },
      "source": [
        "[![Open In Colab](https://colab.research.google.com/assets/colab-badge.svg)](https://colab.research.google.com/github/fga-0/automating_data_augmentation/blob/main/Automating_the_art_of_data_augmentation.ipynb)"
      ]
    },
    {
      "cell_type": "markdown",
      "metadata": {
        "id": "APti8H7wGaAu"
      },
      "source": [
        "Expliquer comment utiliser les GPU Google disponibles pour exécuter le notebook :\n",
        "\n",
        "    - \"options de connexion supplémentaires\"\n",
        "    - \"Modifier le type d'exécution\"\n",
        "    - GPU"
      ]
    },
    {
      "cell_type": "markdown",
      "metadata": {
        "id": "AYu-8ep2GaAu"
      },
      "source": [
        "Ajouter une image en début de notebook pour donner envie de l'exécuter"
      ]
    },
    {
      "cell_type": "markdown",
      "metadata": {
        "id": "6X_reIpTGaAv"
      },
      "source": [
        "# What is data augmentation"
      ]
    },
    {
      "cell_type": "markdown",
      "metadata": {
        "id": "et0iY7x5GaAv"
      },
      "source": [
        "!! Lire des blog post pour une intro plus attrayante !!"
      ]
    },
    {
      "cell_type": "markdown",
      "metadata": {
        "id": "MwMjt_2VGaAw"
      },
      "source": [
        "Modern machine learning models, such as deep neural networks, may have billions of parameters and **require massive labeled training datasets** which might be unavailable. The technique of artificially expanding labeled training datasets, known as *data augmentation*, has quickly become critical for combating this data scarcity problem."
      ]
    },
    {
      "cell_type": "markdown",
      "metadata": {
        "id": "2pOiaKrtGaAw"
      },
      "source": [
        "Data augmentation has several advantages :\n",
        "1. It enhances the generalization capacity of the model by reducing the risk of overfitting. As the training set gets larger, the model learns on a more diversified data.\n",
        "2. It grows the training set for a very low cost. No additional sampling campaign is required.\n",
        "\n",
        "Methods have emerged to automate the augmentation process. This notebook will go through a variety of methods, highlighting the pros and cons of using each of them."
      ]
    },
    {
      "cell_type": "markdown",
      "metadata": {
        "id": "UOhqZW7vGaAx"
      },
      "source": [
        "## Load CIFAR10 data"
      ]
    },
    {
      "cell_type": "code",
      "execution_count": 1,
      "metadata": {
        "id": "VWqhl6FUGaAx"
      },
      "outputs": [],
      "source": [
        "import matplotlib.pyplot as plt\n",
        "import numpy as np\n",
        "\n",
        "import tensorflow as tf\n",
        "import torchvision\n",
        "import torchvision.transforms as transforms\n",
        "import torchvision.datasets as datasets\n",
        "import torch\n",
        "from torch.utils.data import DataLoader, Subset\n",
        "import torch.nn as nn\n",
        "import torch.optim as optim"
      ]
    },
    {
      "cell_type": "markdown",
      "metadata": {
        "id": "BRj0m5FVGaAx"
      },
      "source": [
        "The CIFAR-10 dataset consists of 60000 32x32 colour images in 10 classes, with 6000 images per class. There are 50000 training images and 10000 test images."
      ]
    },
    {
      "cell_type": "markdown",
      "metadata": {
        "id": "GzerNp9qGaAx"
      },
      "source": [
        "The 10 classes are :\n",
        "- airplane\n",
        "- automobile\n",
        "- bird\n",
        "- cat\n",
        "- deer\n",
        "- dog\n",
        "- frog\n",
        "- horse\n",
        "- ship\n",
        "- truck"
      ]
    },
    {
      "cell_type": "code",
      "execution_count": null,
      "metadata": {
        "id": "NzvY8wkpGaAy"
      },
      "outputs": [],
      "source": [
        "# path_to_data = \"./cifar10\""
      ]
    },
    {
      "cell_type": "code",
      "source": [
        "from google.colab import drive\n",
        "drive.mount('/content/drive')\n",
        "path_to_data = \"drive/MyDrive/SDD/data_augmentation/cifar10\""
      ],
      "metadata": {
        "id": "kxskq6cTGxmw",
        "outputId": "17c16b48-e047-4036-8d25-b83056fb9242",
        "colab": {
          "base_uri": "https://localhost:8080/"
        }
      },
      "execution_count": 2,
      "outputs": [
        {
          "output_type": "stream",
          "name": "stdout",
          "text": [
            "Mounted at /content/drive\n"
          ]
        }
      ]
    },
    {
      "cell_type": "code",
      "execution_count": 3,
      "metadata": {
        "id": "rOmW5t4PGaAy",
        "outputId": "c4725dae-9872-47ef-ab96-9d0cc090340b",
        "colab": {
          "base_uri": "https://localhost:8080/"
        }
      },
      "outputs": [
        {
          "output_type": "stream",
          "name": "stdout",
          "text": [
            "Files already downloaded and verified\n",
            "Files already downloaded and verified\n"
          ]
        }
      ],
      "source": [
        "# Define transformations (normalization, conversion to tensor)\n",
        "transform = transforms.Compose([\n",
        "    transforms.ToTensor(),\n",
        "    transforms.Normalize((0.5,), (0.5,))\n",
        "])\n",
        "\n",
        "# Load full CIFAR-10 dataset\n",
        "# # Les images CIFAR10 sont de dimension 32x32.\n",
        "trainset = torchvision.datasets.CIFAR10(root=path_to_data, train=True, download=True, transform=transform)\n",
        "testset = torchvision.datasets.CIFAR10(root=path_to_data, train=False, download=True, transform=transform)"
      ]
    },
    {
      "cell_type": "code",
      "execution_count": 4,
      "metadata": {
        "id": "HueboWLXGaAz",
        "outputId": "d97a70be-356f-47ea-acd6-ea3413dbcc94",
        "colab": {
          "base_uri": "https://localhost:8080/"
        }
      },
      "outputs": [
        {
          "output_type": "stream",
          "name": "stdout",
          "text": [
            "Training samples: 1000\n",
            "Test samples: 200\n"
          ]
        }
      ],
      "source": [
        "# Select only 1% of the dataset\n",
        "num_train_samples = 1000  # 2% of 50,000\n",
        "num_test_samples = 200    # 2% of 10,000\n",
        "\n",
        "# Randomly select indices\n",
        "train_indices = np.random.choice(len(trainset), num_train_samples, replace=False)\n",
        "test_indices = np.random.choice(len(testset), num_test_samples, replace=False)\n",
        "\n",
        "# Create subset datasets\n",
        "train_subset = Subset(trainset, train_indices)\n",
        "test_subset = Subset(testset, test_indices)\n",
        "\n",
        "# Verify dataset size\n",
        "print(f\"Training samples: {len(train_subset)}\")\n",
        "print(f\"Test samples: {len(test_subset)}\")\n"
      ]
    },
    {
      "cell_type": "markdown",
      "metadata": {
        "id": "ZseUDFs4GaAz"
      },
      "source": [
        "A few transformations :"
      ]
    },
    {
      "cell_type": "code",
      "execution_count": 5,
      "metadata": {
        "id": "COqkaHdfGaAz"
      },
      "outputs": [],
      "source": [
        "transformations = [\n",
        "    transforms.CenterCrop(size=16),\n",
        "    transforms.RandomCrop(size=16),\n",
        "    transforms.ColorJitter(brightness=0.3, contrast=0.3),\n",
        "    transforms.RandomHorizontalFlip(p=0.5),\n",
        "    transforms.RandomVerticalFlip(p=0.5),\n",
        "    transforms.RandomRotation(45),\n",
        "    transforms.RandomAffine(degrees=45, translate=(0.2, 0.2), shear=15),\n",
        "    transforms.GaussianBlur(kernel_size=3),\n",
        "    transforms.RandomInvert(p=0.5),\n",
        "    transforms.RandomSolarize(-0.1, p=0.5),\n",
        "    transforms.RandomAutocontrast(p=0.5),\n",
        "    transforms.RandomAdjustSharpness(sharpness_factor=2, p=0.5)\n",
        "]"
      ]
    },
    {
      "cell_type": "markdown",
      "metadata": {
        "id": "bWxpqDbsGaA0"
      },
      "source": [
        "Choose a transformation and visualize its effect on 5 images sampled from the dataset."
      ]
    },
    {
      "cell_type": "code",
      "execution_count": 13,
      "metadata": {
        "id": "_pJU68OvGaA0"
      },
      "outputs": [],
      "source": [
        "import utils\n",
        "import importlib"
      ]
    },
    {
      "cell_type": "code",
      "execution_count": 15,
      "metadata": {
        "id": "U8gKAT_vGaA0",
        "outputId": "51992e13-5db7-4f65-cc6e-add6de529ddf",
        "colab": {
          "base_uri": "https://localhost:8080/"
        }
      },
      "outputs": [
        {
          "output_type": "execute_result",
          "data": {
            "text/plain": [
              "<module 'utils' from '/content/utils.py'>"
            ]
          },
          "metadata": {},
          "execution_count": 15
        }
      ],
      "source": [
        "importlib.reload(utils)"
      ]
    },
    {
      "cell_type": "code",
      "execution_count": null,
      "metadata": {
        "id": "64Ov62LrGaA1",
        "outputId": "06b8fd6f-61ab-4951-921d-ef9f2f143f47"
      },
      "outputs": [
        {
          "name": "stderr",
          "output_type": "stream",
          "text": [
            "Clipping input data to the valid range for imshow with RGB data ([0..1] for floats or [0..255] for integers). Got range [-0.9529412..0.9372549].\n",
            "Clipping input data to the valid range for imshow with RGB data ([0..1] for floats or [0..255] for integers). Got range [-0.9529412..0.9372549].\n",
            "Clipping input data to the valid range for imshow with RGB data ([0..1] for floats or [0..255] for integers). Got range [-1.0..0.85882354].\n",
            "Clipping input data to the valid range for imshow with RGB data ([0..1] for floats or [0..255] for integers). Got range [-1.0..0.85882354].\n",
            "Clipping input data to the valid range for imshow with RGB data ([0..1] for floats or [0..255] for integers). Got range [-0.8745098..0.5137255].\n",
            "Clipping input data to the valid range for imshow with RGB data ([0..1] for floats or [0..255] for integers). Got range [-0.8745098..0.5137255].\n",
            "Clipping input data to the valid range for imshow with RGB data ([0..1] for floats or [0..255] for integers). Got range [-0.8745098..0.99215686].\n",
            "Clipping input data to the valid range for imshow with RGB data ([0..1] for floats or [0..255] for integers). Got range [-0.8745098..0.99215686].\n",
            "Clipping input data to the valid range for imshow with RGB data ([0..1] for floats or [0..255] for integers). Got range [-0.8980392..0.6313726].\n",
            "Clipping input data to the valid range for imshow with RGB data ([0..1] for floats or [0..255] for integers). Got range [-0.8980392..0.6313726].\n"
          ]
        },
        {
          "data": {
            "image/png": "[encoded data removed]",
            "text/plain": [
              "<Figure size 1000x300 with 10 Axes>"
            ]
          },
          "metadata": {},
          "output_type": "display_data"
        }
      ],
      "source": [
        "utils.plot_before_after_augmentation(dataset=train_subset, transformation=transformations[4])"
      ]
    },
    {
      "cell_type": "markdown",
      "metadata": {
        "id": "eCJbDhHUGaA1"
      },
      "source": [
        "## Let's train a CNN : WideResNet"
      ]
    },
    {
      "cell_type": "markdown",
      "metadata": {
        "id": "FP7HJ_7MGaA1"
      },
      "source": [
        "Now that the data is loaded, we can train a Convolutional Neural Network on this data to assess its performance before applying any augmentation. WideResNet will be used as it is a commonly used network for bench-marking classification task on image data."
      ]
    },
    {
      "cell_type": "code",
      "execution_count": 7,
      "metadata": {
        "id": "fuVqqQ9FGaA2"
      },
      "outputs": [],
      "source": [
        "# Create DataLoaders\n",
        "## SUBSETS\n",
        "# train_loader = DataLoader(train_subset, batch_size=32, shuffle=True)\n",
        "# test_loader = DataLoader(test_subset, batch_size=32, shuffle=False)\n",
        "\n",
        "## WHOLE DATASET :\n",
        "train_loader = DataLoader(trainset, batch_size=32, shuffle=True)\n",
        "test_loader = DataLoader(testset, batch_size=32, shuffle=False)"
      ]
    },
    {
      "cell_type": "code",
      "execution_count": 9,
      "metadata": {
        "id": "vGxp_CggGaA2",
        "outputId": "4f49017e-fd36-4f85-f844-64a7a57fce71",
        "colab": {
          "base_uri": "https://localhost:8080/"
        }
      },
      "outputs": [
        {
          "output_type": "stream",
          "name": "stderr",
          "text": [
            "/usr/local/lib/python3.11/dist-packages/torchvision/models/_utils.py:208: UserWarning: The parameter 'pretrained' is deprecated since 0.13 and may be removed in the future, please use 'weights' instead.\n",
            "  warnings.warn(\n",
            "/usr/local/lib/python3.11/dist-packages/torchvision/models/_utils.py:223: UserWarning: Arguments other than a weight enum or `None` for 'weights' are deprecated since 0.13 and may be removed in the future. The current behavior is equivalent to passing `weights=Wide_ResNet50_2_Weights.IMAGENET1K_V1`. You can also use `weights=Wide_ResNet50_2_Weights.DEFAULT` to get the most up-to-date weights.\n",
            "  warnings.warn(msg)\n",
            "Downloading: \"https://download.pytorch.org/models/wide_resnet50_2-95faca4d.pth\" to /root/.cache/torch/hub/checkpoints/wide_resnet50_2-95faca4d.pth\n",
            "100%|██████████| 132M/132M [00:01<00:00, 108MB/s]\n"
          ]
        },
        {
          "output_type": "stream",
          "name": "stdout",
          "text": [
            "Linear(in_features=2048, out_features=10, bias=True)\n",
            "Using device: cuda\n"
          ]
        }
      ],
      "source": [
        "from torchvision.models import wide_resnet50_2\n",
        "\n",
        "# Load Wide ResNet model\n",
        "device = torch.device(\"cuda\" if torch.cuda.is_available() else \"cpu\")\n",
        "\n",
        "# wrn = wide_resnet50_2(num_classes=10)  # CIFAR-10 has 10 classes\n",
        "\n",
        "# Load a pre-trained Wide ResNet-50-2 model:\n",
        "wrn = wide_resnet50_2(pretrained=True)\n",
        "# Freeze all model parameters except for the final layer:\n",
        "for param in wrn.parameters():\n",
        "    param.requires_grad = False\n",
        "\n",
        "# Get the number of input features for the original last layer:\n",
        "num_feature = wrn.fc.in_features\n",
        "\n",
        "# Replace the final classification layer to match your dataset:\n",
        "wrn.fc = nn.Linear(num_feature, 10)\n",
        "\n",
        "# View the structure of the new final layer (optional):\n",
        "print(wrn.fc)\n",
        "\n",
        "# Move the model to the GPU for accelerated training:\n",
        "wrn = wrn.to(device)\n",
        "\n",
        "print(f\"Using device: {device}\")"
      ]
    },
    {
      "cell_type": "code",
      "execution_count": 10,
      "metadata": {
        "id": "ReaD4RUqGaA2"
      },
      "outputs": [],
      "source": [
        "\n",
        "criterion = nn.CrossEntropyLoss()\n",
        "optimizer = optim.SGD(wrn.parameters(), lr=0.1, momentum=0.9, weight_decay=5e-4)\n",
        "\n",
        "# Learning rate scheduler for better convergence\n",
        "scheduler = optim.lr_scheduler.CosineAnnealingLR(optimizer, T_max=200)\n"
      ]
    },
    {
      "cell_type": "code",
      "execution_count": 11,
      "metadata": {
        "id": "kdmfKtftGaA2",
        "outputId": "2da84936-1425-4c27-cc89-e7e34fa67fe8",
        "colab": {
          "base_uri": "https://localhost:8080/"
        }
      },
      "outputs": [
        {
          "output_type": "stream",
          "name": "stderr",
          "text": []
        },
        {
          "output_type": "stream",
          "name": "stdout",
          "text": [
            "Epoch 1: Loss=22.0499, Accuracy=22.46%\n"
          ]
        },
        {
          "output_type": "stream",
          "name": "stderr",
          "text": []
        },
        {
          "output_type": "stream",
          "name": "stdout",
          "text": [
            "Epoch 2: Loss=22.8740, Accuracy=23.61%\n"
          ]
        },
        {
          "output_type": "stream",
          "name": "stderr",
          "text": []
        },
        {
          "output_type": "stream",
          "name": "stdout",
          "text": [
            "Epoch 3: Loss=22.7743, Accuracy=23.88%\n"
          ]
        },
        {
          "output_type": "stream",
          "name": "stderr",
          "text": []
        },
        {
          "output_type": "stream",
          "name": "stdout",
          "text": [
            "Epoch 4: Loss=22.3410, Accuracy=23.77%\n"
          ]
        },
        {
          "output_type": "stream",
          "name": "stderr",
          "text": [
            "                                                                                        "
          ]
        },
        {
          "output_type": "stream",
          "name": "stdout",
          "text": [
            "Epoch 5: Loss=22.4616, Accuracy=23.99%\n",
            "Training complete!\n"
          ]
        },
        {
          "output_type": "stream",
          "name": "stderr",
          "text": [
            "\r"
          ]
        }
      ],
      "source": [
        "wrn_trained = utils.train_WideResNet(model=wrn, trainloader=train_loader, num_epochs=5, batch_size=32, optimizer=optimizer, criterion=criterion, device=device, scheduler=scheduler)"
      ]
    },
    {
      "cell_type": "code",
      "source": [
        "utils.evaluate(wrn, test_loader, device)"
      ],
      "metadata": {
        "id": "2bi4e25vNkLe",
        "outputId": "08e7bcb2-22e5-4be0-934d-c97e3ce4f94e",
        "colab": {
          "base_uri": "https://localhost:8080/"
        }
      },
      "execution_count": 16,
      "outputs": [
        {
          "output_type": "stream",
          "name": "stdout",
          "text": [
            "Accuracy: 23.99%\n",
            "Taux d'erreur: 76.01%\n"
          ]
        },
        {
          "output_type": "execute_result",
          "data": {
            "text/plain": [
              "(0.2399, 0.7601)"
            ]
          },
          "metadata": {},
          "execution_count": 16
        }
      ]
    },
    {
      "cell_type": "markdown",
      "metadata": {
        "id": "TBXTFBvHGaA2"
      },
      "source": [
        "## A toy example : MNIST-fashion"
      ]
    },
    {
      "cell_type": "markdown",
      "metadata": {
        "id": "YKUxRDMnGaA3"
      },
      "source": [
        "Let's illustrate with a toy example : MNIST fashion."
      ]
    },
    {
      "cell_type": "code",
      "execution_count": null,
      "metadata": {
        "id": "QgqLnk_oGaA3",
        "outputId": "8372b193-368c-4acc-93f8-3bea7f936eed"
      },
      "outputs": [
        {
          "name": "stderr",
          "output_type": "stream",
          "text": [
            "2025-01-31 17:07:37.538933: I tensorflow/core/util/port.cc:153] oneDNN custom operations are on. You may see slightly different numerical results due to floating-point round-off errors from different computation orders. To turn them off, set the environment variable `TF_ENABLE_ONEDNN_OPTS=0`.\n",
            "2025-01-31 17:07:37.614809: I tensorflow/core/platform/cpu_feature_guard.cc:210] This TensorFlow binary is optimized to use available CPU instructions in performance-critical operations.\n",
            "To enable the following instructions: SSE4.1 SSE4.2 AVX AVX2 AVX512F AVX512_VNNI FMA, in other operations, rebuild TensorFlow with the appropriate compiler flags.\n"
          ]
        }
      ],
      "source": [
        "import matplotlib.pyplot as plt\n",
        "import numpy as np\n",
        "\n",
        "import tensorflow as tf\n",
        "import torchvision\n",
        "import torchvision.transforms as transforms\n",
        "import torch"
      ]
    },
    {
      "cell_type": "code",
      "execution_count": null,
      "metadata": {
        "id": "aqa4eLs9GaA3"
      },
      "outputs": [],
      "source": [
        "transform = transforms.Compose([transforms.ToTensor()])\n",
        "train_set = torchvision.datasets.FashionMNIST(root='./fashion_mnist', train=True, download=False, transform=transform)\n",
        "test_set = torchvision.datasets.FashionMNIST(root='./fashion_mnist', train=False, download=False, transform=transform)\n",
        "train_loader = torch.utils.data.DataLoader(train_set, batch_size=64, shuffle=True)\n",
        "test_loader = torch.utils.data.DataLoader(test_set, batch_size=64, shuffle=False)"
      ]
    },
    {
      "cell_type": "markdown",
      "metadata": {
        "id": "7OVwGWzmGaA3"
      },
      "source": [
        "Let's visualize the data."
      ]
    },
    {
      "cell_type": "code",
      "execution_count": null,
      "metadata": {
        "id": "pxaRXHHTGaA4"
      },
      "outputs": [],
      "source": [
        "from autoaugment import utils"
      ]
    },
    {
      "cell_type": "code",
      "execution_count": null,
      "metadata": {
        "id": "1qCccURnGaA4",
        "outputId": "adc31d75-a865-4717-c4f4-25ce01c53c35"
      },
      "outputs": [
        {
          "data": {
            "image/png": "[encoded data removed]",
            "text/plain": [
              "<Figure size 1000x300 with 5 Axes>"
            ]
          },
          "metadata": {},
          "output_type": "display_data"
        }
      ],
      "source": [
        "utils.show_images(train_set)"
      ]
    },
    {
      "cell_type": "markdown",
      "metadata": {
        "id": "2xojqrDgGaA4"
      },
      "source": [
        "## Training of a CNN"
      ]
    },
    {
      "cell_type": "markdown",
      "metadata": {
        "id": "ofdC6UXbGaA4"
      },
      "source": [
        "Let's train a simple Convolutional Neural Network on the MNIST-Fashion dataset."
      ]
    },
    {
      "cell_type": "code",
      "execution_count": null,
      "metadata": {
        "id": "N9XXqyXIGaA-"
      },
      "outputs": [],
      "source": [
        "import torch.nn as nn\n",
        "import torch.optim as optim\n",
        "\n",
        "from simple_cnn import SimpleCNN, train_model"
      ]
    },
    {
      "cell_type": "code",
      "execution_count": null,
      "metadata": {
        "id": "-87rKce1GaA-"
      },
      "outputs": [],
      "source": [
        "# Let's initialize the model.\n",
        "device = torch.device(\"cuda\" if torch.cuda.is_available() else \"cpu\")\n",
        "model = SimpleCNN().to(device)\n",
        "\n",
        "# Loss function and optimizer\n",
        "criterion = nn.CrossEntropyLoss()\n",
        "optimizer = optim.Adam(model.parameters(), lr=0.001)"
      ]
    },
    {
      "cell_type": "markdown",
      "metadata": {
        "id": "9zd4RjUAGaA-"
      },
      "source": [
        "Now, let's train this model on the raw data."
      ]
    },
    {
      "cell_type": "code",
      "execution_count": null,
      "metadata": {
        "id": "_Yfq_re3GaA-",
        "outputId": "7dcc5525-e8ab-4a11-981b-040980389ace"
      },
      "outputs": [
        {
          "name": "stderr",
          "output_type": "stream",
          "text": [
            " 10%|█         | 1/10 [00:21<03:14, 21.60s/it]"
          ]
        },
        {
          "name": "stdout",
          "output_type": "stream",
          "text": [
            "Epoch 1/10 - Loss: 442.4159 - Acc: 0.8303\n"
          ]
        },
        {
          "name": "stderr",
          "output_type": "stream",
          "text": [
            " 20%|██        | 2/10 [00:45<03:02, 22.83s/it]"
          ]
        },
        {
          "name": "stdout",
          "output_type": "stream",
          "text": [
            "Epoch 2/10 - Loss: 284.7380 - Acc: 0.8894\n"
          ]
        },
        {
          "name": "stderr",
          "output_type": "stream",
          "text": [
            " 30%|███       | 3/10 [01:09<02:43, 23.30s/it]"
          ]
        },
        {
          "name": "stdout",
          "output_type": "stream",
          "text": [
            "Epoch 3/10 - Loss: 237.3947 - Acc: 0.9061\n"
          ]
        },
        {
          "name": "stderr",
          "output_type": "stream",
          "text": [
            " 40%|████      | 4/10 [01:33<02:21, 23.57s/it]"
          ]
        },
        {
          "name": "stdout",
          "output_type": "stream",
          "text": [
            "Epoch 4/10 - Loss: 205.7883 - Acc: 0.9197\n"
          ]
        },
        {
          "name": "stderr",
          "output_type": "stream",
          "text": [
            " 50%|█████     | 5/10 [01:57<01:58, 23.69s/it]"
          ]
        },
        {
          "name": "stdout",
          "output_type": "stream",
          "text": [
            "Epoch 5/10 - Loss: 182.2619 - Acc: 0.9281\n"
          ]
        },
        {
          "name": "stderr",
          "output_type": "stream",
          "text": [
            " 60%|██████    | 6/10 [02:21<01:35, 23.80s/it]"
          ]
        },
        {
          "name": "stdout",
          "output_type": "stream",
          "text": [
            "Epoch 6/10 - Loss: 161.4474 - Acc: 0.9362\n"
          ]
        },
        {
          "name": "stderr",
          "output_type": "stream",
          "text": [
            " 70%|███████   | 7/10 [02:46<01:13, 24.38s/it]"
          ]
        },
        {
          "name": "stdout",
          "output_type": "stream",
          "text": [
            "Epoch 7/10 - Loss: 143.3134 - Acc: 0.9429\n"
          ]
        },
        {
          "name": "stderr",
          "output_type": "stream",
          "text": [
            " 80%|████████  | 8/10 [03:13<00:50, 25.07s/it]"
          ]
        },
        {
          "name": "stdout",
          "output_type": "stream",
          "text": [
            "Epoch 8/10 - Loss: 126.6581 - Acc: 0.9511\n"
          ]
        },
        {
          "name": "stderr",
          "output_type": "stream",
          "text": [
            " 90%|█████████ | 9/10 [03:38<00:25, 25.30s/it]"
          ]
        },
        {
          "name": "stdout",
          "output_type": "stream",
          "text": [
            "Epoch 9/10 - Loss: 109.4312 - Acc: 0.9566\n"
          ]
        },
        {
          "name": "stderr",
          "output_type": "stream",
          "text": [
            "100%|██████████| 10/10 [04:02<00:00, 24.29s/it]"
          ]
        },
        {
          "name": "stdout",
          "output_type": "stream",
          "text": [
            "Epoch 10/10 - Loss: 96.3693 - Acc: 0.9621\n"
          ]
        },
        {
          "name": "stderr",
          "output_type": "stream",
          "text": [
            "\n"
          ]
        }
      ],
      "source": [
        "epochs=10\n",
        "train_model(model=model, train_loader=train_loader, test_loader=test_loader, device=device, optimizer=optimizer, criterion=criterion, epochs=epochs)"
      ]
    },
    {
      "cell_type": "markdown",
      "metadata": {
        "id": "YHeGn6dvGaA_"
      },
      "source": [
        "Introduire un cas pratique de vision par ordinateur\n",
        "- Pourquoi a-t-on besoin d'augmenter la donnée dans ce cas ?"
      ]
    },
    {
      "cell_type": "code",
      "execution_count": null,
      "metadata": {
        "id": "mqR51tOcGaA_",
        "outputId": "0c826d6c-50b8-4795-c857-6859fb5085e7"
      },
      "outputs": [
        {
          "data": {
            "text/plain": [
              "(28, 28)"
            ]
          },
          "execution_count": 23,
          "metadata": {},
          "output_type": "execute_result"
        }
      ],
      "source": [
        "x_train[0].shape"
      ]
    },
    {
      "cell_type": "markdown",
      "metadata": {
        "id": "BdvmuGcAGaA_"
      },
      "source": [
        "## Examples of data augmentation"
      ]
    },
    {
      "cell_type": "markdown",
      "metadata": {
        "id": "YCml4T2AGaA_"
      },
      "source": [
        "Heuristic data augmentation schemes often rely on the composition of a set of simple transformation functions (TFs) such as rotations and flips (see Figure 1). When chosen carefully, data augmentation schemes tuned by human experts can improve model performance. However, such heuristic strategies in practice can cause large variances in end model performance, and may not produce augmentations needed for state-of-the-art models."
      ]
    },
    {
      "cell_type": "markdown",
      "metadata": {
        "id": "NX3ZQh__GaA_"
      },
      "source": [
        "### Augmented data VS synthetic data"
      ]
    },
    {
      "cell_type": "markdown",
      "metadata": {
        "id": "00XY6DvjGaA_"
      },
      "source": [
        "Décrire la différence entre les deux et donner les enjeux de confidentialités liés aux données synthétiques."
      ]
    },
    {
      "cell_type": "markdown",
      "metadata": {
        "id": "y33N-YfzGaA_"
      },
      "source": [
        "### Available transformations"
      ]
    },
    {
      "cell_type": "code",
      "execution_count": null,
      "metadata": {
        "id": "wjbtmkZMGaA_"
      },
      "outputs": [],
      "source": []
    },
    {
      "cell_type": "markdown",
      "metadata": {
        "id": "Cu27iGMnGaA_"
      },
      "source": [
        "### Linear transformations"
      ]
    },
    {
      "cell_type": "markdown",
      "metadata": {
        "id": "6fEDXbU1GaA_"
      },
      "source": []
    },
    {
      "cell_type": "code",
      "execution_count": null,
      "metadata": {
        "id": "PKJnQfqwGaBA"
      },
      "outputs": [],
      "source": [
        "from autoaugment import augmentation_transforms as at"
      ]
    },
    {
      "cell_type": "code",
      "execution_count": null,
      "metadata": {
        "id": "AnjrFCCAGaBA"
      },
      "outputs": [],
      "source": [
        "train_iter = iter(train_loader)\n",
        "images, labels = next(train_iter)\n",
        "image = images[0]\n",
        "label = labels[0]"
      ]
    },
    {
      "cell_type": "code",
      "execution_count": null,
      "metadata": {
        "id": "76TSlCmoGaBA",
        "outputId": "52ee884f-8cc7-485b-c52d-4341fad4a943"
      },
      "outputs": [
        {
          "data": {
            "text/plain": [
              "<matplotlib.image.AxesImage at 0x7fa82d1925e0>"
            ]
          },
          "execution_count": 8,
          "metadata": {},
          "output_type": "execute_result"
        },
        {
          "data": {
            "image/png": "[encoded data removed]",
            "text/plain": [
              "<Figure size 640x480 with 1 Axes>"
            ]
          },
          "metadata": {},
          "output_type": "display_data"
        }
      ],
      "source": [
        "plt.imshow(image.squeeze(), cmap='gray')"
      ]
    },
    {
      "cell_type": "code",
      "execution_count": null,
      "metadata": {
        "id": "zgAbmYzhGaBA"
      },
      "outputs": [],
      "source": [
        "aug_img = at.zero_pad_and_crop(image)"
      ]
    },
    {
      "cell_type": "code",
      "execution_count": null,
      "metadata": {
        "id": "T4gQ4AXLGaBA",
        "outputId": "fcd1f2df-1064-4265-c5a3-ba9a86d09e12"
      },
      "outputs": [
        {
          "data": {
            "text/plain": [
              "<matplotlib.image.AxesImage at 0x7fa82cf70eb0>"
            ]
          },
          "execution_count": 10,
          "metadata": {},
          "output_type": "execute_result"
        },
        {
          "data": {
            "image/png": "[encoded data removed]",
            "text/plain": [
              "<Figure size 640x480 with 1 Axes>"
            ]
          },
          "metadata": {},
          "output_type": "display_data"
        }
      ],
      "source": [
        "plt.imshow(aug_img.squeeze(), cmap='gray')"
      ]
    },
    {
      "cell_type": "code",
      "execution_count": null,
      "metadata": {
        "id": "8J91ejBSGaBB",
        "outputId": "fade7b27-fe08-48ee-8eba-e0e9a566c4f5"
      },
      "outputs": [
        {
          "ename": "TypeError",
          "evalue": "'TransformT' object is not callable",
          "output_type": "error",
          "traceback": [
            "\u001b[0;31m---------------------------------------------------------------------------\u001b[0m",
            "\u001b[0;31mTypeError\u001b[0m                                 Traceback (most recent call last)",
            "Cell \u001b[0;32mIn[11], line 1\u001b[0m\n\u001b[0;32m----> 1\u001b[0m \u001b[43mat\u001b[49m\u001b[38;5;241;43m.\u001b[39;49m\u001b[43mflip_lr\u001b[49m\u001b[43m(\u001b[49m\u001b[43mimage\u001b[49m\u001b[43m)\u001b[49m\n",
            "\u001b[0;31mTypeError\u001b[0m: 'TransformT' object is not callable"
          ]
        }
      ],
      "source": [
        "at.flip_lr(image)"
      ]
    },
    {
      "cell_type": "code",
      "execution_count": null,
      "metadata": {
        "id": "hg9rPW69GaBB",
        "outputId": "7b485e0a-dff6-4a28-9d86-3bfe20a25a41"
      },
      "outputs": [
        {
          "data": {
            "text/plain": [
              "torch.Size([1, 28, 28])"
            ]
          },
          "execution_count": 12,
          "metadata": {},
          "output_type": "execute_result"
        }
      ],
      "source": [
        "image.shape"
      ]
    },
    {
      "cell_type": "code",
      "execution_count": null,
      "metadata": {
        "id": "22W53A_RGaBB",
        "outputId": "6a9a20ed-19f2-4c0a-8a00-d534257b828e"
      },
      "outputs": [
        {
          "data": {
            "text/plain": [
              "<matplotlib.image.AxesImage at 0x7fa82c408ac0>"
            ]
          },
          "execution_count": 15,
          "metadata": {},
          "output_type": "execute_result"
        },
        {
          "data": {
            "image/png": "[encoded data removed]",
            "text/plain": [
              "<Figure size 640x480 with 1 Axes>"
            ]
          },
          "metadata": {},
          "output_type": "display_data"
        }
      ],
      "source": [
        "plt.imshow(at.cutout_numpy(image, size=8).squeeze(), cmap='gray')"
      ]
    },
    {
      "cell_type": "markdown",
      "metadata": {
        "id": "vzE-KMVfGaBB"
      },
      "source": [
        "### Performance of models trained with augmented data"
      ]
    },
    {
      "cell_type": "markdown",
      "metadata": {
        "id": "IsSYagb6GaBB"
      },
      "source": []
    },
    {
      "cell_type": "code",
      "execution_count": null,
      "metadata": {
        "id": "0WVauPOzGaBC"
      },
      "outputs": [],
      "source": []
    },
    {
      "cell_type": "markdown",
      "metadata": {
        "id": "sg45kL8OGaBC"
      },
      "source": [
        "## Theory"
      ]
    },
    {
      "cell_type": "markdown",
      "metadata": {
        "id": "7HC00xrUGaBC"
      },
      "source": [
        "Before diving into the art of automating data augmentation, let's take a step back and try to understand the theoretical aspects of this process."
      ]
    },
    {
      "cell_type": "markdown",
      "metadata": {
        "id": "BjTqPRETGaBC"
      },
      "source": [
        "- How to get a theoretical understanding of data augmentation ?\n",
        "- How to automate data augmentation ?"
      ]
    },
    {
      "cell_type": "markdown",
      "metadata": {
        "id": "w92NZ9NIGaBC"
      },
      "source": [
        "### Data augmentation as a kernel"
      ]
    },
    {
      "cell_type": "markdown",
      "metadata": {
        "id": "HQqfsr1iGaBC"
      },
      "source": [
        "### Data Augmentation Under A Simplified Linear Setting"
      ]
    },
    {
      "cell_type": "markdown",
      "metadata": {
        "id": "I5p17M7EGaBC"
      },
      "source": [
        "## Practical Methods of Learnable Data Augmentations"
      ]
    },
    {
      "cell_type": "markdown",
      "metadata": {
        "id": "l-MCupSwGaBC"
      },
      "source": [
        "### About the importance of learning good data augmentation policies"
      ]
    },
    {
      "cell_type": "markdown",
      "metadata": {
        "id": "multIChiGaBC"
      },
      "source": [
        "Some datasets benefited from good data augmentation policies found empirically. However, such policies are rarely transferable to other datasets. For example, horizontal flipping of images during training is an effective data augmentation method on CIFAR-10, but not on MNIST, due to the different symmetries present in these datasets."
      ]
    },
    {
      "cell_type": "markdown",
      "metadata": {
        "id": "Jr_Q9Fk5GaBD"
      },
      "source": [
        "<center><img src=\"https://github.com/fga-0/automating_data_augmentation/blob/main/img/bad_augmentation_mnist.jpg?raw=1\" height=\"55%\" width=\"55%\"></img></center>"
      ]
    },
    {
      "cell_type": "markdown",
      "metadata": {
        "id": "0hCbKKMXGaBD"
      },
      "source": [
        "### Tanda"
      ]
    },
    {
      "cell_type": "markdown",
      "metadata": {
        "id": "FAnFQcGtGaBD"
      },
      "source": [
        "<div class=\"alert alert-danger\">\n",
        "    <summary markdown=\"span\"><b>Le repo Tanda ne fonctionne qu'avec Tensorflow 1.2 !!</b></summary>\n",
        "</div>"
      ]
    },
    {
      "cell_type": "markdown",
      "metadata": {
        "id": "lHpCe6cbGaBD"
      },
      "source": [
        "<!-- ![image.png](attachment:image.png) -->\n",
        "<center><img src=\"https://github.com/fga-0/automating_data_augmentation/blob/main/img/tanda_archi.png?raw=1\" height=\"55%\" width=\"55%\"></img></center>\n"
      ]
    },
    {
      "cell_type": "markdown",
      "metadata": {
        "id": "aSbZaMjnGaBD"
      },
      "source": [
        "\"\"\"\n",
        "\n",
        "TANDA: Transformation Adversarial Networks for Data Augmentations\n",
        "To address this problem, TANDA (\n",
        "Ratner et al. 2017\n",
        ") proposes a framework to learn augmentations, whichmodels data augmentations as sequences of Transformation Functions (TFs) provided by users. For example,these might include\n",
        "“rotate 5 degrees”\n",
        "or\n",
        "“shift by 2 pixels”\n",
        ". At the core, this framework consists of twocomponents (1)\n",
        "learning a TF sequence generator\n",
        "that results in useful augmented data points, and (2)\n",
        "usingthe sequence generator\n",
        "to augment training sets for a downstream model. In particular, the TF sequencegenerator is trained to produce realistic images by having to fool a discriminator network, following the GANsframework (\n",
        "Goodfellow et al. 2014\n",
        "). The underlying assumption here is that the transformations would eitherlead to realistic images, or indistinguishable garbage images that are off the manifold. As shown in Figure 1,the objective for the generator is to produce sequences of TFs such that the augmented data point can fool thediscriminator; whereas the objective for the discriminator is to produce values close to 1 for data points in theoriginal training set and values close to 0 for augmented data points.\n",
        "\n",
        "\"\"\""
      ]
    },
    {
      "cell_type": "markdown",
      "metadata": {
        "id": "WT7u-tAZGaBD"
      },
      "source": [
        "### AutoAugment"
      ]
    },
    {
      "cell_type": "markdown",
      "metadata": {
        "id": "1UC58T8eGaBD"
      },
      "source": [
        "AutoAugment aims to automate the process of finding an effective data augmentation policy for a target dataset."
      ]
    },
    {
      "cell_type": "markdown",
      "metadata": {
        "id": "L6YaLXoLGaBE"
      },
      "source": [
        "AutoAugment has 2 use cases :\n",
        "1) AutoAugment can be applied directly on the dataset of interest to find the best augmentation policy (AutoAugment-direct)\n",
        "\n",
        "2) learned policies can be transferred to new datasets (AutoAugment-transfer)"
      ]
    },
    {
      "cell_type": "code",
      "execution_count": null,
      "metadata": {
        "id": "J1Y2qWv0GaBE"
      },
      "outputs": [],
      "source": [
        "from torchvision.transforms import AutoAugment, AutoAugmentPolicy"
      ]
    },
    {
      "cell_type": "code",
      "execution_count": null,
      "metadata": {
        "id": "41fD9lUXGaBE"
      },
      "outputs": [],
      "source": [
        "# Appliquer AutoAugment à Fashion-MNIST\n",
        "transform_augment = transforms.Compose([\n",
        "    AutoAugment(AutoAugmentPolicy.CIFAR10),  # Utilisation de la politique d'augmentation\n",
        "    transforms.ToTensor()\n",
        "])\n",
        "\n",
        "# Charger Fashion-MNIST avec augmentation\n",
        "train_set_aug = torchvision.datasets.FashionMNIST(root='./fashion_mnist', train=True, download=True, transform=transform_augment)\n",
        "train_loader_aug = torch.utils.data.DataLoader(train_set_aug, batch_size=64, shuffle=True)"
      ]
    },
    {
      "cell_type": "markdown",
      "metadata": {
        "id": "b3a1zCcHGaBE"
      },
      "source": [
        "The data went through the augmentation process."
      ]
    },
    {
      "cell_type": "code",
      "execution_count": null,
      "metadata": {
        "id": "J5PniPEeGaBE",
        "outputId": "c3025065-c239-4e44-cf74-2b4afad1197a"
      },
      "outputs": [
        {
          "data": {
            "text/plain": [
              "60000"
            ]
          },
          "execution_count": 50,
          "metadata": {},
          "output_type": "execute_result"
        }
      ],
      "source": [
        "len(train_set_aug)"
      ]
    },
    {
      "cell_type": "code",
      "execution_count": null,
      "metadata": {
        "id": "h4BhVQlAGaBE",
        "outputId": "40aed9ca-7895-483f-bbc2-6ebdb6c6da4c"
      },
      "outputs": [
        {
          "data": {
            "image/png": "[encoded data removed]",
            "text/plain": [
              "<Figure size 1000x300 with 5 Axes>"
            ]
          },
          "metadata": {},
          "output_type": "display_data"
        }
      ],
      "source": [
        "# Visualiser des images après augmentation\n",
        "utils.show_images(train_set_aug)"
      ]
    },
    {
      "cell_type": "code",
      "execution_count": null,
      "metadata": {
        "id": "AOs0lTrOGaBF",
        "outputId": "dcb35ea4-58ea-4ca9-e036-8c23aed9ee83"
      },
      "outputs": [
        {
          "name": "stderr",
          "output_type": "stream",
          "text": [
            " 10%|█         | 1/10 [00:38<05:48, 38.76s/it]"
          ]
        },
        {
          "name": "stdout",
          "output_type": "stream",
          "text": [
            "Epoch 1/10 - Loss: 2161.6639 - Acc: 0.1000\n"
          ]
        },
        {
          "name": "stderr",
          "output_type": "stream",
          "text": [
            " 20%|██        | 2/10 [01:21<05:27, 40.88s/it]"
          ]
        },
        {
          "name": "stdout",
          "output_type": "stream",
          "text": [
            "Epoch 2/10 - Loss: 2161.6932 - Acc: 0.0999\n"
          ]
        },
        {
          "name": "stderr",
          "output_type": "stream",
          "text": [
            " 30%|███       | 3/10 [01:59<04:38, 39.85s/it]"
          ]
        },
        {
          "name": "stdout",
          "output_type": "stream",
          "text": [
            "Epoch 3/10 - Loss: 2161.6196 - Acc: 0.1000\n"
          ]
        },
        {
          "name": "stderr",
          "output_type": "stream",
          "text": [
            " 40%|████      | 4/10 [02:37<03:55, 39.19s/it]"
          ]
        },
        {
          "name": "stdout",
          "output_type": "stream",
          "text": [
            "Epoch 4/10 - Loss: 2161.5680 - Acc: 0.0998\n"
          ]
        },
        {
          "name": "stderr",
          "output_type": "stream",
          "text": [
            " 50%|█████     | 5/10 [03:17<03:15, 39.18s/it]"
          ]
        },
        {
          "name": "stdout",
          "output_type": "stream",
          "text": [
            "Epoch 5/10 - Loss: 2161.5872 - Acc: 0.0999\n"
          ]
        },
        {
          "name": "stderr",
          "output_type": "stream",
          "text": [
            " 60%|██████    | 6/10 [03:55<02:35, 38.97s/it]"
          ]
        },
        {
          "name": "stdout",
          "output_type": "stream",
          "text": [
            "Epoch 6/10 - Loss: 2161.5827 - Acc: 0.1001\n"
          ]
        },
        {
          "name": "stderr",
          "output_type": "stream",
          "text": [
            " 70%|███████   | 7/10 [04:34<01:56, 38.86s/it]"
          ]
        },
        {
          "name": "stdout",
          "output_type": "stream",
          "text": [
            "Epoch 7/10 - Loss: 2161.6371 - Acc: 0.0999\n"
          ]
        },
        {
          "name": "stderr",
          "output_type": "stream",
          "text": [
            " 80%|████████  | 8/10 [05:12<01:17, 38.79s/it]"
          ]
        },
        {
          "name": "stdout",
          "output_type": "stream",
          "text": [
            "Epoch 8/10 - Loss: 2161.5954 - Acc: 0.0997\n"
          ]
        },
        {
          "name": "stderr",
          "output_type": "stream",
          "text": [
            " 90%|█████████ | 9/10 [05:51<00:38, 38.65s/it]"
          ]
        },
        {
          "name": "stdout",
          "output_type": "stream",
          "text": [
            "Epoch 9/10 - Loss: 2161.6579 - Acc: 0.0999\n"
          ]
        },
        {
          "name": "stderr",
          "output_type": "stream",
          "text": [
            "100%|██████████| 10/10 [06:30<00:00, 39.01s/it]"
          ]
        },
        {
          "name": "stdout",
          "output_type": "stream",
          "text": [
            "Epoch 10/10 - Loss: 2161.6742 - Acc: 0.1003\n"
          ]
        },
        {
          "name": "stderr",
          "output_type": "stream",
          "text": [
            "\n"
          ]
        }
      ],
      "source": [
        "# Initialiser un nouveau modèle (identique)\n",
        "model_aug = SimpleCNN().to(device)\n",
        "optimizer_aug = optim.Adam(model_aug.parameters(), lr=0.001)\n",
        "\n",
        "# Entraîner avec AutoAugment\n",
        "train_model(model_aug, train_loader_aug, test_loader, device=device, optimizer=optimizer, criterion=criterion, epochs=10)"
      ]
    },
    {
      "cell_type": "markdown",
      "metadata": {
        "id": "oPaqDHWiGaBF"
      },
      "source": [
        "Let's see how the model generalizes."
      ]
    },
    {
      "cell_type": "code",
      "execution_count": null,
      "metadata": {
        "id": "-XJKSAAGGaBF"
      },
      "outputs": [],
      "source": [
        "test_iter = iter(test_loader)\n",
        "images, labels = next(test_iter)\n",
        "image = images[0]\n",
        "label = labels[0]"
      ]
    },
    {
      "cell_type": "code",
      "execution_count": null,
      "metadata": {
        "id": "NqG_c_qXGaBF",
        "outputId": "bd1bcc14-9ecb-4fd0-b490-51d30de7176e"
      },
      "outputs": [
        {
          "data": {
            "text/plain": [
              "(-0.5, 27.5, 27.5, -0.5)"
            ]
          },
          "execution_count": 48,
          "metadata": {},
          "output_type": "execute_result"
        },
        {
          "data": {
            "image/png": "[encoded data removed]",
            "text/plain": [
              "<Figure size 640x480 with 1 Axes>"
            ]
          },
          "metadata": {},
          "output_type": "display_data"
        }
      ],
      "source": [
        "plt.imshow(image.squeeze(), cmap='gray')\n",
        "plt.title(f\"Ground truth : {label.item()}\")\n",
        "plt.axis(\"off\")"
      ]
    },
    {
      "cell_type": "code",
      "execution_count": null,
      "metadata": {
        "id": "HxGEUNq0GaBF",
        "outputId": "f9e0eb13-b69a-416a-f5a9-dcbbbcfbe3af"
      },
      "outputs": [
        {
          "name": "stdout",
          "output_type": "stream",
          "text": [
            "tensor([[ 0.0051, -0.0624,  0.0657, -0.0576, -0.0370,  0.0389, -0.0679, -0.0463,\n",
            "          0.0130, -0.0720]])\n",
            "Model prediction : 2\n"
          ]
        }
      ],
      "source": [
        "model_aug.eval()\n",
        "with torch.no_grad():\n",
        "    image = image.unsqueeze(0)\n",
        "    output = model_aug(image)\n",
        "    print(output)\n",
        "    _, predicted = torch.max(output, 1)\n",
        "print(f\"Model prediction : {predicted.item()}\")"
      ]
    },
    {
      "cell_type": "markdown",
      "metadata": {
        "id": "dPzMBJ3dGaBF"
      },
      "source": [
        "### Adversarial autoAugment"
      ]
    },
    {
      "cell_type": "markdown",
      "metadata": {
        "id": "gB47KHnpGaBF"
      },
      "source": [
        "### RandAugment"
      ]
    },
    {
      "cell_type": "markdown",
      "metadata": {
        "id": "8vcwfHTvGaBG"
      },
      "source": []
    }
  ],
  "metadata": {
    "kernelspec": {
      "display_name": "Python 3",
      "name": "python3"
    },
    "language_info": {
      "codemirror_mode": {
        "name": "ipython",
        "version": 3
      },
      "file_extension": ".py",
      "mimetype": "text/x-python",
      "name": "python",
      "nbconvert_exporter": "python",
      "pygments_lexer": "ipython3",
      "version": "3.9.21"
    },
    "colab": {
      "provenance": [],
      "gpuType": "T4"
    },
    "accelerator": "GPU"
  },
  "nbformat": 4,
  "nbformat_minor": 0
}