{
  "cells": [
    {
      "cell_type": "markdown",
      "metadata": {
        "id": "LgB3gH_RGaAo"
      },
      "source": [
        "# Automating the art of data augmentation"
      ]
    },
    {
      "cell_type": "markdown",
      "metadata": {},
      "source": [
        "# A few installation steps\n",
        "\n",
        "Please follow these steps before diving into the notebook.\n",
        "\n",
        "0. Click on the colab link below to execute the notebook on colab (you'll need a GPU further)\n",
        "\n",
        "    [![Open In Colab](https://colab.research.google.com/assets/colab-badge.svg)](https://colab.research.google.com/github/fga-0/automating_data_augmentation/blob/main/Automating_the_art_of_data_augmentation.ipynb)\n",
        "1. Download the weights of the model you will use following this link : (the file was too heavy to upload it on OpenReview 🥲)\n",
        "\n",
        "    https://drive.google.com/file/d/1cHk23cyRmG0vgHdOiifARUN88eAOozWV/view?usp=drive_link\n",
        "2. Add a few files to the colab environment : \n",
        "    - the model you just downloaded\n",
        "    - the files from the zip that you got on Openreview\n",
        "\n",
        "<center><img src=\"https://github.com/fga-0/automating_data_augmentation/blob/main/img/colab_imports.png?raw=1\" height=\"55%\" width=\"55%\"></img></center>\n",
        "\n",
        "3. Make sure that you are using a GPU. If you are not sure, click on \"Exécution/Modifier le type d'exécution/\", select **GPU T4** and save the modification.\n",
        "4. Execute the 2 following cells to do the right imports and to download the CIFAR10 dataset."
      ]
    },
    {
      "cell_type": "code",
      "execution_count": null,
      "metadata": {},
      "outputs": [],
      "source": [
        "import matplotlib.pyplot as plt\n",
        "import numpy as np\n",
        "\n",
        "import torchvision\n",
        "import torchvision.transforms as transforms\n",
        "import torchvision.datasets as datasets\n",
        "import torch\n",
        "from torch.utils.data import DataLoader\n",
        "import torch.nn as nn\n",
        "import torch.optim as optim\n",
        "from torchvision.models import wide_resnet50_2\n",
        "\n",
        "import utils\n",
        "import importlib\n",
        "importlib.reload(utils)\n",
        "from utils import get_trainloader_valloader, load_Wide_Residual_Network\n",
        "import generalization_effects\n",
        "from generalization_effects import uncertainty_based_sampling"
      ]
    },
    {
      "cell_type": "code",
      "execution_count": null,
      "metadata": {},
      "outputs": [
        {
          "name": "stdout",
          "output_type": "stream",
          "text": [
            "Files already downloaded and verified\n"
          ]
        },
        {
          "data": {
            "text/plain": [
              "Dataset CIFAR10\n",
              "    Number of datapoints: 50000\n",
              "    Root location: ./cifar10\n",
              "    Split: Train"
            ]
          },
          "execution_count": 2,
          "metadata": {},
          "output_type": "execute_result"
        }
      ],
      "source": [
        "# Load CIFAR-10 dataset\n",
        "path_to_data = \"./cifar10\"\n",
        "torchvision.datasets.CIFAR10(root=path_to_data, train=True, download=True)"
      ]
    },
    {
      "cell_type": "markdown",
      "metadata": {
        "id": "6X_reIpTGaAv"
      },
      "source": [
        "# What is data augmentation"
      ]
    },
    {
      "cell_type": "markdown",
      "metadata": {},
      "source": [
        "This notebook aims at providing an overview of existing methods for automating the process of data augmentation."
      ]
    },
    {
      "cell_type": "markdown",
      "metadata": {},
      "source": [
        "<center><img src=\"https://github.com/fga-0/automating_data_augmentation/blob/main/img/quokka.jpg?raw=1\" height=\"55%\" width=\"55%\"></img></center>"
      ]
    },
    {
      "cell_type": "markdown",
      "metadata": {
        "id": "MwMjt_2VGaAw"
      },
      "source": [
        "Modern machine learning models, such as deep neural networks, may have billions of parameters and **require massive labeled training datasets** which might be unavailable. The technique of artificially expanding labeled training datasets, known as *data augmentation*, has quickly become critical for combating this data scarcity problem. \n",
        "\n",
        "These transformations—such as rotations, flips, scaling, color adjustments, and even more complex methods like Mixup or CutMix—help improve model generalization by making it more robust to variations in real-world data."
      ]
    },
    {
      "cell_type": "markdown",
      "metadata": {
        "id": "2pOiaKrtGaAw"
      },
      "source": [
        "Data augmentation has several advantages. \n",
        "- It enhances the generalization capacity of the model by reducing the risk of overfitting. As the training set gets larger, the model learns on a more diversified data.\n",
        "- It grows the training set for a very low cost. No additional sampling campaign is required.\n",
        "\n",
        "Methods have emerged to automate the augmentation process. This notebook will go through a variety of methods, highlighting the pros and cons of using each of them."
      ]
    },
    {
      "cell_type": "markdown",
      "metadata": {
        "id": "1dL3wVn4ZNSL"
      },
      "source": [
        "We will focus on **image classification** tasks as they represent the main application of data augmentation. In this field, data augmentation has become a standard practice."
      ]
    },
    {
      "cell_type": "markdown",
      "metadata": {
        "id": "bbvA7T1iZNSL"
      },
      "source": [
        "## 🧪Transformation lab"
      ]
    },
    {
      "cell_type": "markdown",
      "metadata": {
        "id": "Ve8KxXgUZNSM"
      },
      "source": [
        "Welcome to the transformation lab, you can manipulate transformation as you wish and observe their impact on the data."
      ]
    },
    {
      "cell_type": "markdown",
      "metadata": {
        "id": "UOhqZW7vGaAx"
      },
      "source": [
        "### CIFAR10"
      ]
    },
    {
      "cell_type": "markdown",
      "metadata": {
        "id": "BRj0m5FVGaAx"
      },
      "source": [
        "The CIFAR-10 dataset consists of 60000 32x32 colour images in 10 classes, with 6000 images per class. There are 50000 training images and 10000 test images."
      ]
    },
    {
      "cell_type": "markdown",
      "metadata": {},
      "source": [
        "Here are the 10 classes of the dataset : "
      ]
    },
    {
      "cell_type": "code",
      "execution_count": null,
      "metadata": {},
      "outputs": [
        {
          "name": "stdout",
          "output_type": "stream",
          "text": [
            "Files already downloaded and verified\n"
          ]
        },
        {
          "data": {
            "image/png": "[encoded data removed]",
            "text/plain": [
              "<Figure size 1000x300 with 10 Axes>"
            ]
          },
          "metadata": {},
          "output_type": "display_data"
        }
      ],
      "source": [
        "# Load the CIFAR-10 dataset\n",
        "lab_dataset = torchvision.datasets.CIFAR10(root=path_to_data, train=True, download=True, transform=transforms.ToTensor())\n",
        "image_width = lab_dataset[0][0].shape[1]\n",
        "print(f\"The dataset is made of {image_width}x{image_width} pixels images.\")\n",
        "utils.plot_one_instance_per_class(lab_dataset)"
      ]
    },
    {
      "cell_type": "markdown",
      "metadata": {
        "id": "vFkPyQ1uZNSO"
      },
      "source": [
        "Here is a list of few transformations that can be applied to an image. \n",
        "These transformations require parameters such as : \n",
        "\n",
        "- $p$ : the probability of applying the transformation\n",
        "- $size$ : the size of the cropped image\n",
        "- and so on...\n",
        "\n",
        "Feel free to modify these parameters to visualize their effects on the images using the *plot_before_after_augmentation* function."
      ]
    },
    {
      "cell_type": "code",
      "execution_count": 56,
      "metadata": {
        "id": "gw4Q7ZY8ZNSO"
      },
      "outputs": [
        {
          "data": {
            "image/png": "[encoded data removed]",
            "text/plain": [
              "<Figure size 1000x300 with 10 Axes>"
            ]
          },
          "metadata": {},
          "output_type": "display_data"
        }
      ],
      "source": [
        "transformations = [\n",
        "    transforms.CenterCrop(size=image_width/2),\n",
        "    transforms.RandomCrop(size=image_width/2),\n",
        "    transforms.ColorJitter(brightness=0.3, contrast=0.3),\n",
        "    transforms.RandomHorizontalFlip(p=0.5),\n",
        "    transforms.RandomVerticalFlip(p=0.5),\n",
        "    transforms.RandomRotation(45),\n",
        "    transforms.RandomAffine(degrees=45, translate=(0.2, 0.2), shear=15),\n",
        "    transforms.GaussianBlur(kernel_size=3),\n",
        "    transforms.RandomInvert(p=0.5),\n",
        "    transforms.RandomSolarize(-0.1, p=0.5),\n",
        "    transforms.RandomAutocontrast(p=0.5),\n",
        "    transforms.RandomAdjustSharpness(sharpness_factor=2, p=0.5)\n",
        "]\n",
        "my_transfo = transformations[4] # EDIT THIS LINE TO CHANGE THE TRANSFORMATION\n",
        "utils.plot_before_after_augmentation(dataset=lab_dataset, transformation=my_transfo)"
      ]
    },
    {
      "cell_type": "markdown",
      "metadata": {
        "id": "6lZEiEpFZNSP"
      },
      "source": [
        "## Image classification"
      ]
    },
    {
      "cell_type": "markdown",
      "metadata": {
        "id": "JFlBrseJZNSP"
      },
      "source": [
        "In this notebook, we will use a Wide Residual Network model.   "
      ]
    },
    {
      "cell_type": "markdown",
      "metadata": {},
      "source": [
        "<div style=\"\n",
        "    padding: 10px;\n",
        "    border-radius: 10px;\n",
        "    background-color: #cce5ff;\n",
        "    border-left: 5px solid #004085;\n",
        "    color: #004085;\n",
        "\">\n",
        "<strong>Wide Residual Network</strong>  \n",
        "\n",
        "Wide Residual Networks (WideResNet) are a variant of the standard ResNet architecture designed to improve accuracy and efficiency in image classification tasks. Unlike traditional ResNets, which increase depth to enhance performance, WideResNets instead expand the network’s width by using wider residual blocks with more channels. This design reduces the training time while maintaining high accuracy by improving gradient flow and representational capacity.</div>\n"
      ]
    },
    {
      "cell_type": "markdown",
      "metadata": {},
      "source": [
        "The model that you will be using has been trained twice : \n",
        "\n",
        "- 1st training : on the IMAGENET dataset (the weights are provided by torch)\n",
        "- 2nd training : on the CIFAR dataset (the author got the weights by training the torch model on the whole CIFAR dataset)\n",
        "\n",
        "The model expects images to have a size of at least 224x224 because it was originally trained on the IMAGENET dataset.\n"
      ]
    },
    {
      "cell_type": "markdown",
      "metadata": {},
      "source": [
        "The training that you will perform will use a subset of the whole CIFAR10 dataset in order for you not to wait for a while before getting results."
      ]
    },
    {
      "cell_type": "code",
      "execution_count": null,
      "metadata": {
        "colab": {
          "base_uri": "https://localhost:8080/"
        },
        "id": "rOmW5t4PGaAy",
        "outputId": "bbcb97c4-8f6d-4a85-9355-3aac1f864e5d"
      },
      "outputs": [
        {
          "name": "stdout",
          "output_type": "stream",
          "text": [
            "Files already downloaded and verified\n",
            "Files already downloaded and verified\n",
            "Training samples: 1000\n",
            "Test samples: 200\n"
          ]
        }
      ],
      "source": [
        "# The transformations applied when loading the CIFAR10 data\n",
        "transform = transforms.Compose([\n",
        "    transforms.Resize(224), \n",
        "    transforms.ToTensor(),\n",
        "    transforms.Normalize(mean=[0.485, 0.456, 0.406], std=[0.229, 0.224, 0.225]),  # ImageNet normalization\n",
        "])\n",
        "\n",
        "# Training and testing sets\n",
        "trainset = torchvision.datasets.CIFAR10(root=path_to_data, train=True, download=True, transform=transform)\n",
        "testset = torchvision.datasets.CIFAR10(root=path_to_data, train=False, download=True, transform=transform)\n",
        "\n",
        "# Generate a subset of the dataset containing only 2% of the data (1000 images)\n",
        "train_subset, test_subset = utils.get_subset(trainset=trainset, testset=testset, percentage=0.02)"
      ]
    },
    {
      "cell_type": "markdown",
      "metadata": {
        "id": "eCJbDhHUGaA1"
      },
      "source": [
        "### Training on the raw data"
      ]
    },
    {
      "cell_type": "markdown",
      "metadata": {
        "id": "FP7HJ_7MGaA1"
      },
      "source": [
        "Let us train the model on the raw data for a few epochs for you to notice that it has already learnt most of the information present within the dataset. "
      ]
    },
    {
      "cell_type": "code",
      "execution_count": 6,
      "metadata": {
        "colab": {
          "base_uri": "https://localhost:8080/"
        },
        "id": "fuVqqQ9FGaA2",
        "outputId": "08d9ae48-b511-457c-cb87-2adf022d0f24"
      },
      "outputs": [
        {
          "name": "stdout",
          "output_type": "stream",
          "text": [
            "Training set length : 800.\n",
            "Validation set length : 200.\n"
          ]
        }
      ],
      "source": [
        "train_loader, val_loader = get_trainloader_valloader(dataset=train_subset, split=0.8, batch_size=32) # 80% train, 20% validation\n",
        "test_loader = DataLoader(test_subset, batch_size=32, shuffle=False)\n",
        "\n",
        "device = torch.device(\"cuda\" if torch.cuda.is_available() else \"cpu\")"
      ]
    },
    {
      "cell_type": "markdown",
      "metadata": {
        "id": "lo_kE0HctS3f"
      },
      "source": [
        "Let's evaluate the pretrained model on the testset."
      ]
    },
    {
      "cell_type": "code",
      "execution_count": null,
      "metadata": {
        "id": "RRVseZRxZNSR",
        "outputId": "fac1e388-8e7e-49b5-ac6a-c7d7d504250a"
      },
      "outputs": [
        {
          "name": "stdout",
          "output_type": "stream",
          "text": [
            "Linear(in_features=2048, out_features=10, bias=True)\n"
          ]
        }
      ],
      "source": [
        "# Load the Wide Residual Network trained on the raw CIFAR10 data\n",
        "wrn = load_Wide_Residual_Network(device=device, path=\"./wrn_trained_on_raw_data\")\n",
        "\n",
        "utils.evaluate(wrn, test_loader, device)"
      ]
    },
    {
      "cell_type": "code",
      "execution_count": null,
      "metadata": {
        "id": "ReaD4RUqGaA2"
      },
      "outputs": [],
      "source": [
        "criterion = nn.CrossEntropyLoss()\n",
        "\n",
        "# Set the parameters for the early stopping\n",
        "# Useful if you decide to train the model for more than 5 epochs\n",
        "patience = 5\n",
        "min_delta_loss = 0.001\n",
        "min_delta_accuracy = 0.1\n",
        "\n",
        "optimizer = optim.Adam(wrn.fc.parameters(), lr=0.001)\n",
        "scheduler = optim.lr_scheduler.CosineAnnealingLR(optimizer, T_max=200)"
      ]
    },
    {
      "cell_type": "code",
      "execution_count": null,
      "metadata": {
        "colab": {
          "base_uri": "https://localhost:8080/"
        },
        "id": "kdmfKtftGaA2",
        "outputId": "25db1585-4402-440a-fd48-6eb479c12126"
      },
      "outputs": [],
      "source": [
        "# TRAINING\n",
        "wrn_retrained = utils.train_WideResNet(model=wrn, trainloader=train_loader, valloader=val_loader, num_epochs=5,\n",
        "                                     batch_size=32, optimizer=optimizer, criterion=criterion, device=device, scheduler=scheduler,\n",
        "                                     patience=patience, min_delta_loss=min_delta_loss, min_delta_accuracy=min_delta_accuracy)"
      ]
    },
    {
      "cell_type": "code",
      "execution_count": null,
      "metadata": {
        "colab": {
          "base_uri": "https://localhost:8080/"
        },
        "id": "2bi4e25vNkLe",
        "outputId": "93fea460-b736-4d1b-d4aa-f3bd76917544"
      },
      "outputs": [
        {
          "name": "stdout",
          "output_type": "stream",
          "text": [
            "Accuracy: 69.00%\n",
            "Taux d'erreur: 31.00%\n"
          ]
        },
        {
          "data": {
            "text/plain": [
              "(0.69, 0.31000000000000005)"
            ]
          },
          "execution_count": 14,
          "metadata": {},
          "output_type": "execute_result"
        }
      ],
      "source": [
        "utils.evaluate(wrn_retrained, test_loader, device)"
      ]
    },
    {
      "cell_type": "markdown",
      "metadata": {},
      "source": [
        "The model seems to have already learnt almost all the information present in the dataset.\n",
        "\n",
        "The rest of the notebook consists in using augmentation startegies in order to improve the generalization of the model."
      ]
    },
    {
      "cell_type": "markdown",
      "metadata": {
        "id": "RKudJ23IZNSZ"
      },
      "source": [
        "## About the importance of using good data augmentation policies"
      ]
    },
    {
      "cell_type": "markdown",
      "metadata": {
        "id": "WuzV2n9xZNSa"
      },
      "source": [
        "Before diving into the art of data augmentation, let us raise awareness on the potential issues triggered by bad augmentation policies."
      ]
    },
    {
      "cell_type": "markdown",
      "metadata": {},
      "source": [
        "All the augmentations that are considered in this notebook are **label-invariant**. It means that the label of the augmented data is the same as its raw version."
      ]
    },
    {
      "cell_type": "markdown",
      "metadata": {
        "id": "eqxaECMYZNSa"
      },
      "source": [
        "Unfortunately, when applying augmentations on a dataset, one might introduce bad-labelled data. The example below illustrates how unconvenient such unwanted augmentations can be."
      ]
    },
    {
      "cell_type": "markdown",
      "metadata": {
        "id": "CuJYAnqBZNSa"
      },
      "source": [
        "Good data augmentation policies may be found empirically. However, such policies are not always transferable to other datasets. For example, horizontal flipping of images during training is an effective data augmentation method on CIFAR-10, but not on MNIST, due to the different symmetries present in these datasets."
      ]
    },
    {
      "cell_type": "markdown",
      "metadata": {
        "id": "AD1jg-s_ZNSa"
      },
      "source": [
        "<center><img src=\"https://github.com/fga-0/automating_data_augmentation/blob/main/img/bad_augmentation_mnist.jpg?raw=1\" height=\"55%\" width=\"55%\"></img></center>"
      ]
    },
    {
      "cell_type": "markdown",
      "metadata": {},
      "source": [
        "Augmented data may be obtained after applying several transformations to the data. This is called a composition of transformations. Heavy compositions might deteriorate the information and prevent a model from learning healthy information. Here is what it looks like to apply too many transformations to the data : "
      ]
    },
    {
      "cell_type": "markdown",
      "metadata": {},
      "source": [
        "<center><div style=\"text-align: center;\">\n",
        "    <img src=\"frog_0.gif\" width=\"300\" loop>\n",
        "</div>"
      ]
    },
    {
      "cell_type": "markdown",
      "metadata": {
        "id": "8VwwLoo5ZNSa"
      },
      "source": [
        "# Methods to automate data augmentation"
      ]
    },
    {
      "cell_type": "markdown",
      "metadata": {
        "id": "cq29xXOSZNSb"
      },
      "source": [
        "Finding good augmentation strategies is a search problem.\n",
        "\n",
        "All the transformations within a given search space do not allow a model to better its generalization. Worse, augmentations might even deteriorate the dataset as we have seen.\n",
        "\n",
        "Besides, with composition, the search space grows quadratically so a brute-force search is not feasible."
      ]
    },
    {
      "cell_type": "markdown",
      "metadata": {},
      "source": [
        "In the field of automating data augmentation, algorithms may be classified in 3 categories according to the way transformations are selected within the search space : \n",
        "\n",
        "In what follows, 3 methods of automated data augmentation will be described :\n",
        "\n",
        "- **RandAugment** : uses a random search\n",
        "- **AutoAugment** : a method that uses reinforcement learning\n",
        "- **Uncertainty-based sampling (UBS)** : a method that leverage the theoretical insights of data augmentation in a simplified linear setting"
      ]
    },
    {
      "cell_type": "markdown",
      "metadata": {},
      "source": [
        "# RandAugment"
      ]
    },
    {
      "cell_type": "markdown",
      "metadata": {},
      "source": [
        "The first algorithm with which we will experiment is named RandAugment. The idea is straightforward : in order to diversify the augmented data and benefit from different augmentation policies, RandAugment selects transformations ramdomly within the search space of transformations."
      ]
    },
    {
      "cell_type": "markdown",
      "metadata": {},
      "source": [
        "The *RA_augmentations.py* script contains all the transformations used by RandAugment if you want to take a look. The poor frog below undergoes all these transformations one by one  just for you to visualize concretely what kinds of transformations are available.\n"
      ]
    },
    {
      "cell_type": "markdown",
      "metadata": {},
      "source": [
        "<center><div style=\"text-align: center;\">\n",
        "    <img src=\"frog.gif\" width=\"300\" loop>\n",
        "</div>"
      ]
    },
    {
      "cell_type": "markdown",
      "metadata": {},
      "source": [
        "RandAugment introduces a vastly simplified search space for data augmentation containing 2 interpretable hyperparameters : \n",
        "\n",
        "- **num_ops** : the number of transformations each image goes through\n",
        "- **magnitude** : the intensity of the transformations applied to the images"
      ]
    },
    {
      "cell_type": "markdown",
      "metadata": {},
      "source": [
        "<div class=\"alert alert-warning\">\n",
        "    \n",
        "**Question**  \n",
        "With $K$ being the number of available transformations and $N_{ops}$ the number of successive transformations to be applied to each image.\n",
        "What is the dimension of the space of possible augmentations ?\n",
        "</div>"
      ]
    },
    {
      "cell_type": "markdown",
      "metadata": {},
      "source": [
        "<details class=\"alert alert-danger\">\n",
        "    <summary markdown=\"span\"><b>Answer</b></summary>\n",
        "\n",
        "$K^{N_{ops}}$\n",
        "</details>"
      ]
    },
    {
      "cell_type": "markdown",
      "metadata": {},
      "source": [
        "Let us load the CIFAR10 data and augment it using RandAugment implemented in *torch*."
      ]
    },
    {
      "cell_type": "code",
      "execution_count": null,
      "metadata": {},
      "outputs": [],
      "source": [
        "from torchvision.transforms import RandAugment"
      ]
    },
    {
      "cell_type": "code",
      "execution_count": null,
      "metadata": {},
      "outputs": [
        {
          "name": "stdout",
          "output_type": "stream",
          "text": [
            "Files already downloaded and verified\n"
          ]
        }
      ],
      "source": [
        "transform_randaugment = transforms.Compose([\n",
        "    transforms.Resize(224),\n",
        "    RandAugment(num_ops=2, magnitude=9),  # the 2 key hyper-parameters of RandAugment\n",
        "    transforms.ToTensor(),\n",
        "    transforms.Normalize(mean=[0.485, 0.456, 0.406], std=[0.229, 0.224, 0.225]),\n",
        "])\n",
        "\n",
        "# Training set with RandAugment\n",
        "trainset_randaugment = torchvision.datasets.CIFAR10(root=path_to_data, train=True, download=True, transform=transform_randaugment)\n",
        "\n",
        "# Get a subset of the dataset containing only 2% of the data (1000 images)\n",
        "train_subset_RA, test_subset_RA = utils.get_subset(trainset=trainset_randaugment, testset=testset, percentage=0.02)\n",
        "\n",
        "train_loader_RA, val_loader_RA = get_trainloader_valloader(dataset=train_subset_RA, split=0.8, batch_size=32)\n"
      ]
    },
    {
      "cell_type": "code",
      "execution_count": null,
      "metadata": {},
      "outputs": [],
      "source": [
        "# Load the Wide Residual Network trained on the raw CIFAR10 data\n",
        "wrn_RA = load_Wide_Residual_Network(device=device, path=\"./wrn_trained_on_raw_data\")\n",
        "\n",
        "optimizer = optim.Adam(wrn_RA.fc.parameters(), lr=0.001)\n",
        "scheduler = optim.lr_scheduler.CosineAnnealingLR(optimizer, T_max=200)"
      ]
    },
    {
      "cell_type": "code",
      "execution_count": null,
      "metadata": {},
      "outputs": [
        {
          "name": "stderr",
          "output_type": "stream",
          "text": []
        },
        {
          "name": "stdout",
          "output_type": "stream",
          "text": [
            "Epoch 1: Loss=1.9124, Accuracy=35.80%\n"
          ]
        },
        {
          "name": "stderr",
          "output_type": "stream",
          "text": []
        },
        {
          "name": "stdout",
          "output_type": "stream",
          "text": [
            "Epoch 2: Loss=1.2958, Accuracy=62.70%\n"
          ]
        },
        {
          "name": "stderr",
          "output_type": "stream",
          "text": []
        },
        {
          "name": "stdout",
          "output_type": "stream",
          "text": [
            "Epoch 3: Loss=1.0557, Accuracy=68.40%\n"
          ]
        },
        {
          "name": "stderr",
          "output_type": "stream",
          "text": []
        },
        {
          "name": "stdout",
          "output_type": "stream",
          "text": [
            "Epoch 4: Loss=0.8857, Accuracy=73.50%\n"
          ]
        },
        {
          "name": "stderr",
          "output_type": "stream",
          "text": [
            "                                                                                   "
          ]
        },
        {
          "name": "stdout",
          "output_type": "stream",
          "text": [
            "Epoch 5: Loss=0.7740, Accuracy=80.10%\n",
            "Training complete!\n"
          ]
        },
        {
          "name": "stderr",
          "output_type": "stream",
          "text": [
            "\r"
          ]
        }
      ],
      "source": [
        "# TRAINING on the augmented data\n",
        "wrn_trained_RA = utils.train_WideResNet(model=wrn_RA, trainloader=train_loader_RA, valloader=val_loader_RA, num_epochs=5,\n",
        "                                                       batch_size=32, optimizer=optimizer, criterion=criterion,\n",
        "                                                       device=device, scheduler=scheduler, patience=patience,\n",
        "                                                       min_delta_loss=min_delta_loss, min_delta_accuracy=min_delta_accuracy)"
      ]
    },
    {
      "cell_type": "code",
      "execution_count": null,
      "metadata": {},
      "outputs": [
        {
          "name": "stdout",
          "output_type": "stream",
          "text": [
            "Accuracy: 73.00%\n",
            "Taux d'erreur: 27.00%\n"
          ]
        },
        {
          "data": {
            "text/plain": [
              "(0.73, 0.27)"
            ]
          },
          "metadata": {},
          "output_type": "display_data"
        }
      ],
      "source": [
        "utils.evaluate(wrn_trained_RA, test_loader, device)"
      ]
    },
    {
      "cell_type": "markdown",
      "metadata": {},
      "source": [
        "Hopefully the model has gained some performance in generalization thanks to the training on the augmented data."
      ]
    },
    {
      "cell_type": "markdown",
      "metadata": {
        "id": "wpOnKI3QVzsJ"
      },
      "source": [
        "# AutoAugment"
      ]
    },
    {
      "cell_type": "markdown",
      "metadata": {},
      "source": [
        "AutoAugment is an algorithm introduced by Google Brain that uses reinforcement learning to find the best augmentation policy for a given dataset."
      ]
    },
    {
      "cell_type": "markdown",
      "metadata": {},
      "source": [
        "## The search space"
      ]
    },
    {
      "cell_type": "markdown",
      "metadata": {},
      "source": [
        "The goal of AutoAugment is to find the 5 best sub-policies for a given dataset."
      ]
    },
    {
      "cell_type": "markdown",
      "metadata": {},
      "source": [
        "A policy $S$ consists of many sub-policies $s_i$.\n",
        "\n",
        "A given sub-policy consists of **two operations**, each operation being an image processing function such as translation, rotation, or shearing, and the probabilities and magnitudes with which the functions are applied.\n",
        "\n",
        "\n",
        "\n",
        "\n"
      ]
    },
    {
      "cell_type": "markdown",
      "metadata": {},
      "source": [
        "In other words, for a given index $i$, the associated sub-policy $s_i$ is : \n",
        "\n",
        "$$s_i = (O_i^1, O_i^2)$$\n",
        "$$O_i^k = (T_{i,k} , p_{i,k}, m_{i,k})$$\n",
        "- $t_{i,k}$ : the $k^{th}$ transformation of the $i^{th}$ sub-policy\n",
        "- p : the probability of applying $t_{i,k}$\n",
        "- m : the magnitude of $t_{i,k}$"
      ]
    },
    {
      "cell_type": "markdown",
      "metadata": {},
      "source": [
        "<div class=\"alert alert-success\">\n",
        "\n",
        "**Example of a sub-policy :** \n",
        "\n",
        " (Rotate by 30° with 80% probability → Then apply Contrast adjustment with magnitude 6 and 70% probability)\n",
        " </div>"
      ]
    },
    {
      "cell_type": "markdown",
      "metadata": {},
      "source": [
        "<div style=\"\n",
        "    padding: 10px;\n",
        "    border-radius: 10px;\n",
        "    background-color: #cce5ff;\n",
        "    border-left: 5px solid #004085;\n",
        "    color: #004085;\n",
        "\">\n",
        "<strong>Dimension of the search space</strong>  \n",
        "\n",
        "In the original paper of AutoAugment, the magnitudes and probabilities are discretized in 10 and 11 values respectively.\n",
        "\n",
        "With $N$ being the number of possible transformations, the dimension of the search space is $((N*10*11)^2)^5$.\n",
        "\n",
        "For $N$ = 10, the search space has a dimension of ~$10^{30}$ !! \n",
        "\n",
        "This is way too high if we consider the computational cost of assessing the performance of each one of them. In the AutoAugment article, 15 000 sub-policies are considered (chosen randomly)."
      ]
    },
    {
      "cell_type": "markdown",
      "metadata": {},
      "source": [
        "## The algorithm"
      ]
    },
    {
      "cell_type": "markdown",
      "metadata": {},
      "source": [
        "The process of AutoAugment to find the best policy may be summarized as follows : "
      ]
    },
    {
      "cell_type": "markdown",
      "metadata": {},
      "source": [
        "<center><img src=\"https://github.com/fga-0/automating_data_augmentation/blob/main/img/AA_framework.png?raw=1\" height=\"55%\" width=\"55%\"></img></center>"
      ]
    },
    {
      "cell_type": "markdown",
      "metadata": {},
      "source": [
        "The **child network** is a neural network trained at each iteration on the augmented data generated thanks to the augmentation policy determined by the controller. "
      ]
    },
    {
      "cell_type": "markdown",
      "metadata": {},
      "source": [
        "The **controller** is a Recurrent Neural Network (an LSTM actually) that is updated at each iteration using policy gradient methods. The RNN tries to maximize the accuracy of the child model on the validation set."
      ]
    },
    {
      "cell_type": "markdown",
      "metadata": {},
      "source": [
        "<div class=\"alert alert-danger\">\n",
        "\n",
        "This RL-based policy search is **computationally expensive** but results in **high-quality augmentation strategies**.\n",
        "</div>"
      ]
    },
    {
      "cell_type": "markdown",
      "metadata": {},
      "source": [
        "## Transferability"
      ]
    },
    {
      "cell_type": "markdown",
      "metadata": {},
      "source": [
        "The AutoAugment algorithm was trained on CIFAR-10, CIFAR-100, and ImageNet datasets.\n",
        "\n",
        "After thousands of RL search iterations, AutoAugment found an optimal set of sub-policies that worked best for **CIFAR-10** and CIFAR-100.\n",
        "\n",
        "These predefined augmentation policies are now available in *torchvision.transforms.AutoAugmentPolicy.CIFAR10*."
      ]
    },
    {
      "cell_type": "markdown",
      "metadata": {},
      "source": [
        "It allows us to use these augmentation strategies to enrich the CIFAR10 dataset."
      ]
    },
    {
      "cell_type": "code",
      "execution_count": null,
      "metadata": {
        "id": "xH1U-viEWgdq"
      },
      "outputs": [],
      "source": [
        "from torchvision.transforms import AutoAugment, AutoAugmentPolicy"
      ]
    },
    {
      "cell_type": "code",
      "execution_count": null,
      "metadata": {
        "colab": {
          "base_uri": "https://localhost:8080/"
        },
        "id": "ISX1ckJcV18t",
        "outputId": "916f5e5f-82ff-4eaf-dfab-49caba8f81a9"
      },
      "outputs": [
        {
          "name": "stdout",
          "output_type": "stream",
          "text": [
            "Files already downloaded and verified\n"
          ]
        }
      ],
      "source": [
        "transform_augment = transforms.Compose([\n",
        "    transforms.Resize(224),\n",
        "    AutoAugment(AutoAugmentPolicy.CIFAR10),\n",
        "    transforms.ToTensor(),\n",
        "    transforms.Normalize(mean=[0.485, 0.456, 0.406], std=[0.229, 0.224, 0.225]),\n",
        "])\n",
        "\n",
        "trainset_aug = torchvision.datasets.CIFAR10(root=path_to_data, train=True, download=True, transform=transform_augment)"
      ]
    },
    {
      "cell_type": "code",
      "execution_count": 1,
      "metadata": {
        "colab": {
          "base_uri": "https://localhost:8080/",
          "height": 277
        },
        "id": "KBSto1K6Xa-7",
        "outputId": "17d40470-03f2-40ec-92ee-a5aa5b4abd83"
      },
      "outputs": [
        {
          "ename": "NameError",
          "evalue": "name 'utils' is not defined",
          "output_type": "error",
          "traceback": [
            "\u001b[0;31m---------------------------------------------------------------------------\u001b[0m",
            "\u001b[0;31mNameError\u001b[0m                                 Traceback (most recent call last)",
            "Cell \u001b[0;32mIn[1], line 1\u001b[0m\n\u001b[0;32m----> 1\u001b[0m \u001b[43mutils\u001b[49m\u001b[38;5;241m.\u001b[39mplot_images(trainset_aug, \u001b[38;5;241m5\u001b[39m)\n",
            "\u001b[0;31mNameError\u001b[0m: name 'utils' is not defined"
          ]
        }
      ],
      "source": [
        "utils.plot_images(trainset_aug, 5)"
      ]
    },
    {
      "cell_type": "code",
      "execution_count": null,
      "metadata": {
        "colab": {
          "base_uri": "https://localhost:8080/"
        },
        "id": "OGhUhiFsZjLz",
        "outputId": "a73762dd-392a-4e32-baa7-a6cebd7c3a8e"
      },
      "outputs": [
        {
          "name": "stdout",
          "output_type": "stream",
          "text": [
            "Training samples: 1000\n",
            "Test samples: 200\n"
          ]
        }
      ],
      "source": [
        "# Training set with AutoAugment\n",
        "train_subset_aug, test_subset_aug = utils.get_subset(trainset=trainset_aug, testset=testset, percentage=0.02)\n",
        "\n",
        "train_loader_AA, val_loader_AA = get_trainloader_valloader(dataset=train_subset_aug, split=0.8, batch_size=32)"
      ]
    },
    {
      "cell_type": "markdown",
      "metadata": {
        "id": "Dv4ogz9OZNSd"
      },
      "source": [
        "Let us reload the model in order not to benefit from an artificial improvement due to the preceding training."
      ]
    },
    {
      "cell_type": "code",
      "execution_count": null,
      "metadata": {
        "id": "oVVD-jLnZNSe"
      },
      "outputs": [
        {
          "ename": "NameError",
          "evalue": "name 'wide_resnet50_2' is not defined",
          "output_type": "error",
          "traceback": [
            "\u001b[0;31m---------------------------------------------------------------------------\u001b[0m",
            "\u001b[0;31mNameError\u001b[0m                                 Traceback (most recent call last)",
            "Cell \u001b[0;32mIn[2], line 1\u001b[0m\n\u001b[0;32m----> 1\u001b[0m wrn_aa \u001b[38;5;241m=\u001b[39m \u001b[43mwide_resnet50_2\u001b[49m()\n\u001b[1;32m      2\u001b[0m \u001b[38;5;66;03m# Freeze all model parameters except for the final layer:\u001b[39;00m\n\u001b[1;32m      3\u001b[0m \u001b[38;5;28;01mfor\u001b[39;00m param \u001b[38;5;129;01min\u001b[39;00m wrn_aa\u001b[38;5;241m.\u001b[39mparameters():\n",
            "\u001b[0;31mNameError\u001b[0m: name 'wide_resnet50_2' is not defined"
          ]
        }
      ],
      "source": [
        "# Load the Wide Residual Network trained on the raw CIFAR10 data\n",
        "wrn_AA = load_Wide_Residual_Network(device=device, path=\"./wrn_trained_on_raw_data\")"
      ]
    },
    {
      "cell_type": "code",
      "execution_count": null,
      "metadata": {
        "id": "qN9X11icZkk8"
      },
      "outputs": [],
      "source": [
        "optimizer = optim.Adam(wrn_AA.fc.parameters(), lr=0.001)\n",
        "scheduler = optim.lr_scheduler.CosineAnnealingLR(optimizer, T_max=200)"
      ]
    },
    {
      "cell_type": "code",
      "execution_count": null,
      "metadata": {
        "colab": {
          "base_uri": "https://localhost:8080/"
        },
        "id": "rd_5-TCZWas5",
        "outputId": "0968de41-735c-47ac-fd31-6e7ee1793349"
      },
      "outputs": [
        {
          "name": "stderr",
          "output_type": "stream",
          "text": []
        },
        {
          "name": "stdout",
          "output_type": "stream",
          "text": [
            "Epoch 1: Loss=1.9124, Accuracy=35.80%\n"
          ]
        },
        {
          "name": "stderr",
          "output_type": "stream",
          "text": []
        },
        {
          "name": "stdout",
          "output_type": "stream",
          "text": [
            "Epoch 2: Loss=1.2958, Accuracy=62.70%\n"
          ]
        },
        {
          "name": "stderr",
          "output_type": "stream",
          "text": []
        },
        {
          "name": "stdout",
          "output_type": "stream",
          "text": [
            "Epoch 3: Loss=1.0557, Accuracy=68.40%\n"
          ]
        },
        {
          "name": "stderr",
          "output_type": "stream",
          "text": []
        },
        {
          "name": "stdout",
          "output_type": "stream",
          "text": [
            "Epoch 4: Loss=0.8857, Accuracy=73.50%\n"
          ]
        },
        {
          "name": "stderr",
          "output_type": "stream",
          "text": [
            "                                                                                   "
          ]
        },
        {
          "name": "stdout",
          "output_type": "stream",
          "text": [
            "Epoch 5: Loss=0.7740, Accuracy=80.10%\n",
            "Training complete!\n"
          ]
        },
        {
          "name": "stderr",
          "output_type": "stream",
          "text": [
            "\r"
          ]
        }
      ],
      "source": [
        "# TRAINING on the augmented data\n",
        "\n",
        "wrn_trained_AA = utils.train_WideResNet(model=wrn_AA, trainloader=train_loader_AA, valloader=val_loader_AA, num_epochs=5,\n",
        "                                                       batch_size=32, optimizer=optimizer, criterion=criterion,\n",
        "                                                       device=device, scheduler=scheduler, patience=patience,\n",
        "                                                       min_delta_loss=min_delta_loss, min_delta_accuracy=min_delta_accuracy)"
      ]
    },
    {
      "cell_type": "code",
      "execution_count": null,
      "metadata": {
        "colab": {
          "base_uri": "https://localhost:8080/"
        },
        "id": "ZI-bi0VuaYio",
        "outputId": "2deb7905-bd8a-4173-a5a2-a9f61eb2d17d"
      },
      "outputs": [
        {
          "name": "stdout",
          "output_type": "stream",
          "text": [
            "Accuracy: 73.00%\n",
            "Taux d'erreur: 27.00%\n"
          ]
        },
        {
          "data": {
            "text/plain": [
              "(0.73, 0.27)"
            ]
          },
          "execution_count": 25,
          "metadata": {},
          "output_type": "execute_result"
        }
      ],
      "source": [
        "utils.evaluate(wrn_trained_AA, test_loader, device)"
      ]
    },
    {
      "cell_type": "markdown",
      "metadata": {},
      "source": [
        "If the accuracy of the model improved after training on the augmented data, it means that the augmentation policies of AutoAugment are relevant and allows to better the generalization capacity of the model."
      ]
    },
    {
      "cell_type": "markdown",
      "metadata": {
        "id": "1mmar253ZNSn"
      },
      "source": [
        "# Data Augmentation Under A Simplified Linear Setting"
      ]
    },
    {
      "cell_type": "markdown",
      "metadata": {
        "id": "DffohsibZNSn"
      },
      "source": [
        "Sen Wu et al. developped a theoretical framework in order to understand data augmentation better."
      ]
    },
    {
      "cell_type": "markdown",
      "metadata": {
        "id": "ygSn333_ZNSn"
      },
      "source": [
        "This theoretical chapter will eventually lead you to another algorithm that stands as a well-balanced trade-off between heavy Reinforcement Learning and RandAugment methods."
      ]
    },
    {
      "cell_type": "markdown",
      "metadata": {
        "id": "aQmEZ1XqZNSn"
      },
      "source": [
        "## Problem formulation"
      ]
    },
    {
      "cell_type": "markdown",
      "metadata": {
        "id": "GNsdhv3tZNSo"
      },
      "source": [
        "### Setting"
      ]
    },
    {
      "cell_type": "markdown",
      "metadata": {},
      "source": [
        "Let us consider an over-parametrized linear regression : the number of parameters is greater than the number of training samples."
      ]
    },
    {
      "cell_type": "markdown",
      "metadata": {},
      "source": [
        "$$X = [x_1\\in\\mathbb{R^p}, x_2\\in\\mathbb{R^p}, ..., x_n\\in\\mathbb{R^p}]$$\n",
        "$$Y = X\\beta + \\epsilon$$\n",
        "$$p > n$$"
      ]
    },
    {
      "cell_type": "markdown",
      "metadata": {},
      "source": [
        "Let us recall the Ridge estimator using an $l_2$ regularization with parameter $\\lambda$ :"
      ]
    },
    {
      "cell_type": "markdown",
      "metadata": {},
      "source": [
        "$$L(\\hat{\\beta}) = \\left \\lVert X\\hat{\\beta}-Y \\right \\rVert_2^2 + \\lambda * \\left \\lVert \\hat{\\beta} \\right \\rVert_2^2"
      ]
    },
    {
      "cell_type": "markdown",
      "metadata": {
        "id": "4y-POsNUZNSo"
      },
      "source": [
        "**How does adding transformed samples impact the ridge estimator's generalization error ?**"
      ]
    },
    {
      "cell_type": "markdown",
      "metadata": {},
      "source": [
        "In order to answer to this question, we will compare the Ridge estimator to the augmented Ridge estimator \n",
        "$$\\hat\\beta_{aug} = \\hat\\beta (X_{aug}, Y_{aug})$$"
      ]
    },
    {
      "cell_type": "markdown",
      "metadata": {
        "id": "ONn12O63ZNSo"
      },
      "source": [
        "We will consider 3 categories of transformations which are :\n",
        "\n",
        "1. **label-invariant** transformations\n",
        "2. **label-mixing** transformations\n",
        "3. **composition** of transformations"
      ]
    },
    {
      "cell_type": "markdown",
      "metadata": {
        "id": "bHglQPMJZNSo"
      },
      "source": [
        "### Label-invariant transformations"
      ]
    },
    {
      "cell_type": "markdown",
      "metadata": {},
      "source": [
        "As the name suggests, these transformations do not alter the label of the original data. All the transformations studied until now were label-invariant."
      ]
    },
    {
      "cell_type": "markdown",
      "metadata": {},
      "source": [
        "Let us denote : \n",
        "- a transformation \n",
        "$$F \\in \\mathbb{R^{d\\times d}}$$\n",
        "- a training sample\n",
        "$$(x, y)$$\n",
        "- the transformed sample \n",
        "$$(Fx, y)$$"
      ]
    },
    {
      "cell_type": "markdown",
      "metadata": {},
      "source": [
        "In this context, adding, the transformed sample reduces the estimation error of the ridge estimator : \n",
        "$$e(\\hat\\beta) - e(\\hat\\beta_{aug}) \\geq \\frac{\\beta^\\intercal P^{\\perp}_X Fx}{n}$$\n",
        "$P^{\\perp}_X$ denotes the projection to the orthogonal subspace of $X$.\n",
        "\n",
        "➡️The transformed sample adds a new direction outside the span of the training data, which does not cover the entire space because $n < p$"
      ]
    },
    {
      "cell_type": "markdown",
      "metadata": {},
      "source": [
        "### Composition of transformations"
      ]
    },
    {
      "cell_type": "markdown",
      "metadata": {},
      "source": [
        "A composition of transformations is the application of several transformations successively to the same data sample."
      ]
    },
    {
      "cell_type": "markdown",
      "metadata": {},
      "source": [
        "Let us denote : \n",
        "- two transformations : \n",
        "$$F_1 \\in \\mathbb{R^{d\\times d}}, F_2 \\in \\mathbb{R^{d\\times d}}$$\n",
        "- a training sample\n",
        "$$(x, y)$$\n",
        "- the transformed sample \n",
        "$$(F_1 F_2 x, y)$$"
      ]
    },
    {
      "cell_type": "markdown",
      "metadata": {},
      "source": [
        "The estimation error is once again reduced if the augmented data is added to the original dataset : \n",
        "$$e(\\hat\\beta) - e(\\hat\\beta_{aug}) \\geq \\frac{(\\beta^\\intercal P^{\\perp}_X F_1 F_2x)^2}{n}$$\n",
        "This result is very close to the preceding one."
      ]
    },
    {
      "cell_type": "markdown",
      "metadata": {
        "id": "A-cZl39CZNSp"
      },
      "source": [
        "### Label-mixing transformations"
      ]
    },
    {
      "cell_type": "markdown",
      "metadata": {},
      "source": [
        "These transformation are quite particular as the label of the augmented sample is a mix of the labels of the samples that were used for the augmentation."
      ]
    },
    {
      "cell_type": "markdown",
      "metadata": {},
      "source": [
        "Let us denote : \n",
        "- a mixing parameter : \n",
        "$$\\alpha$$\n",
        "- two training samples\n",
        "$$(x_1, y_1), (x_2, y_2)$$\n",
        "- the transformed sample \n",
        "$$(\\alpha x_1 + (1-\\alpha x_2), \\alpha y_1 + (1-\\alpha y_2))$$"
      ]
    },
    {
      "cell_type": "code",
      "execution_count": null,
      "metadata": {},
      "outputs": [
        {
          "data": {
            "image/png": "[encoded data removed]",
            "text/plain": [
              "<Figure size 1200x400 with 3 Axes>"
            ]
          },
          "metadata": {},
          "output_type": "display_data"
        }
      ],
      "source": [
        "# Get 2 images randomly chosen from the dataset\n",
        "image1 = lab_dataset[np.random.randint(0, len(lab_dataset))][0]\n",
        "image2 = lab_dataset[np.random.randint(0, len(lab_dataset))][0]\n",
        "# Use the mixup function to mix the 2 images \n",
        "utils.demo_mixup(image1=image1, image2=image2, alpha=0.5) # Change alpha to see different results"
      ]
    },
    {
      "cell_type": "markdown",
      "metadata": {},
      "source": [
        "In this context, adding the mixup samples $x_{aug} = \\alpha x_1 + (1 - \\alpha) x_2$ reduces estimation error :\n",
        "$$e(\\hat\\beta) - e(\\hat\\beta_{aug}) \\geq \\frac{\\lambda^2 \\left \\lVert X\\beta \\right \\rVert^2}{n^2}$$\n",
        "💡This result might be more comprehensive looking at the expectation of the covariance of a randomly selected sample : \n",
        "$$\\mathbb{E} \\left[ x^{aug} x^{aug^T} \\right] = (1 - 2\\alpha)^2 \\frac{X^T X}{n}$$\n",
        "$$\\Rightarrow \\mathbb{E} \\left[ \\frac{X^T X + x^{aug} x^{aug^T}}{n+1} \\right] = \\left( \\frac{n}{n+1} + \\frac{(1-2\\alpha)^2}{(n+1)} \\right) \\frac{X^T X}{n} = \\gamma \\frac{X^T X}{n}$$\n",
        "And $\\gamma$ is less than 1. \n",
        "\n",
        "➡️ So the sample covariance of the augmented dataset is smaller than the original sample covariance.\n"
      ]
    },
    {
      "cell_type": "markdown",
      "metadata": {
        "id": "gIm291GhZNSq"
      },
      "source": [
        "# Uncertainty-based sampling of transformations"
      ]
    },
    {
      "cell_type": "markdown",
      "metadata": {},
      "source": [
        "The Uncertainty-based sampling of transformations is an augmentation scheme that relies on the preceding results. \n",
        "\n",
        "The scheme is adapted to identify whether or not adding new data is beneficial to improve the generalization.\n",
        "\n",
        "The idea is that for a batch of $B$ samples, $C$ transformations are to be applied to each sample. The transformations are randomly sampled among the transformation functions provided by the user.\n",
        "\n",
        "Using the current parameters of the model, the losses associated to each augmented sample are evaluated and for each sample, the $S$ augmented versions with the highest losses are kept."
      ]
    },
    {
      "cell_type": "markdown",
      "metadata": {},
      "source": [
        "<center><img src=\"https://github.com/fga-0/automating_data_augmentation/blob/main/img/UBS_schema0.png?raw=1\" height=\"55%\" width=\"55%\"></img></center>"
      ]
    },
    {
      "cell_type": "markdown",
      "metadata": {},
      "source": [
        "In the end, $S\\times B$ augmented samples are obtained and used to update the parameters of the model using back propagation."
      ]
    },
    {
      "cell_type": "markdown",
      "metadata": {},
      "source": [
        "<center><img src=\"https://github.com/fga-0/automating_data_augmentation/blob/main/img/ubs_algorithm.png?raw=1\" height=\"55%\" width=\"55%\"></img></center>"
      ]
    },
    {
      "cell_type": "markdown",
      "metadata": {},
      "source": [
        "In the following cell, *F_transformations* is declared and represents all the transformations that will be tested through the UBS algorithm in order to identify those that are more likeky to improve the model generalization.\n",
        "\n",
        "As the method consists in keeping the augmentations with which the model is the most uncertain, using \"heavy\" transformations seems not to be convenient. That is why a bunch of transformations are commented in the *F_transformations* declaration. However, you are still free to uncomment them and see what happens."
      ]
    },
    {
      "cell_type": "code",
      "execution_count": null,
      "metadata": {
        "id": "iwlhWdNUZNSq"
      },
      "outputs": [
        {
          "name": "stdout",
          "output_type": "stream",
          "text": [
            "Files already downloaded and verified\n",
            "Files already downloaded and verified\n",
            "Training samples: 1000\n",
            "Test samples: 200\n"
          ]
        }
      ],
      "source": [
        "# The transformations applied when loading the CIFAR10 data\n",
        "transform = transforms.Compose([\n",
        "    transforms.Resize(224),\n",
        "    transforms.ToTensor(),\n",
        "    transforms.Normalize(mean=[0.485, 0.456, 0.406], std=[0.229, 0.224, 0.225]),  # ImageNet normalization\n",
        "])\n",
        "\n",
        "\n",
        "# Training and testing sets\n",
        "trainset = torchvision.datasets.CIFAR10(root=path_to_data, train=True, download=True, transform=transform)\n",
        "testset = torchvision.datasets.CIFAR10(root=path_to_data, train=False, download=True, transform=transform)\n",
        "\n",
        "# Generate a subset of the dataset containing only 2% of the data (1000 images)\n",
        "train_subset_UBS, test_subset_UBS = utils.get_subset(trainset=trainset, testset=testset, percentage=0.02)\n",
        "\n",
        "# Get the image_width to parameterize the transformations\n",
        "image_width = trainset[0][0].shape[1]\n",
        "\n",
        "# The transformation functions that will be tested with the uncertainty-based sampling\n",
        "F_transformations = [\n",
        "    transforms.CenterCrop(size=image_width/2),\n",
        "    transforms.RandomCrop(size=image_width/2),\n",
        "    transforms.RandomHorizontalFlip(p=0.5),\n",
        "    transforms.RandomVerticalFlip(p=0.5),\n",
        "    transforms.RandomRotation(45),\n",
        "    transforms.RandomAffine(degrees=45, translate=(0.2, 0.2), shear=15),\n",
        "    # transforms.RandomInvert(p=0.5),\n",
        "    # transforms.GaussianBlur(kernel_size=3),\n",
        "    # transforms.ColorJitter(brightness=0.3, contrast=0.3),\n",
        "    # transforms.RandomSolarize(-0.1, p=0.5),\n",
        "    # transforms.RandomAutocontrast(p=0.5),\n",
        "    # transforms.RandomAdjustSharpness(sharpness_factor=2, p=0.5)\n",
        "]"
      ]
    },
    {
      "cell_type": "markdown",
      "metadata": {},
      "source": [
        "Execute and modify the cell below if you want to visualize the transformations in *F_tranfsormations* that compose the search space."
      ]
    },
    {
      "cell_type": "code",
      "execution_count": null,
      "metadata": {
        "colab": {
          "base_uri": "https://localhost:8080/",
          "height": 268
        },
        "id": "bq6d9O9ht0LI",
        "outputId": "01bc9127-f86c-4eef-89ca-d2d769271969"
      },
      "outputs": [
        {
          "name": "stderr",
          "output_type": "stream",
          "text": [
            "Clipping input data to the valid range for imshow with RGB data ([0..1] for floats or [0..255] for integers). Got range [-2.117904..2.535425].\n",
            "Clipping input data to the valid range for imshow with RGB data ([0..1] for floats or [0..255] for integers). Got range [-1.535425..3.117904].\n",
            "Clipping input data to the valid range for imshow with RGB data ([0..1] for floats or [0..255] for integers). Got range [-1.9131652..1.5707283].\n",
            "Clipping input data to the valid range for imshow with RGB data ([0..1] for floats or [0..255] for integers). Got range [-0.5707283..2.913165].\n",
            "Clipping input data to the valid range for imshow with RGB data ([0..1] for floats or [0..255] for integers). Got range [-2.1007793..2.64].\n",
            "Clipping input data to the valid range for imshow with RGB data ([0..1] for floats or [0..255] for integers). Got range [-2.1007793..2.64].\n",
            "Clipping input data to the valid range for imshow with RGB data ([0..1] for floats or [0..255] for integers). Got range [-1.7870152..1.9602616].\n",
            "Clipping input data to the valid range for imshow with RGB data ([0..1] for floats or [0..255] for integers). Got range [-1.7870152..1.9602616].\n",
            "Clipping input data to the valid range for imshow with RGB data ([0..1] for floats or [0..255] for integers). Got range [-1.6384109..2.535425].\n",
            "Clipping input data to the valid range for imshow with RGB data ([0..1] for floats or [0..255] for integers). Got range [-1.535425..2.638411].\n"
          ]
        },
        {
          "data": {
            "image/png": "[encoded data removed]",
            "text/plain": [
              "<Figure size 1000x300 with 10 Axes>"
            ]
          },
          "metadata": {},
          "output_type": "display_data"
        }
      ],
      "source": [
        "utils.plot_before_after_augmentation(dataset=train_subset_UBS, transformation=F_transformations[6])"
      ]
    },
    {
      "cell_type": "code",
      "execution_count": null,
      "metadata": {
        "colab": {
          "base_uri": "https://localhost:8080/"
        },
        "id": "4w8s_1zjZNSs",
        "outputId": "d8acc292-b0dd-4721-efa1-b814b447ee8b"
      },
      "outputs": [
        {
          "name": "stdout",
          "output_type": "stream",
          "text": [
            "Linear(in_features=2048, out_features=10, bias=True)\n"
          ]
        }
      ],
      "source": [
        "# Load the Wide Residual Network trained on the raw CIFAR10 data\n",
        "wrn_UBS = load_Wide_Residual_Network(device=device, path=\"./wrn_trained_on_raw_data\")"
      ]
    },
    {
      "cell_type": "code",
      "execution_count": 155,
      "metadata": {
        "colab": {
          "base_uri": "https://localhost:8080/"
        },
        "id": "SDpJ8OSfrvMU",
        "outputId": "ae236daf-b196-4280-d2f4-5c11e2e15180"
      },
      "outputs": [
        {
          "name": "stdout",
          "output_type": "stream",
          "text": [
            "Accuracy: 81.00%\n",
            "Taux d'erreur: 19.00%\n"
          ]
        },
        {
          "data": {
            "text/plain": [
              "(0.81, 0.18999999999999995)"
            ]
          },
          "execution_count": 155,
          "metadata": {},
          "output_type": "execute_result"
        }
      ],
      "source": [
        "utils.evaluate(wrn_UBS, test_loader, device)"
      ]
    },
    {
      "cell_type": "code",
      "execution_count": null,
      "metadata": {
        "id": "GKCWK3CzZNSs"
      },
      "outputs": [],
      "source": [
        "# Training set\n",
        "train_loader_UBS = DataLoader(train_subset_UBS, batch_size=32, shuffle=False)"
      ]
    },
    {
      "cell_type": "code",
      "execution_count": null,
      "metadata": {
        "id": "2dcchTDor3q1"
      },
      "outputs": [],
      "source": [
        "G_default_transformations = transforms.Compose([\n",
        "    transforms.Resize(224),\n",
        "])"
      ]
    },
    {
      "cell_type": "markdown",
      "metadata": {},
      "source": [
        "The cell below executes the Uncertainty-based sampling algorithm (it should takes around 2min30)."
      ]
    },
    {
      "cell_type": "code",
      "execution_count": null,
      "metadata": {
        "id": "tbylvtfar603"
      },
      "outputs": [
        {
          "ename": "KeyboardInterrupt",
          "evalue": "",
          "output_type": "error",
          "traceback": [
            "\u001b[0;31m---------------------------------------------------------------------------\u001b[0m",
            "\u001b[0;31mKeyboardInterrupt\u001b[0m                         Traceback (most recent call last)",
            "Cell \u001b[0;32mIn[14], line 3\u001b[0m\n\u001b[1;32m      1\u001b[0m loss_function \u001b[38;5;241m=\u001b[39m nn\u001b[38;5;241m.\u001b[39mCrossEntropyLoss()\n\u001b[0;32m----> 3\u001b[0m trainset_UBS \u001b[38;5;241m=\u001b[39m \u001b[43muncertainty_based_sampling\u001b[49m\u001b[43m(\u001b[49m\n\u001b[1;32m      4\u001b[0m \u001b[43m    \u001b[49m\u001b[43mbatch\u001b[49m\u001b[38;5;241;43m=\u001b[39;49m\u001b[43mtrain_subset_UBS\u001b[49m\u001b[43m,\u001b[49m\n\u001b[1;32m      5\u001b[0m \u001b[43m    \u001b[49m\u001b[43mF_transformations\u001b[49m\u001b[38;5;241;43m=\u001b[39;49m\u001b[43mF_transformations\u001b[49m\u001b[43m,\u001b[49m\n\u001b[1;32m      6\u001b[0m \u001b[43m    \u001b[49m\u001b[43mG_default_transformations\u001b[49m\u001b[38;5;241;43m=\u001b[39;49m\u001b[43mG_default_transformations\u001b[49m\u001b[43m,\u001b[49m\n\u001b[1;32m      7\u001b[0m \u001b[43m    \u001b[49m\u001b[43mmodel\u001b[49m\u001b[38;5;241;43m=\u001b[39;49m\u001b[43mwrn_UBS\u001b[49m\u001b[43m,\u001b[49m\n\u001b[1;32m      8\u001b[0m \u001b[43m    \u001b[49m\u001b[43mloss_function\u001b[49m\u001b[38;5;241;43m=\u001b[39;49m\u001b[43mloss_function\u001b[49m\u001b[43m,\u001b[49m\n\u001b[1;32m      9\u001b[0m \u001b[43m    \u001b[49m\u001b[43mL\u001b[49m\u001b[38;5;241;43m=\u001b[39;49m\u001b[38;5;241;43m2\u001b[39;49m\u001b[43m,\u001b[49m\u001b[43m \u001b[49m\u001b[38;5;66;43;03m# the number of composition steps\u001b[39;49;00m\n\u001b[1;32m     10\u001b[0m \u001b[43m    \u001b[49m\u001b[43mC\u001b[49m\u001b[38;5;241;43m=\u001b[39;49m\u001b[38;5;241;43m10\u001b[39;49m\u001b[43m,\u001b[49m\u001b[43m \u001b[49m\u001b[38;5;66;43;03m# number of augmented data per input data\u001b[39;49;00m\n\u001b[1;32m     11\u001b[0m \u001b[43m    \u001b[49m\u001b[43mS\u001b[49m\u001b[38;5;241;43m=\u001b[39;49m\u001b[38;5;241;43m1\u001b[39;49m\u001b[43m,\u001b[49m\u001b[43m \u001b[49m\u001b[38;5;66;43;03m# number of selected data points used for training\u001b[39;49;00m\n\u001b[1;32m     12\u001b[0m \u001b[43m    \u001b[49m\u001b[43mdevice\u001b[49m\u001b[38;5;241;43m=\u001b[39;49m\u001b[43mdevice\u001b[49m\n\u001b[1;32m     13\u001b[0m \u001b[43m    \u001b[49m\u001b[43m)\u001b[49m\n",
            "File \u001b[0;32m~/SDD/automating_data_augmentation/generalization_effects.py:59\u001b[0m, in \u001b[0;36muncertainty_based_sampling\u001b[0;34m(batch, F_transformations, G_default_transformations, model, loss_function, L, C, S, device)\u001b[0m\n\u001b[1;32m     56\u001b[0m transform_pipeline = transforms.Compose(transforms_list)                \n\u001b[1;32m     57\u001b[0m transformed_img = transform_pipeline(transformed_img)\n\u001b[0;32m---> 59\u001b[0m # transformed_img = transforms.ToPILImage()(transformed_img) \n\u001b[1;32m     61\u001b[0m plt.imshow(transformed_img)\n\u001b[1;32m     63\u001b[0m transformed_img = G_default_transformations(transformed_img)\n",
            "File \u001b[0;32m~/SDD/automating_data_augmentation/generalization_effects.py:59\u001b[0m, in \u001b[0;36muncertainty_based_sampling\u001b[0;34m(batch, F_transformations, G_default_transformations, model, loss_function, L, C, S, device)\u001b[0m\n\u001b[1;32m     56\u001b[0m transform_pipeline = transforms.Compose(transforms_list)                \n\u001b[1;32m     57\u001b[0m transformed_img = transform_pipeline(transformed_img)\n\u001b[0;32m---> 59\u001b[0m # transformed_img = transforms.ToPILImage()(transformed_img) \n\u001b[1;32m     61\u001b[0m plt.imshow(transformed_img)\n\u001b[1;32m     63\u001b[0m transformed_img = G_default_transformations(transformed_img)\n",
            "File \u001b[0;32m_pydevd_bundle\\\\pydevd_cython.pyx:1697\u001b[0m, in \u001b[0;36m_pydevd_bundle.pydevd_cython.SafeCallWrapper.__call__\u001b[0;34m()\u001b[0m\n",
            "File \u001b[0;32m_pydevd_bundle\\\\pydevd_cython.pyx:634\u001b[0m, in \u001b[0;36m_pydevd_bundle.pydevd_cython.PyDBFrame.trace_dispatch\u001b[0;34m()\u001b[0m\n",
            "File \u001b[0;32m_pydevd_bundle\\\\pydevd_cython.pyx:1368\u001b[0m, in \u001b[0;36m_pydevd_bundle.pydevd_cython.PyDBFrame.trace_dispatch\u001b[0;34m()\u001b[0m\n",
            "File \u001b[0;32m_pydevd_bundle\\\\pydevd_cython.pyx:1311\u001b[0m, in \u001b[0;36m_pydevd_bundle.pydevd_cython.PyDBFrame.trace_dispatch\u001b[0;34m()\u001b[0m\n",
            "File \u001b[0;32m_pydevd_bundle\\\\pydevd_cython.pyx:494\u001b[0m, in \u001b[0;36m_pydevd_bundle.pydevd_cython.PyDBFrame.do_wait_suspend\u001b[0;34m()\u001b[0m\n",
            "File \u001b[0;32m~/miniconda3/envs/data_augmentation_env/lib/python3.9/site-packages/debugpy/_vendored/pydevd/pydevd.py:2185\u001b[0m, in \u001b[0;36mPyDB.do_wait_suspend\u001b[0;34m(self, thread, frame, event, arg, exception_type)\u001b[0m\n\u001b[1;32m   2182\u001b[0m             from_this_thread\u001b[38;5;241m.\u001b[39mappend(frame_custom_thread_id)\n\u001b[1;32m   2184\u001b[0m     \u001b[38;5;28;01mwith\u001b[39;00m \u001b[38;5;28mself\u001b[39m\u001b[38;5;241m.\u001b[39m_threads_suspended_single_notification\u001b[38;5;241m.\u001b[39mnotify_thread_suspended(thread_id, thread, stop_reason):\n\u001b[0;32m-> 2185\u001b[0m         keep_suspended \u001b[38;5;241m=\u001b[39m \u001b[38;5;28;43mself\u001b[39;49m\u001b[38;5;241;43m.\u001b[39;49m\u001b[43m_do_wait_suspend\u001b[49m\u001b[43m(\u001b[49m\u001b[43mthread\u001b[49m\u001b[43m,\u001b[49m\u001b[43m \u001b[49m\u001b[43mframe\u001b[49m\u001b[43m,\u001b[49m\u001b[43m \u001b[49m\u001b[43mevent\u001b[49m\u001b[43m,\u001b[49m\u001b[43m \u001b[49m\u001b[43marg\u001b[49m\u001b[43m,\u001b[49m\u001b[43m \u001b[49m\u001b[43mtrace_suspend_type\u001b[49m\u001b[43m,\u001b[49m\u001b[43m \u001b[49m\u001b[43mfrom_this_thread\u001b[49m\u001b[43m,\u001b[49m\u001b[43m \u001b[49m\u001b[43mframes_tracker\u001b[49m\u001b[43m)\u001b[49m\n\u001b[1;32m   2187\u001b[0m frames_list \u001b[38;5;241m=\u001b[39m \u001b[38;5;28;01mNone\u001b[39;00m\n\u001b[1;32m   2189\u001b[0m \u001b[38;5;28;01mif\u001b[39;00m keep_suspended:\n\u001b[1;32m   2190\u001b[0m     \u001b[38;5;66;03m# This means that we should pause again after a set next statement.\u001b[39;00m\n",
            "File \u001b[0;32m~/miniconda3/envs/data_augmentation_env/lib/python3.9/site-packages/debugpy/_vendored/pydevd/pydevd.py:2254\u001b[0m, in \u001b[0;36mPyDB._do_wait_suspend\u001b[0;34m(self, thread, frame, event, arg, trace_suspend_type, from_this_thread, frames_tracker)\u001b[0m\n\u001b[1;32m   2251\u001b[0m                 queue\u001b[38;5;241m.\u001b[39mput(internal_cmd)\n\u001b[1;32m   2252\u001b[0m                 wait_timeout \u001b[38;5;241m=\u001b[39m TIMEOUT_FAST\n\u001b[0;32m-> 2254\u001b[0m         \u001b[43mnotify_event\u001b[49m\u001b[38;5;241;43m.\u001b[39;49m\u001b[43mwait\u001b[49m\u001b[43m(\u001b[49m\u001b[43mwait_timeout\u001b[49m\u001b[43m)\u001b[49m\n\u001b[1;32m   2255\u001b[0m         notify_event\u001b[38;5;241m.\u001b[39mclear()\n\u001b[1;32m   2257\u001b[0m \u001b[38;5;28;01mfinally\u001b[39;00m:\n",
            "File \u001b[0;32m~/miniconda3/envs/data_augmentation_env/lib/python3.9/threading.py:581\u001b[0m, in \u001b[0;36mEvent.wait\u001b[0;34m(self, timeout)\u001b[0m\n\u001b[1;32m    579\u001b[0m signaled \u001b[38;5;241m=\u001b[39m \u001b[38;5;28mself\u001b[39m\u001b[38;5;241m.\u001b[39m_flag\n\u001b[1;32m    580\u001b[0m \u001b[38;5;28;01mif\u001b[39;00m \u001b[38;5;129;01mnot\u001b[39;00m signaled:\n\u001b[0;32m--> 581\u001b[0m     signaled \u001b[38;5;241m=\u001b[39m \u001b[38;5;28;43mself\u001b[39;49m\u001b[38;5;241;43m.\u001b[39;49m\u001b[43m_cond\u001b[49m\u001b[38;5;241;43m.\u001b[39;49m\u001b[43mwait\u001b[49m\u001b[43m(\u001b[49m\u001b[43mtimeout\u001b[49m\u001b[43m)\u001b[49m\n\u001b[1;32m    582\u001b[0m \u001b[38;5;28;01mreturn\u001b[39;00m signaled\n",
            "File \u001b[0;32m~/miniconda3/envs/data_augmentation_env/lib/python3.9/threading.py:316\u001b[0m, in \u001b[0;36mCondition.wait\u001b[0;34m(self, timeout)\u001b[0m\n\u001b[1;32m    314\u001b[0m \u001b[38;5;28;01melse\u001b[39;00m:\n\u001b[1;32m    315\u001b[0m     \u001b[38;5;28;01mif\u001b[39;00m timeout \u001b[38;5;241m>\u001b[39m \u001b[38;5;241m0\u001b[39m:\n\u001b[0;32m--> 316\u001b[0m         gotit \u001b[38;5;241m=\u001b[39m \u001b[43mwaiter\u001b[49m\u001b[38;5;241;43m.\u001b[39;49m\u001b[43macquire\u001b[49m\u001b[43m(\u001b[49m\u001b[38;5;28;43;01mTrue\u001b[39;49;00m\u001b[43m,\u001b[49m\u001b[43m \u001b[49m\u001b[43mtimeout\u001b[49m\u001b[43m)\u001b[49m\n\u001b[1;32m    317\u001b[0m     \u001b[38;5;28;01melse\u001b[39;00m:\n\u001b[1;32m    318\u001b[0m         gotit \u001b[38;5;241m=\u001b[39m waiter\u001b[38;5;241m.\u001b[39macquire(\u001b[38;5;28;01mFalse\u001b[39;00m)\n",
            "\u001b[0;31mKeyboardInterrupt\u001b[0m: "
          ]
        }
      ],
      "source": [
        "loss_function = nn.CrossEntropyLoss()\n",
        "\n",
        "# Uncertainty-based sampling\n",
        "trainset_UBS = uncertainty_based_sampling(\n",
        "    batch=train_subset_UBS,\n",
        "    F_transformations=F_transformations,\n",
        "    G_default_transformations=G_default_transformations,\n",
        "    model=wrn_UBS,\n",
        "    loss_function=loss_function,\n",
        "    L=2, # the number of composition steps\n",
        "    C=10, # number of augmented data per input data\n",
        "    S=1, # number of selected data points used for training\n",
        "    device=device\n",
        "    )"
      ]
    },
    {
      "cell_type": "markdown",
      "metadata": {},
      "source": [
        "Let us visualize the kind of augmentations that the UBS has selected."
      ]
    },
    {
      "cell_type": "code",
      "execution_count": 17,
      "metadata": {
        "colab": {
          "base_uri": "https://localhost:8080/",
          "height": 170
        },
        "id": "5BcwNZea0Nov",
        "outputId": "11f5e22b-c049-4a0c-e8b4-cdaec128d158"
      },
      "outputs": [
        {
          "ename": "NameError",
          "evalue": "name 'trainset_UBS' is not defined",
          "output_type": "error",
          "traceback": [
            "\u001b[0;31m---------------------------------------------------------------------------\u001b[0m",
            "\u001b[0;31mNameError\u001b[0m                                 Traceback (most recent call last)",
            "Cell \u001b[0;32mIn[17], line 1\u001b[0m\n\u001b[0;32m----> 1\u001b[0m utils\u001b[38;5;241m.\u001b[39mplot_images(dataset\u001b[38;5;241m=\u001b[39m\u001b[43mtrainset_UBS\u001b[49m, n_images\u001b[38;5;241m=\u001b[39m\u001b[38;5;241m5\u001b[39m)\n",
            "\u001b[0;31mNameError\u001b[0m: name 'trainset_UBS' is not defined"
          ]
        }
      ],
      "source": [
        "utils.plot_images(dataset=trainset_UBS, n_images=5)"
      ]
    },
    {
      "cell_type": "code",
      "execution_count": null,
      "metadata": {
        "colab": {
          "base_uri": "https://localhost:8080/"
        },
        "id": "AzI2awxksmFv",
        "outputId": "1e6e4655-6e7b-44ef-fb00-84e643fdaa80"
      },
      "outputs": [
        {
          "name": "stdout",
          "output_type": "stream",
          "text": [
            "Training set length : 800.\n",
            "Validation set length : 200.\n"
          ]
        }
      ],
      "source": [
        "# Training set\n",
        "train_loader_UBS, val_loader_UBS = get_trainloader_valloader(dataset=trainset_UBS,\n",
        "                                                           split=0.8,\n",
        "                                                           batch_size=32)"
      ]
    },
    {
      "cell_type": "code",
      "execution_count": null,
      "metadata": {
        "id": "U2rs98dxsmFw"
      },
      "outputs": [],
      "source": [
        "optimizer = optim.Adam(wrn_UBS.fc.parameters(), lr=0.0000001)\n",
        "scheduler = optim.lr_scheduler.CosineAnnealingLR(optimizer, T_max=200)\n",
        "criterion = nn.CrossEntropyLoss()"
      ]
    },
    {
      "cell_type": "code",
      "execution_count": null,
      "metadata": {
        "id": "MbZfVFxdsmFw"
      },
      "outputs": [],
      "source": [
        "# Set the parameters for the early stopping\n",
        "# Useful if you decide to train the model for more than 5 epochs\n",
        "patience = 5\n",
        "min_delta_loss = 0.001\n",
        "min_delta_accuracy = 0.1"
      ]
    },
    {
      "cell_type": "code",
      "execution_count": null,
      "metadata": {
        "colab": {
          "base_uri": "https://localhost:8080/",
          "height": 698
        },
        "id": "wBtcQSbVsmFw",
        "outputId": "b069f1ae-7b8c-47c9-86fd-32c4562f4093"
      },
      "outputs": [
        {
          "name": "stderr",
          "output_type": "stream",
          "text": []
        },
        {
          "name": "stdout",
          "output_type": "stream",
          "text": [
            "Epoch 1: Loss=2.2440, Accuracy=34.00%, Val Loss=2.5929, Val Accuracy=28.00%\n",
            "Epoch 1: Loss=2.2440, Accuracy=34.00%\n"
          ]
        },
        {
          "name": "stderr",
          "output_type": "stream",
          "text": []
        },
        {
          "name": "stdout",
          "output_type": "stream",
          "text": [
            "Epoch 2: Loss=2.2803, Accuracy=33.12%, Val Loss=2.0879, Val Accuracy=36.50%\n",
            "Epoch 2: Loss=2.2803, Accuracy=33.12%\n"
          ]
        },
        {
          "name": "stderr",
          "output_type": "stream",
          "text": []
        },
        {
          "name": "stdout",
          "output_type": "stream",
          "text": [
            "Epoch 3: Loss=2.2529, Accuracy=33.88%, Val Loss=2.2331, Val Accuracy=39.50%\n",
            "Epoch 3: Loss=2.2529, Accuracy=33.88%\n"
          ]
        },
        {
          "name": "stderr",
          "output_type": "stream",
          "text": []
        },
        {
          "name": "stdout",
          "output_type": "stream",
          "text": [
            "Epoch 4: Loss=2.1697, Accuracy=34.75%, Val Loss=2.1621, Val Accuracy=36.50%\n",
            "Epoch 4: Loss=2.1697, Accuracy=34.75%\n"
          ]
        },
        {
          "name": "stderr",
          "output_type": "stream",
          "text": []
        },
        {
          "name": "stdout",
          "output_type": "stream",
          "text": [
            "Epoch 5: Loss=2.2582, Accuracy=32.38%, Val Loss=2.0987, Val Accuracy=36.50%\n",
            "Epoch 5: Loss=2.2582, Accuracy=32.38%\n",
            "Training complete!\n"
          ]
        },
        {
          "data": {
            "image/png": "[encoded data removed]",
            "text/plain": [
              "<Figure size 1000x500 with 2 Axes>"
            ]
          },
          "metadata": {},
          "output_type": "display_data"
        }
      ],
      "source": [
        "# TRAINING on the augmented data\n",
        "wrn_trained_UBS = utils.train_WideResNet(model=wrn_UBS, trainloader=train_loader_UBS, patience=patience,\n",
        "                                         valloader=val_loader_UBS, num_epochs=5, batch_size=32,\n",
        "                                         optimizer=optimizer, criterion=criterion, device=device, scheduler=scheduler,\n",
        "                                         min_delta_accuracy=min_delta_accuracy, min_delta_loss=min_delta_loss)"
      ]
    },
    {
      "cell_type": "markdown",
      "metadata": {},
      "source": [
        "The training hardly tells us if the model learnt anything valuable. Let us evaluate its performance on the test dataset."
      ]
    },
    {
      "cell_type": "code",
      "execution_count": 167,
      "metadata": {
        "colab": {
          "base_uri": "https://localhost:8080/"
        },
        "id": "TMGKqc9VsmFx",
        "outputId": "e4adf12e-6b23-4320-9347-d980cb362510"
      },
      "outputs": [
        {
          "name": "stdout",
          "output_type": "stream",
          "text": [
            "Accuracy: 8.50%\n",
            "Taux d'erreur: 91.50%\n"
          ]
        },
        {
          "data": {
            "text/plain": [
              "(0.085, 0.915)"
            ]
          },
          "execution_count": 167,
          "metadata": {},
          "output_type": "execute_result"
        }
      ],
      "source": [
        "utils.evaluate(wrn_trained_UBS, test_loader, device)"
      ]
    },
    {
      "cell_type": "markdown",
      "metadata": {},
      "source": [
        "The generalization seems not to have improved. This is likely due to the behaviour of the UBS algorithm : it keeps the augmentations with which the model is the most uncertain. The transformations are maybe still too intense for the model to improve.\n",
        "\n",
        "Maybe, you even got a model whose performance is poorer than before, it is likely due to the phenomenon of catastrophic forgetting : the model learns too much on the new augmented data and the update of its weights are too important; leading to the forgetting of its past training.\n",
        "\n",
        "💡Try reducing the learning rate or training the model on a dataset composed of raw data **and** augmented data from the Uncertainty-based algorithm."
      ]
    },
    {
      "cell_type": "markdown",
      "metadata": {},
      "source": [
        "# Other automated augmentation techniques"
      ]
    },
    {
      "cell_type": "markdown",
      "metadata": {},
      "source": [
        "In this notebook, we went through three methods for automating data augmentation:  \n",
        "- **RandAugment**  \n",
        "- **AutoAugment**  \n",
        "- **Uncertainty-Based Sampling**  \n",
        "\n",
        "However, there are many other methods that can further enhance model performance. Techniques like **Mixup, CutMix, and AugMix** introduce novel ways of augmenting data by mixing samples or enforcing consistency across transformations. Additionally, **learned augmentation policies** and **generative approaches** (such as adversarial augmentation with GANs) continue to push the boundaries of automated augmentation.  \n",
        "\n",
        "Choosing the right augmentation strategy depends on the dataset, model, and task at hand. Experimentation and adaptation remain crucial for finding the most effective approach to improving generalization and robustness.\n"
      ]
    },
    {
      "cell_type": "markdown",
      "metadata": {},
      "source": [
        "# Bibliography"
      ]
    },
    {
      "cell_type": "markdown",
      "metadata": {},
      "source": [
        "**Uncertainty based sampling**\n",
        "    https://arxiv.org/abs/2005.00695\n",
        "\n",
        "**RandAugment**\n",
        "    https://arxiv.org/abs/1909.13719\n",
        "\n",
        "**AutoAugment**\n",
        "    https://arxiv.org/abs/1805.09501\n",
        "    \n",
        "**The Stanford AI lab**\n",
        "    https://ai.stanford.edu/blog/data-augmentation/\n",
        "\n"
      ]
    }
  ],
  "metadata": {
    "accelerator": "GPU",
    "colab": {
      "gpuType": "T4",
      "provenance": []
    },
    "kernelspec": {
      "display_name": "data_augmentation_env",
      "language": "python",
      "name": "python3"
    },
    "language_info": {
      "codemirror_mode": {
        "name": "ipython",
        "version": 3
      },
      "file_extension": ".py",
      "mimetype": "text/x-python",
      "name": "python",
      "nbconvert_exporter": "python",
      "pygments_lexer": "ipython3",
      "version": "3.9.21"
    }
  },
  "nbformat": 4,
  "nbformat_minor": 0
}
