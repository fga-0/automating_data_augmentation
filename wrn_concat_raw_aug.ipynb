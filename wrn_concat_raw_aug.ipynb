{
  "cells": [
    {
      "cell_type": "markdown",
      "metadata": {
        "id": "LEAf7Qc_Mbeq"
      },
      "source": [
        "[![Open In Colab](https://colab.research.google.com/assets/colab-badge.svg)](https://colab.research.google.com/github/fga-0/automating_data_augmentation/blob/main/wrn_concat_raw_aug.ipynb)"
      ]
    },
    {
      "cell_type": "code",
      "execution_count": 1,
      "metadata": {
        "id": "alMWTxTHMber",
        "outputId": "3c946adf-0662-4b3f-f796-acdba62431f1",
        "colab": {
          "base_uri": "https://localhost:8080/"
        }
      },
      "outputs": [
        {
          "output_type": "execute_result",
          "data": {
            "text/plain": [
              "<module 'utils' from '/content/utils.py'>"
            ]
          },
          "metadata": {},
          "execution_count": 1
        }
      ],
      "source": [
        "import matplotlib.pyplot as plt\n",
        "import numpy as np\n",
        "\n",
        "import tensorflow as tf\n",
        "import torchvision\n",
        "import torchvision.transforms as transforms\n",
        "import torchvision.datasets as datasets\n",
        "import torch\n",
        "from torch.utils.data import DataLoader, Subset\n",
        "import torch.nn as nn\n",
        "import torch.optim as optim\n",
        "\n",
        "import utils\n",
        "import importlib\n",
        "importlib.reload(utils)"
      ]
    },
    {
      "cell_type": "code",
      "execution_count": 2,
      "metadata": {
        "id": "ODRZysdxMbes"
      },
      "outputs": [],
      "source": [
        "from torchvision.transforms import AutoAugment, AutoAugmentPolicy"
      ]
    },
    {
      "cell_type": "code",
      "execution_count": 3,
      "metadata": {
        "id": "Sbne2KoeMbes",
        "outputId": "fdc37f51-0ecc-4685-cb86-46330f93b1cb",
        "colab": {
          "base_uri": "https://localhost:8080/"
        }
      },
      "outputs": [
        {
          "output_type": "stream",
          "name": "stdout",
          "text": [
            "Drive already mounted at /content/drive; to attempt to forcibly remount, call drive.mount(\"/content/drive\", force_remount=True).\n"
          ]
        }
      ],
      "source": [
        "from google.colab import drive\n",
        "drive.mount('/content/drive')\n",
        "path_to_data = \"drive/MyDrive/SDD/data_augmentation/cifar10\""
      ]
    },
    {
      "cell_type": "code",
      "execution_count": 4,
      "metadata": {
        "id": "l41qRapTMbes",
        "outputId": "e1330131-acf1-49c4-ea0f-22b7a4fcf36f",
        "colab": {
          "base_uri": "https://localhost:8080/"
        }
      },
      "outputs": [
        {
          "output_type": "stream",
          "name": "stdout",
          "text": [
            "Files already downloaded and verified\n",
            "Files already downloaded and verified\n",
            "Files already downloaded and verified\n"
          ]
        }
      ],
      "source": [
        "transform_augment = transforms.Compose([\n",
        "    transforms.Resize(224),\n",
        "    AutoAugment(AutoAugmentPolicy.CIFAR10),\n",
        "    transforms.ToTensor(),\n",
        "    transforms.Normalize(mean=[0.485, 0.456, 0.406], std=[0.229, 0.224, 0.225]),\n",
        "])\n",
        "\n",
        "transform = transforms.Compose([\n",
        "    transforms.Resize(224),\n",
        "    transforms.ToTensor(),\n",
        "    transforms.Normalize(mean=[0.485, 0.456, 0.406], std=[0.229, 0.224, 0.225]),  # ImageNet normalization\n",
        "    # transforms.Normalize((0.5,), (0.5,))\n",
        "])\n",
        "\n",
        "trainset = torchvision.datasets.CIFAR10(root=path_to_data, train=True, download=True, transform=transform)\n",
        "trainset_aug = torchvision.datasets.CIFAR10(root=path_to_data, train=True, download=True, transform=transform_augment)\n",
        "testset = torchvision.datasets.CIFAR10(root=path_to_data, train=False, download=True, transform=transform)"
      ]
    },
    {
      "cell_type": "code",
      "execution_count": 5,
      "metadata": {
        "id": "s36kZLl5Mbes",
        "outputId": "714c5256-b746-4ed7-d52a-64f7edafa945",
        "colab": {
          "base_uri": "https://localhost:8080/"
        }
      },
      "outputs": [
        {
          "output_type": "stream",
          "name": "stdout",
          "text": [
            "Training samples: 500\n",
            "Test samples: 100\n",
            "Training samples: 1000\n",
            "Test samples: 200\n"
          ]
        }
      ],
      "source": [
        "train_subset_aug, test_subset_aug = utils.get_subset(trainset=trainset_aug, testset=testset, percentage=0.01)\n",
        "\n",
        "train_subset, test_subset = utils.get_subset(trainset=trainset, testset=testset, percentage=0.02)"
      ]
    },
    {
      "cell_type": "code",
      "execution_count": 6,
      "metadata": {
        "id": "DZDsqeDPMbes"
      },
      "outputs": [],
      "source": [
        "from torch.utils.data import ConcatDataset"
      ]
    },
    {
      "cell_type": "code",
      "execution_count": 7,
      "metadata": {
        "id": "YH6o56J7Mbes"
      },
      "outputs": [],
      "source": [
        "train_subset_raw_and_AA_CIFAR = ConcatDataset([train_subset, train_subset_aug])\n",
        "train_loader_AA_CIFAR = DataLoader(train_subset_raw_and_AA_CIFAR, batch_size=32, shuffle=True, num_workers=2)\n",
        "\n",
        "# test_loader_AA_CIFAR = DataLoader(test_subset, batch_size=32, shuffle=False, num_workers=2) # inutile d'utiliser ce test loader ?\n",
        "test_loader = DataLoader(test_subset, batch_size=32, shuffle=False)"
      ]
    },
    {
      "cell_type": "code",
      "source": [
        "from torchvision.models import wide_resnet50_2\n",
        "device = torch.device(\"cuda\" if torch.cuda.is_available() else \"cpu\")"
      ],
      "metadata": {
        "id": "7xRjVQUlWnKf"
      },
      "execution_count": 9,
      "outputs": []
    },
    {
      "cell_type": "code",
      "execution_count": 16,
      "metadata": {
        "id": "QvFhGTU5Mbet",
        "outputId": "f2cb1603-fb4e-4546-ad6b-39f37d9cef4e",
        "colab": {
          "base_uri": "https://localhost:8080/"
        }
      },
      "outputs": [
        {
          "output_type": "stream",
          "name": "stdout",
          "text": [
            "Linear(in_features=2048, out_features=10, bias=True)\n",
            "Using device: cuda\n"
          ]
        }
      ],
      "source": [
        "# Load Wide ResNet model\n",
        "# wrn = wide_resnet50_2(num_classes=10)  # CIFAR-10 has 10 classes\n",
        "\n",
        "# Load a pre-trained Wide ResNet-50-2 model:\n",
        "wrn = wide_resnet50_2(weights='DEFAULT')\n",
        "# Freeze all model parameters except for the final layer:\n",
        "for param in wrn.parameters():\n",
        "    param.requires_grad = False\n",
        "# Get the number of input features for the original last layer:\n",
        "num_feature = wrn.fc.in_features\n",
        "# Replace the final classification layer to match your dataset:\n",
        "wrn.fc = nn.Linear(num_feature, 10)\n",
        "# View the structure of the new final layer (optional):\n",
        "print(wrn.fc)\n",
        "# Move the model to the GPU for accelerated training:\n",
        "wrn = wrn.to(device)\n",
        "\n",
        "print(f\"Using device: {device}\")"
      ]
    },
    {
      "cell_type": "code",
      "execution_count": 17,
      "metadata": {
        "id": "s-qEXaEIMbet"
      },
      "outputs": [],
      "source": [
        "criterion = nn.CrossEntropyLoss()"
      ]
    },
    {
      "cell_type": "code",
      "source": [
        "optimizer = optim.Adam(wrn.fc.parameters(), lr=0.001)\n",
        "# Learning rate scheduler for better convergence\n",
        "scheduler = optim.lr_scheduler.CosineAnnealingLR(optimizer, T_max=200)"
      ],
      "metadata": {
        "id": "hd_kFJeQW7ZN"
      },
      "execution_count": 18,
      "outputs": []
    },
    {
      "cell_type": "code",
      "execution_count": 19,
      "metadata": {
        "id": "OIeQjWxvMbet",
        "outputId": "70508979-a94f-4bd4-db12-f9da3fc77940",
        "colab": {
          "base_uri": "https://localhost:8080/"
        }
      },
      "outputs": [
        {
          "output_type": "stream",
          "name": "stderr",
          "text": []
        },
        {
          "output_type": "stream",
          "name": "stdout",
          "text": [
            "Epoch 1: Loss=1.8184, Accuracy=45.20%\n"
          ]
        },
        {
          "output_type": "stream",
          "name": "stderr",
          "text": []
        },
        {
          "output_type": "stream",
          "name": "stdout",
          "text": [
            "Epoch 2: Loss=1.2103, Accuracy=69.93%\n"
          ]
        },
        {
          "output_type": "stream",
          "name": "stderr",
          "text": []
        },
        {
          "output_type": "stream",
          "name": "stdout",
          "text": [
            "Epoch 3: Loss=0.9732, Accuracy=74.60%\n"
          ]
        },
        {
          "output_type": "stream",
          "name": "stderr",
          "text": []
        },
        {
          "output_type": "stream",
          "name": "stdout",
          "text": [
            "Epoch 4: Loss=0.8960, Accuracy=74.53%\n"
          ]
        },
        {
          "output_type": "stream",
          "name": "stderr",
          "text": [
            "                                                                                   "
          ]
        },
        {
          "output_type": "stream",
          "name": "stdout",
          "text": [
            "Epoch 5: Loss=0.7931, Accuracy=76.80%\n",
            "Training complete!\n"
          ]
        },
        {
          "output_type": "stream",
          "name": "stderr",
          "text": [
            "\r"
          ]
        }
      ],
      "source": [
        "wrn_trained_on_raw_AND_augmented_data = utils.train_WideResNet(model=wrn, trainloader=train_loader_AA_CIFAR, num_epochs=5, batch_size=32, optimizer=optimizer, criterion=criterion, device=device, scheduler=scheduler)"
      ]
    },
    {
      "cell_type": "code",
      "execution_count": 20,
      "metadata": {
        "id": "bxgV-N3VMbet",
        "outputId": "e78b401a-c778-4d1d-cc8f-8c477847ecfc",
        "colab": {
          "base_uri": "https://localhost:8080/"
        }
      },
      "outputs": [
        {
          "output_type": "stream",
          "name": "stdout",
          "text": [
            "Accuracy: 78.50%\n",
            "Taux d'erreur: 21.50%\n"
          ]
        },
        {
          "output_type": "execute_result",
          "data": {
            "text/plain": [
              "(0.785, 0.21499999999999997)"
            ]
          },
          "metadata": {},
          "execution_count": 20
        }
      ],
      "source": [
        "utils.evaluate(wrn_trained_on_raw_AND_augmented_data, test_loader, device)"
      ]
    },
    {
      "cell_type": "markdown",
      "source": [
        "# WRN RAW"
      ],
      "metadata": {
        "id": "aAD_QygHOzL-"
      }
    },
    {
      "cell_type": "code",
      "source": [
        "# Load a pre-trained Wide ResNet-50-2 model:\n",
        "wrn_raw = wide_resnet50_2(weights='DEFAULT')\n",
        "# Freeze all model parameters except for the final layer:\n",
        "for param in wrn_raw.parameters():\n",
        "    param.requires_grad = False\n",
        "# Get the number of input features for the original last layer:\n",
        "num_feature = wrn_raw.fc.in_features\n",
        "# Replace the final classification layer to match your dataset:\n",
        "wrn_raw.fc = nn.Linear(num_feature, 10)\n",
        "# View the structure of the new final layer (optional):\n",
        "print(wrn_raw.fc)\n",
        "# Move the model to the GPU for accelerated training:\n",
        "wrn_raw = wrn_raw.to(device)"
      ],
      "metadata": {
        "id": "40WIvfIoNTOM",
        "outputId": "03ed6c73-cd1f-420e-c19a-e830ad1621a9",
        "colab": {
          "base_uri": "https://localhost:8080/"
        }
      },
      "execution_count": 12,
      "outputs": [
        {
          "output_type": "stream",
          "name": "stdout",
          "text": [
            "Linear(in_features=2048, out_features=10, bias=True)\n"
          ]
        }
      ]
    },
    {
      "cell_type": "code",
      "source": [
        "optimizer = optim.Adam(wrn_raw.fc.parameters(), lr=0.001)\n",
        "scheduler = optim.lr_scheduler.CosineAnnealingLR(optimizer, T_max=200)"
      ],
      "metadata": {
        "id": "SMnHYYYVW13-"
      },
      "execution_count": 13,
      "outputs": []
    },
    {
      "cell_type": "code",
      "source": [
        "train_loader = DataLoader(train_subset, batch_size=32, shuffle=False)\n",
        "wrn_trained_on_raw_data = utils.train_WideResNet(model=wrn_raw, trainloader=train_loader, num_epochs=5, batch_size=32, optimizer=optimizer, criterion=criterion, device=device, scheduler=scheduler)"
      ],
      "metadata": {
        "id": "GVBbh6zHPAPL",
        "outputId": "e49040c6-08ee-4f2d-b6f9-95a17466ce64",
        "colab": {
          "base_uri": "https://localhost:8080/"
        }
      },
      "execution_count": 14,
      "outputs": [
        {
          "output_type": "stream",
          "name": "stderr",
          "text": []
        },
        {
          "output_type": "stream",
          "name": "stdout",
          "text": [
            "Epoch 1: Loss=1.9902, Accuracy=34.90%\n"
          ]
        },
        {
          "output_type": "stream",
          "name": "stderr",
          "text": []
        },
        {
          "output_type": "stream",
          "name": "stdout",
          "text": [
            "Epoch 2: Loss=1.3392, Accuracy=69.80%\n"
          ]
        },
        {
          "output_type": "stream",
          "name": "stderr",
          "text": []
        },
        {
          "output_type": "stream",
          "name": "stdout",
          "text": [
            "Epoch 3: Loss=1.0346, Accuracy=77.60%\n"
          ]
        },
        {
          "output_type": "stream",
          "name": "stderr",
          "text": []
        },
        {
          "output_type": "stream",
          "name": "stdout",
          "text": [
            "Epoch 4: Loss=0.8499, Accuracy=82.30%\n"
          ]
        },
        {
          "output_type": "stream",
          "name": "stderr",
          "text": [
            "                                                                                   "
          ]
        },
        {
          "output_type": "stream",
          "name": "stdout",
          "text": [
            "Epoch 5: Loss=0.7218, Accuracy=85.40%\n",
            "Training complete!\n"
          ]
        },
        {
          "output_type": "stream",
          "name": "stderr",
          "text": [
            "\r"
          ]
        }
      ]
    },
    {
      "cell_type": "code",
      "source": [
        "utils.evaluate(wrn_trained_on_raw_data, test_loader, device)"
      ],
      "metadata": {
        "id": "SEk3u7FKWO_j",
        "outputId": "519ffb7c-124a-457d-cc56-c88937b66a6d",
        "colab": {
          "base_uri": "https://localhost:8080/"
        }
      },
      "execution_count": 15,
      "outputs": [
        {
          "output_type": "stream",
          "name": "stdout",
          "text": [
            "Accuracy: 62.50%\n",
            "Taux d'erreur: 37.50%\n"
          ]
        },
        {
          "output_type": "execute_result",
          "data": {
            "text/plain": [
              "(0.625, 0.375)"
            ]
          },
          "metadata": {},
          "execution_count": 15
        }
      ]
    },
    {
      "cell_type": "code",
      "source": [],
      "metadata": {
        "id": "mk4GVqc_PXKj"
      },
      "execution_count": null,
      "outputs": []
    }
  ],
  "metadata": {
    "kernelspec": {
      "display_name": "Python 3",
      "name": "python3"
    },
    "language_info": {
      "name": "python",
      "version": "3.9.21"
    },
    "colab": {
      "provenance": [],
      "gpuType": "T4"
    },
    "accelerator": "GPU"
  },
  "nbformat": 4,
  "nbformat_minor": 0
}